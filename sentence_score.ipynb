{
  "cells": [
    {
      "attachments": {},
      "cell_type": "markdown",
      "metadata": {},
      "source": [
        "This notebook will operate on the created datasets to:\n",
        "1. Filter sentence-pairs based on edit distance. Only sentences for which the log probability of the counterfactual sentence does not decrease by more than 10 points relative to the original sentence are kept.\n",
        "\n",
        "2. Perform blanking/masking based on a fixed strategy. Keep common words in both sentences unmasked as long as they also appear in the same order in both sentences and create a prompt that can adequately represent both the original sentence and the counterfactual, were the blanks to be filled.\n",
        "\n",
        "3. Create final dataset by merging original sentence with the masked version and control-code token.\n",
        "\n",
        "4. Finetune IndicBART on this dataset."
      ]
    },
    {
      "attachments": {},
      "cell_type": "markdown",
      "metadata": {},
      "source": [
        "Install necessary libraries"
      ]
    },
    {
      "cell_type": "code",
      "execution_count": 1,
      "metadata": {
        "colab": {
          "base_uri": "https://localhost:8080/"
        },
        "id": "2ZHd3CDSgMwq",
        "outputId": "1b564715-9814-4ba8-82bd-b16923afeba2"
      },
      "outputs": [
        {
          "name": "stdout",
          "output_type": "stream",
          "text": [
            "Looking in indexes: https://pypi.org/simple, https://us-python.pkg.dev/colab-wheels/public/simple/\n",
            "Collecting transformers\n",
            "  Downloading transformers-4.27.4-py3-none-any.whl (6.8 MB)\n",
            "\u001b[2K     \u001b[90m━━━━━━━━━━━━━━━━━━━━━━━━━━━━━━━━━━━━━━━━\u001b[0m \u001b[32m6.8/6.8 MB\u001b[0m \u001b[31m32.0 MB/s\u001b[0m eta \u001b[36m0:00:00\u001b[0m\n",
            "\u001b[?25hRequirement already satisfied: numpy>=1.17 in /usr/local/lib/python3.9/dist-packages (from transformers) (1.22.4)\n",
            "Requirement already satisfied: regex!=2019.12.17 in /usr/local/lib/python3.9/dist-packages (from transformers) (2022.10.31)\n",
            "Requirement already satisfied: packaging>=20.0 in /usr/local/lib/python3.9/dist-packages (from transformers) (23.0)\n",
            "Requirement already satisfied: pyyaml>=5.1 in /usr/local/lib/python3.9/dist-packages (from transformers) (6.0)\n",
            "Requirement already satisfied: tqdm>=4.27 in /usr/local/lib/python3.9/dist-packages (from transformers) (4.65.0)\n",
            "Collecting tokenizers!=0.11.3,<0.14,>=0.11.1\n",
            "  Downloading tokenizers-0.13.2-cp39-cp39-manylinux_2_17_x86_64.manylinux2014_x86_64.whl (7.6 MB)\n",
            "\u001b[2K     \u001b[90m━━━━━━━━━━━━━━━━━━━━━━━━━━━━━━━━━━━━━━━━\u001b[0m \u001b[32m7.6/7.6 MB\u001b[0m \u001b[31m82.8 MB/s\u001b[0m eta \u001b[36m0:00:00\u001b[0m\n",
            "\u001b[?25hRequirement already satisfied: filelock in /usr/local/lib/python3.9/dist-packages (from transformers) (3.10.7)\n",
            "Collecting huggingface-hub<1.0,>=0.11.0\n",
            "  Downloading huggingface_hub-0.13.3-py3-none-any.whl (199 kB)\n",
            "\u001b[2K     \u001b[90m━━━━━━━━━━━━━━━━━━━━━━━━━━━━━━━━━━━━━━\u001b[0m \u001b[32m199.8/199.8 KB\u001b[0m \u001b[31m22.0 MB/s\u001b[0m eta \u001b[36m0:00:00\u001b[0m\n",
            "\u001b[?25hRequirement already satisfied: requests in /usr/local/lib/python3.9/dist-packages (from transformers) (2.27.1)\n",
            "Requirement already satisfied: typing-extensions>=3.7.4.3 in /usr/local/lib/python3.9/dist-packages (from huggingface-hub<1.0,>=0.11.0->transformers) (4.5.0)\n",
            "Requirement already satisfied: idna<4,>=2.5 in /usr/local/lib/python3.9/dist-packages (from requests->transformers) (3.4)\n",
            "Requirement already satisfied: certifi>=2017.4.17 in /usr/local/lib/python3.9/dist-packages (from requests->transformers) (2022.12.7)\n",
            "Requirement already satisfied: charset-normalizer~=2.0.0 in /usr/local/lib/python3.9/dist-packages (from requests->transformers) (2.0.12)\n",
            "Requirement already satisfied: urllib3<1.27,>=1.21.1 in /usr/local/lib/python3.9/dist-packages (from requests->transformers) (1.26.15)\n",
            "Installing collected packages: tokenizers, huggingface-hub, transformers\n",
            "Successfully installed huggingface-hub-0.13.3 tokenizers-0.13.2 transformers-4.27.4\n",
            "Looking in indexes: https://pypi.org/simple, https://us-python.pkg.dev/colab-wheels/public/simple/\n",
            "Collecting sentencepiece==0.1.95\n",
            "  Downloading sentencepiece-0.1.95-cp39-cp39-manylinux2014_x86_64.whl (1.2 MB)\n",
            "\u001b[2K     \u001b[90m━━━━━━━━━━━━━━━━━━━━━━━━━━━━━━━━━━━━━━━━\u001b[0m \u001b[32m1.2/1.2 MB\u001b[0m \u001b[31m16.0 MB/s\u001b[0m eta \u001b[36m0:00:00\u001b[0m\n",
            "\u001b[?25hInstalling collected packages: sentencepiece\n",
            "Successfully installed sentencepiece-0.1.95\n",
            "Looking in indexes: https://pypi.org/simple, https://us-python.pkg.dev/colab-wheels/public/simple/\n",
            "Requirement already satisfied: numpy in /usr/local/lib/python3.9/dist-packages (1.22.4)\n"
          ]
        }
      ],
      "source": [
        "!pip install transformers\n",
        "!pip install sentencepiece==0.1.95\n",
        "!pip install numpy"
      ]
    },
    {
      "cell_type": "code",
      "execution_count": 2,
      "metadata": {},
      "outputs": [
        {
          "name": "stdout",
          "output_type": "stream",
          "text": [
            "10.208.38.94\t    finetune_model.py  masked_hindi.txt\n",
            "assam_input.txt     hindi_input.txt    sentence_score.ipynb\n",
            "combined_hindi.txt  hindi_output.txt   tamil_input.txt\n"
          ]
        }
      ],
      "source": [
        "!ls"
      ]
    },
    {
      "cell_type": "code",
      "execution_count": 35,
      "metadata": {
        "colab": {
          "base_uri": "https://localhost:8080/"
        },
        "id": "8u2O40dNh1w9",
        "outputId": "34e5929b-24c6-4be5-9b48-880a1e6d95ff"
      },
      "outputs": [],
      "source": [
        "#!git clone https://github.com/anoopkunchukuttan/indic_nlp_resources.git\n",
        "#!pip install indic-nlp-library\n",
        "\n",
        "from indicnlp import common\n",
        "common.set_resources_path(\"../indic_nlp_resources\")\n",
        "\n",
        "from indicnlp import loader\n",
        "loader.load()\n",
        "from indicnlp.transliterate.unicode_transliterate import UnicodeIndicTransliterator"
      ]
    },
    {
      "cell_type": "code",
      "execution_count": 36,
      "metadata": {
        "colab": {
          "base_uri": "https://localhost:8080/",
          "height": 209,
          "referenced_widgets": [
            "7daac86d82414cfdbe24758baf53cdf6",
            "09f4f3fb838041069c7c8c2d5a67f57a",
            "b883b071f3d64697afd60635283f4783",
            "a0fdaa986ce84765b6a86a87f5837ed8",
            "48b0e354e019459396576ba12a6e6205",
            "982ba2869ab146e38e8447e9e8ba92e3",
            "74862cae26614cbdae94b3162d6d5aa4",
            "f7e5524f044f4924b64e5b774bab72a0",
            "6828d4e6029d47af9af38ea60d559518",
            "73535f55bca04b509141b1e12cd6305f",
            "1320d964593e41858d1a1309f17f4df5",
            "e162af6196f142088f8016f95410e140",
            "aa5d5e12d13d4022b88aaf374d4f7128",
            "ccf23c93719e49b6ac765700b2f42f0c",
            "d8c7082a4a3c4c00934768612574b8bc",
            "1e8362ed5d944dd9996eb4111c958c12",
            "170ab23b43bf4ea2adfa9d576b6ea08b",
            "dd42c05bc37246188bc97a40d2744645",
            "b43c7b5bc9e84ba28d59567d630dab1b",
            "9e377b96ad534549a1e705c47d338d1a",
            "6ba1afaf82dc451fa4950282dc48c507",
            "2410f8bccfa2415a9634d55772539d2a",
            "c1cfddf62c90405f8fa224e2b4f7a7e1",
            "655c794fe6bd4985a72b7272197b21fd",
            "7574b079f2d14f699fbb76b067be0b68",
            "323df9a25d6c43f1b77a90fdea0b95c8",
            "c2fd334e4eaf47f8a4549c6d72ad3c24",
            "842483535ceb4a3baf2ecdcc93288043",
            "fe4ec796a3e94c8991ebdaaccc8a15d8",
            "eac842939b614f2a868ef8e2e8c4a502",
            "f2f9be96aff2434280c59102a1dfd555",
            "c7ba5e260ee943fbaeae990cc4653797",
            "c590762d43a642878a668447f34ef6d3",
            "0f22657b5c9a4be295371e6481345bf0",
            "8f6a460fc4564ed9ba02c09e858e6a6a",
            "e0003db037fa456a8cee5f6d61a3797a",
            "31cf9d979af74f8991a5162d19b2741e",
            "fb7bf15cb49b4d12855cf18f25b26583",
            "8a802461263144ae88aaed90997dfc0d",
            "068185a3f23e4b399caff93bfc87cb73",
            "99ef3a40f4984c889531a98fb972465b",
            "330dc6fa46bd47afa2e5628df2e7faa7",
            "5655821213ea4bc7941b13e39dda024f",
            "caa8d5394fa64687987f892910f41e0d",
            "9cca8da1924b41cab5ae6d9fa65a2133",
            "08d3313cef204a84842d73a564071019",
            "53653686330743ca87ebf683e9eb340f",
            "dcc23943f89f4798850f9c9a2fe4bb91",
            "d16bd495dc854273a00a64fd1bdaabaf",
            "7d0d52f1c00d4ae8b792760c3b8f4899",
            "399e03bb44234dfeb4c5269c7342dd39",
            "51f2ee4aa6a343d5af81fefdfa73e5fd",
            "c7567ec679e7462d820aab64c0b2069c",
            "f7fd90b16376422485431c7cf217c9d3",
            "08e9f9b71189443d885c54ca639dac05",
            "41a483f18c4345679ee52f07f7cbc74b",
            "7b8763a3e4684bde885f1ee09790820d",
            "01a83e6401a9469d8f7ba86febb1d2b3",
            "c95111c4394b4d02ba047d1bb21276e8",
            "91b6cdb33a6947dbb6fdf5cc44df11b9",
            "b2d3ab600d4b4f5ca6eed329a86b1861",
            "e219f20f37934c7fad7262eac343530e",
            "215ea9feb2bc4b029a9d5326c31ed257",
            "545dc58078594c7a8ac8d4516518c779",
            "ca8e44dbbec94d6d9d394c73d7b7fa90",
            "3b50dc16aa024457b8d977b12955e590"
          ]
        },
        "id": "Dba6eHb0h3D3",
        "outputId": "8b8dac5c-d878-4562-8d39-7b3505b096fe"
      },
      "outputs": [],
      "source": [
        "# Import all the necessary classes and initialize the tokenizer and model.\n",
        "from transformers import AlbertTokenizer, MBartForConditionalGeneration\n",
        "\n",
        "tokenizer = AlbertTokenizer.from_pretrained(\"ai4bharat/IndicBART\", do_lower_case=False, use_fast=False, keep_accents=True)\n",
        "\n",
        "model = MBartForConditionalGeneration.from_pretrained(\"ai4bharat/IndicBART\")"
      ]
    },
    {
      "cell_type": "code",
      "execution_count": 37,
      "metadata": {
        "id": "Poo7VWTOh6dM"
      },
      "outputs": [],
      "source": [
        "bos_id = tokenizer._convert_token_to_id_with_added_voc(\"<s>\")\n",
        "eos_id = tokenizer._convert_token_to_id_with_added_voc(\"</s>\")\n",
        "pad_id = tokenizer._convert_token_to_id_with_added_voc(\"<pad>\")\n",
        "# To get lang_id use any of ['<2as>', '<2bn>', '<2en>', '<2gu>', '<2hi>', '<2kn>', '<2ml>', '<2mr>', '<2or>', '<2pa>', '<2ta>', '<2te>']"
      ]
    },
    {
      "attachments": {},
      "cell_type": "markdown",
      "metadata": {},
      "source": [
        "Testing tokenizer"
      ]
    },
    {
      "cell_type": "code",
      "execution_count": 38,
      "metadata": {
        "colab": {
          "base_uri": "https://localhost:8080/"
        },
        "id": "YP8iDlOzlAnG",
        "outputId": "cc84e829-30e4-4598-a3c7-f32831bba54a"
      },
      "outputs": [
        {
          "name": "stdout",
          "output_type": "stream",
          "text": [
            "Original input sentence: I am a boy\n",
            "Segmented input sentence: ['▁I', '▁am', '▁a', '▁boy']\n",
            "Input sentence as tensor:  tensor([[  466,  1981,    80, 25573]])\n",
            "Original output sentence: मैं एक लड़का हूँ\n",
            "Segmented output sentence: ['▁मैं', '▁एक', '▁लड़का', '▁हूँ']\n",
            "Output sentence as tensor: tensor([[  942,    43, 32720,  8384]])\n"
          ]
        }
      ],
      "source": [
        "# First tokenize the input and outputs. \n",
        "# The format below is how IndicBART was trained so the input should be \"Sentence </s> <2xx>\" where xx is the language code. \n",
        "# Similarly, the output should be \"<2yy> Sentence </s>\". \n",
        "\n",
        "input_sentence = \"I am a boy\"\n",
        "output_sentence = \"मैं एक लड़का हूँ\"\n",
        "\n",
        "# The input and output sentence is what the model needs for learning.\n",
        "# Current example is translation but consider the following examples:\n",
        "# Summarization: \n",
        "# Input is \"There was a child. She liked food. She decided to learn to make food. She became a world class chef. She won an award.\" \n",
        "# Output is \"A child learned cooking and won an award.\"\n",
        "# Paraphrasing: \n",
        "# Input is \"I love to eat food.\"\n",
        "# Output is \"I am a foodie\"\n",
        "\n",
        "inp = tokenizer(input_sentence, add_special_tokens=False, return_tensors=\"pt\", padding=True).input_ids\n",
        "\n",
        "out = tokenizer(output_sentence, add_special_tokens=False, return_tensors=\"pt\", padding=True).input_ids\n",
        "\n",
        "print(\"Original input sentence:\", input_sentence)\n",
        "print(\"Segmented input sentence:\", tokenizer.convert_ids_to_tokens(inp[0]))\n",
        "print(\"Input sentence as tensor: \", inp)\n",
        "print(\"Original output sentence:\", output_sentence)\n",
        "print(\"Segmented output sentence:\", tokenizer.convert_ids_to_tokens(out[0]))\n",
        "print(\"Output sentence as tensor:\", out)"
      ]
    },
    {
      "cell_type": "code",
      "execution_count": 39,
      "metadata": {
        "id": "etekTbGyBRii"
      },
      "outputs": [],
      "source": [
        "import torch\n",
        "import pandas as pd\n",
        "import math"
      ]
    },
    {
      "cell_type": "code",
      "execution_count": 22,
      "metadata": {
        "id": "xj37L64cSi9-"
      },
      "outputs": [],
      "source": [
        "# def sent_scoring(model_tokenizer, text, cuda):\n",
        "#     model = model_tokenizer[0]\n",
        "#     tokenizer = model_tokenizer[1]\n",
        "#     assert model is not None\n",
        "#     assert tokenizer is not None\n",
        "#     input_ids = torch.tensor(tokenizer.encode(text)).unsqueeze(0)  # Batch size 1\n",
        "#     if cuda:\n",
        "#         input_ids = input_ids.to('cuda')\n",
        "#     with torch.no_grad():\n",
        "#         outputs = model(input_ids, labels=input_ids)\n",
        "#     loss, logits = outputs[:2]\n",
        "#     sentence_prob = loss.item()\n",
        "#     return sentence_prob"
      ]
    },
    {
      "attachments": {},
      "cell_type": "markdown",
      "metadata": {},
      "source": [
        "Scoring sentences by log-probability"
      ]
    },
    {
      "cell_type": "code",
      "execution_count": 66,
      "metadata": {
        "colab": {
          "base_uri": "https://localhost:8080/"
        },
        "id": "1dD_gRSea47e",
        "outputId": "cef7e5a5-4820-49c7-e0b7-74fbde7ebf08"
      },
      "outputs": [
        {
          "name": "stdout",
          "output_type": "stream",
          "text": [
            "मैं एक लड़का हूँ\t2.8959212\n",
            "वह एक लड़का है\t2.9155743\n",
            "वह आदमी कहाँ है\t4.5577245\n"
          ]
        }
      ],
      "source": [
        "import sys\n",
        "import numpy as np\n",
        " \n",
        "import torch\n",
        "from transformers import BertTokenizer,BertForMaskedLM\n",
        "# Load pre-trained model (weights)\n",
        "with torch.no_grad():\n",
        "    model = MBartForConditionalGeneration.from_pretrained(\"ai4bharat/IndicBART\")\n",
        "    #model = BertForMaskedLM.from_pretrained('bert-large-cased')\n",
        "    model.eval()\n",
        "    # Load pre-trained model tokenizer (vocabulary)\n",
        "    tokenizer = AlbertTokenizer.from_pretrained(\"ai4bharat/IndicBART\", do_lower_case=False, use_fast=False, keep_accents=True)\n",
        "    #tokenizer = BertTokenizer.from_pretrained('bert-large-cased')\n",
        "def score(sentence):\n",
        "    tensor_input = tokenizer(sentence, add_special_tokens=False, return_tensors=\"pt\", padding=True).input_ids\n",
        "    #tokenize_input = [\"[CLS]\"]+tokenize_input+[\"[SEP]\"]\n",
        "    #tensor_input = torch.tensor([tokenizer.convert_tokens_to_ids(tokenize_input)])\n",
        "    with torch.no_grad():\n",
        "        loss=model(tensor_input, labels=tensor_input)[0]\n",
        "    return np.exp(loss.detach().numpy())\n",
        " \n",
        "if __name__=='__main__':\n",
        "    for line in [\"मैं एक लड़का हूँ\",\"वह एक लड़का है\",\"वह आदमी कहाँ है\"]:\n",
        "        if line.strip() !='':\n",
        "            print(line.strip()+'\\t'+ str(score(line.strip())))\n",
        "        else:\n",
        "            break"
      ]
    },
    {
      "cell_type": "code",
      "execution_count": 67,
      "metadata": {
        "id": "Ocj6Euv7DYab"
      },
      "outputs": [],
      "source": [
        "l1=[]\n",
        "l2=[]\n",
        "with open('../hindi_input_nonpara.txt') as f:\n",
        "    l1 = f.readlines()\n",
        "\n",
        "with open('../hindi_output_nonpara.txt') as f:\n",
        "    l2 = f.readlines()"
      ]
    },
    {
      "cell_type": "code",
      "execution_count": 68,
      "metadata": {
        "id": "i6XAc7BnD9PP"
      },
      "outputs": [],
      "source": [
        "for i in range(0,len(l1)):\n",
        "  l1[i]=l1[i].strip()\n",
        "  l2[i]=l2[i].strip()  "
      ]
    },
    {
      "cell_type": "code",
      "execution_count": 30,
      "metadata": {
        "colab": {
          "base_uri": "https://localhost:8080/",
          "height": 36
        },
        "id": "ob8j48gVEhJc",
        "outputId": "30f4559a-eeea-48f9-fe47-affb38a1ec1a"
      },
      "outputs": [
        {
          "data": {
            "text/plain": [
              "'बुलिंगस - धारणा का परिचय सन्\\u200c 1900 के बीच, टेक्सस सेंटर में किया जा रहा है ।'"
            ]
          },
          "execution_count": 30,
          "metadata": {},
          "output_type": "execute_result"
        }
      ],
      "source": [
        "l1[2]"
      ]
    },
    {
      "cell_type": "code",
      "execution_count": 28,
      "metadata": {
        "colab": {
          "base_uri": "https://localhost:8080/",
          "height": 36
        },
        "id": "6545K37K41XQ",
        "outputId": "38653fe6-680e-4bef-881e-8ed57fde463f"
      },
      "outputs": [
        {
          "data": {
            "application/vnd.google.colaboratory.intrinsic+json": {
              "type": "string"
            },
            "text/plain": [
              "'राष्ट्रीय बास्केटबॉल संघ का 1975-76 सत्र एनबीए का 30 वां सत्र था।'"
            ]
          },
          "execution_count": 28,
          "metadata": {},
          "output_type": "execute_result"
        }
      ],
      "source": [
        "l2[2]"
      ]
    },
    {
      "cell_type": "code",
      "execution_count": 9,
      "metadata": {
        "id": "qjRsmhfbFqxL"
      },
      "outputs": [],
      "source": [
        "from tqdm import tqdm"
      ]
    },
    {
      "cell_type": "code",
      "execution_count": 30,
      "metadata": {
        "colab": {
          "base_uri": "https://localhost:8080/"
        },
        "id": "Ghwt-uxOGGBw",
        "outputId": "5824c895-cb0e-4a03-bbfc-7f1225cf67d3"
      },
      "outputs": [
        {
          "data": {
            "text/plain": [
              "5000"
            ]
          },
          "execution_count": 30,
          "metadata": {},
          "output_type": "execute_result"
        }
      ],
      "source": [
        "len(l1)"
      ]
    },
    {
      "attachments": {},
      "cell_type": "markdown",
      "metadata": {},
      "source": [
        "Filtering by sentence score"
      ]
    },
    {
      "cell_type": "code",
      "execution_count": 69,
      "metadata": {
        "colab": {
          "base_uri": "https://localhost:8080/"
        },
        "id": "29xeFLEaErI3",
        "outputId": "ada1793f-d93b-462b-92f7-02a5d7fb195d"
      },
      "outputs": [
        {
          "name": "stderr",
          "output_type": "stream",
          "text": [
            "100%|██████████| 30/30 [00:04<00:00,  6.85it/s]"
          ]
        },
        {
          "name": "stdout",
          "output_type": "stream",
          "text": [
            "5\n",
            "0.16666666666666666\n",
            "0.8333333333333334\n"
          ]
        },
        {
          "name": "stderr",
          "output_type": "stream",
          "text": [
            "\n"
          ]
        }
      ],
      "source": [
        "c=0\n",
        "for i in tqdm(range(0,\n",
        "                    30)):\n",
        "  s1=score(l1[i].strip())\n",
        "  s2=score(l2[i].strip())\n",
        "  if s2<0.9*s1:\n",
        "    c+=1\n",
        "print(c)\n",
        "print(c/30)\n",
        "print(1-(c/30)) "
      ]
    },
    {
      "cell_type": "code",
      "execution_count": 32,
      "metadata": {
        "colab": {
          "base_uri": "https://localhost:8080/"
        },
        "id": "3YG5ZeJx6I3E",
        "outputId": "4098c7ae-1d6b-457d-fb00-78cdd81957ac"
      },
      "outputs": [
        {
          "data": {
            "text/plain": [
              "['▁1975',\n",
              " '-',\n",
              " '76',\n",
              " '▁का',\n",
              " '▁एन',\n",
              " 'बीए',\n",
              " '▁सत्र',\n",
              " '▁राष्ट्रीय',\n",
              " '▁बास्केट',\n",
              " 'बॉल',\n",
              " '▁संघ',\n",
              " '▁का',\n",
              " '▁30',\n",
              " 'वां',\n",
              " '▁सत्र',\n",
              " '▁था',\n",
              " '।']"
            ]
          },
          "execution_count": 32,
          "metadata": {},
          "output_type": "execute_result"
        }
      ],
      "source": [
        "tokenizer.tokenize(l1[2])"
      ]
    },
    {
      "cell_type": "code",
      "execution_count": 33,
      "metadata": {
        "id": "fXvPcIFI4c-_"
      },
      "outputs": [],
      "source": [
        "t1=tokenizer(l1[2], add_special_tokens=False, return_tensors=\"pt\", padding=True).input_ids\n",
        "#t1=tokenizer.tokenize(l1[2])"
      ]
    },
    {
      "cell_type": "code",
      "execution_count": 34,
      "metadata": {
        "colab": {
          "base_uri": "https://localhost:8080/"
        },
        "id": "bdXvTs8-4rML",
        "outputId": "14981d0e-18ee-4750-85a7-dc9299b2234e"
      },
      "outputs": [
        {
          "data": {
            "text/plain": [
              "tensor([[36019,    16, 12985,    44,   796, 31884,  5492,  1134, 41483, 41665,\n",
              "           869,    44,   921,  1412,  5492,   243,     8]])"
            ]
          },
          "execution_count": 34,
          "metadata": {},
          "output_type": "execute_result"
        }
      ],
      "source": [
        "t1"
      ]
    },
    {
      "cell_type": "code",
      "execution_count": 35,
      "metadata": {
        "id": "N9ehEdjE_dNg"
      },
      "outputs": [],
      "source": [
        "t2=tokenizer(l2[2], add_special_tokens=False, return_tensors=\"pt\", padding=True).input_ids\n",
        "#t2=tokenizer.tokenize(l2[2])"
      ]
    },
    {
      "cell_type": "code",
      "execution_count": 36,
      "metadata": {
        "colab": {
          "base_uri": "https://localhost:8080/"
        },
        "id": "311qDjQx_jqa",
        "outputId": "cd46aea2-de60-4fac-8656-fac143b610b2"
      },
      "outputs": [
        {
          "data": {
            "text/plain": [
              "tensor([[ 1134, 41483, 41665,   869,    44, 36019,    16, 12985,  5492,   796,\n",
              "         31884,    44,   921, 10248,  5492,   243,     8]])"
            ]
          },
          "execution_count": 36,
          "metadata": {},
          "output_type": "execute_result"
        }
      ],
      "source": [
        "t2"
      ]
    },
    {
      "cell_type": "code",
      "execution_count": 41,
      "metadata": {
        "id": "tDD37-klGSSm"
      },
      "outputs": [],
      "source": [
        "def longest_common_subsequence(lst1, lst2):\n",
        "    m, n = len(lst1), len(lst2)\n",
        "    jh = [[0 for j in range(n+1)] for i in range(m+1)]\n",
        "    \n",
        "    for i in range(1, m+1):\n",
        "        for j in range(1, n+1):\n",
        "            if lst1[i-1] == lst2[j-1]:\n",
        "                jh[i][j] = 1 + jh[i-1][j-1]\n",
        "            else:\n",
        "                jh[i][j] = max(jh[i-1][j], jh[i][j-1])\n",
        "    \n",
        "    result = []\n",
        "    i, j = m, n\n",
        "    c=0 \n",
        "    minind=-1\n",
        "    maxind=-1\n",
        "    while i > 0 and j > 0:\n",
        "        c+=1\n",
        "        if lst1[i-1] == lst2[j-1]:\n",
        "            if c==1:\n",
        "              minind=j\n",
        "            result.append(lst1[i-1])\n",
        "            maxind=j\n",
        "            i -= 1\n",
        "            j -= 1\n",
        "        elif jh[i-1][j] > jh[i][j-1]:\n",
        "            i -= 1\n",
        "        else:\n",
        "            j -= 1\n",
        "    \n",
        "    return result[::-1]"
      ]
    },
    {
      "cell_type": "code",
      "execution_count": 44,
      "metadata": {
        "id": "WMiA7ElGbWYi"
      },
      "outputs": [],
      "source": [
        "def find_common_subsequences(list1, list2):\n",
        "    m = len(list1)\n",
        "    n = len(list2)\n",
        "    dp = [[0] * (n + 1) for _ in range(m + 1)]\n",
        "    max_len = 0\n",
        "    common_subsequences = []\n",
        "\n",
        "    for i in range(1, m + 1):\n",
        "        for j in range(1, n + 1):\n",
        "            if list1[i - 1] == list2[j - 1]:\n",
        "                dp[i][j] = dp[i - 1][j - 1] + 1\n",
        "                if dp[i][j] > max_len:\n",
        "                    max_len = dp[i][j]\n",
        "                    common_subsequences = [[list1[i - max_len:i]]]\n",
        "                elif dp[i][j] == max_len:\n",
        "                    common_subsequences.append([list1[i - max_len:i]])\n",
        "            else:\n",
        "                dp[i][j] = 0\n",
        "\n",
        "    return common_subsequences\n"
      ]
    },
    {
      "cell_type": "code",
      "execution_count": 24,
      "metadata": {
        "id": "fgfT3r0Vup3a"
      },
      "outputs": [],
      "source": [
        "#I have to maintain the relative order of unblanked words\n",
        "#find the longest possible subsequence that maintains relative order\n",
        "def common_elements(l1,l2):\n",
        "  indices_list=[]\n",
        "  c_ref=-1\n",
        "  for i in l1:\n",
        "    if i in l2:\n",
        "      c=l2.index(i)\n",
        "      if c>c_ref:\n",
        "        indices_list.append(i)\n",
        "        c_ref=c\n",
        "  return indices_list"
      ]
    },
    {
      "cell_type": "code",
      "execution_count": 47,
      "metadata": {
        "colab": {
          "base_uri": "https://localhost:8080/"
        },
        "id": "h7FtBkIAzXzI",
        "outputId": "0618aa3e-8448-4922-a2f9-8a13740cc69c"
      },
      "outputs": [
        {
          "data": {
            "text/plain": [
              "[36019, 16, 12985, 796, 31884, 921, 243, 8]"
            ]
          },
          "execution_count": 47,
          "metadata": {},
          "output_type": "execute_result"
        }
      ],
      "source": [
        "common_elements(t1[0].tolist(),t2[0].tolist())\n",
        "#common_elements(t1,t2)"
      ]
    },
    {
      "cell_type": "code",
      "execution_count": 49,
      "metadata": {
        "id": "xP7G4YcRNnNf"
      },
      "outputs": [],
      "source": [
        "t1=[\"yes\",\"what\",\"am\",\"the\",\"yes\",\"in\",\"why\",\"what\"]\n",
        "t2=[\"where\",\"are\",\"yes\",\"what\",\"am\",\"the\",\"in\"]"
      ]
    },
    {
      "cell_type": "code",
      "execution_count": 50,
      "metadata": {
        "colab": {
          "base_uri": "https://localhost:8080/"
        },
        "id": "f2c-Jy1tIK52",
        "outputId": "3895c04a-aa70-4c39-8b81-f4eaed6f4ea8"
      },
      "outputs": [
        {
          "data": {
            "text/plain": [
              "['[MASK]', 'yes', 'what', 'am', 'the', '[MASK]', 'in', '[MASK]', '[MASK]']"
            ]
          },
          "execution_count": 50,
          "metadata": {},
          "output_type": "execute_result"
        }
      ],
      "source": [
        "l_final=[]\n",
        "mask_token=\"[MASK]\"\n",
        "c=0\n",
        "c_former=0\n",
        "for i in t1:\n",
        "  # print(i)\n",
        "  # print(c)\n",
        "  if i in t2[c:]:\n",
        "    c=t2.index(i)\n",
        "    if c!=0:\n",
        "      #l_final.append(\"[MASK]\")\n",
        "      l_final.extend([\"[MASK]\"]*(c-c_former-1))\n",
        "    l_final.append(i)\n",
        "    c_former=c\n",
        "  else:\n",
        "    l_final.append(\"[MASK]\")\n",
        "l_final"
      ]
    },
    {
      "cell_type": "code",
      "execution_count": 51,
      "metadata": {
        "colab": {
          "base_uri": "https://localhost:8080/"
        },
        "id": "-egyqaEqVPJU",
        "outputId": "e7577f7c-b9a3-4972-b14d-15e0ba7186be"
      },
      "outputs": [
        {
          "name": "stdout",
          "output_type": "stream",
          "text": [
            "['[MASK]', 'yes', 'what', 'am', 'the', '[MASK]', 'in', '[MASK]']\n"
          ]
        }
      ],
      "source": [
        "new_list=[l_final[0]]\n",
        "for i in range(1, len(l_final)):\n",
        "    if l_final[i] == l_final[i-1] and l_final[i]=='[MASK]':\n",
        "        continue  # If the current element is the same as the previous, skip it\n",
        "    else:\n",
        "        new_list.append(l_final[i])  # Otherwise, add it to the new list\n",
        "\n",
        "print(new_list)  # Output: [1, 2, 3, 4, 5, 6]\n"
      ]
    },
    {
      "cell_type": "code",
      "execution_count": 54,
      "metadata": {
        "colab": {
          "base_uri": "https://localhost:8080/"
        },
        "id": "Q-ri8X2TkNRD",
        "outputId": "1064729d-0062-4a84-8833-d6cbd24e3f50"
      },
      "outputs": [
        {
          "data": {
            "text/plain": [
              "['yes', 'what', 'am', 'the', 'yes', 'in', '[MASK]', 'what']"
            ]
          },
          "execution_count": 54,
          "metadata": {},
          "output_type": "execute_result"
        }
      ],
      "source": [
        "l_t1=[]\n",
        "c=0\n",
        "for i in t1:\n",
        "  if i in common_elements(t1,t2):\n",
        "    l_t1.append(i)\n",
        "  else:\n",
        "    if len(l_t1)!=0:\n",
        "      if l_t1[-1]!='[MASK]':\n",
        "        l_t1.append('[MASK]')\n",
        "    else:\n",
        "      l_t1.append('[MASK]')\n",
        "l_t1\n"
      ]
    },
    {
      "cell_type": "code",
      "execution_count": 25,
      "metadata": {
        "id": "8JmiiT2xrrFU"
      },
      "outputs": [],
      "source": [
        "def blanking_sentences(t1,t2):\n",
        "  l_t1=[]\n",
        "  c=0\n",
        "  for i in t1:\n",
        "    if i in common_elements(t1,t2):\n",
        "      l_t1.append(i)\n",
        "      c=0\n",
        "    else:\n",
        "      if c==0:\n",
        "        l_t1.append('[MASK]')\n",
        "        c=1\n",
        "  return l_t1\n"
      ]
    },
    {
      "cell_type": "code",
      "execution_count": 14,
      "metadata": {
        "colab": {
          "base_uri": "https://localhost:8080/"
        },
        "id": "Q8-Di-LMxWZV",
        "outputId": "47d6332c-a998-4368-d2cb-f369e77de394"
      },
      "outputs": [
        {
          "name": "stderr",
          "output_type": "stream",
          "text": [
            "  0%|          | 0/49402 [00:00<?, ?it/s]\n"
          ]
        },
        {
          "ename": "NameError",
          "evalue": "name 'blanking_sentences' is not defined",
          "output_type": "error",
          "traceback": [
            "\u001b[0;31m---------------------------------------------------------------------------\u001b[0m",
            "\u001b[0;31mNameError\u001b[0m                                 Traceback (most recent call last)",
            "Cell \u001b[0;32mIn[14], line 7\u001b[0m\n\u001b[1;32m      5\u001b[0m t1\u001b[39m=\u001b[39mt1[\u001b[39m0\u001b[39m]\u001b[39m.\u001b[39mtolist()\n\u001b[1;32m      6\u001b[0m t2\u001b[39m=\u001b[39mt2[\u001b[39m0\u001b[39m]\u001b[39m.\u001b[39mtolist()\n\u001b[0;32m----> 7\u001b[0m masked_sentences\u001b[39m.\u001b[39mappend(blanking_sentences(t1,t2))\n",
            "\u001b[0;31mNameError\u001b[0m: name 'blanking_sentences' is not defined"
          ]
        }
      ],
      "source": [
        "masked_sentences=[]\n",
        "for i in tqdm(range(0,len(l1))):\n",
        "  t1=tokenizer(l1[i], add_special_tokens=False, return_tensors=\"pt\", padding=True).input_ids#tokenizer.tokenize(l1[i])\n",
        "  t2=tokenizer(l2[i], add_special_tokens=False, return_tensors=\"pt\", padding=True).input_ids#tokenizer.tokenize(l2[i])\n",
        "  t1=t1[0].tolist()\n",
        "  t2=t2[0].tolist()\n",
        "  masked_sentences.append(blanking_sentences(t1,t2))\n"
      ]
    },
    {
      "cell_type": "code",
      "execution_count": 58,
      "metadata": {
        "colab": {
          "base_uri": "https://localhost:8080/"
        },
        "id": "W2cKNe4P7DBG",
        "outputId": "d3c78217-e1ff-48cb-8df3-38e55b766d26"
      },
      "outputs": [
        {
          "data": {
            "text/plain": [
              "['▁विशिष्ट', '▁और', '▁परियोजना', '▁भी', '▁होती', '।']"
            ]
          },
          "execution_count": 58,
          "metadata": {},
          "output_type": "execute_result"
        }
      ],
      "source": [
        "common_elements(tokenizer.tokenize(l1[3]),tokenizer.tokenize(l2[3]))"
      ]
    },
    {
      "cell_type": "code",
      "execution_count": 59,
      "metadata": {
        "colab": {
          "base_uri": "https://localhost:8080/"
        },
        "id": "gaR1lIkxsUKm",
        "outputId": "87775240-5772-4220-8f50-b713019a7e66"
      },
      "outputs": [
        {
          "data": {
            "text/plain": [
              "['[MASK]', 5094, '[MASK]', 81, 14457, '[MASK]', 143, 649, '[MASK]', 8]"
            ]
          },
          "execution_count": 59,
          "metadata": {},
          "output_type": "execute_result"
        }
      ],
      "source": [
        "masked_sentences[3]"
      ]
    },
    {
      "cell_type": "code",
      "execution_count": 60,
      "metadata": {
        "colab": {
          "base_uri": "https://localhost:8080/",
          "height": 36
        },
        "id": "UpIsF5PA3YvS",
        "outputId": "608aff61-81f3-4865-e4f5-4c03798d494d"
      },
      "outputs": [
        {
          "data": {
            "application/vnd.google.colaboratory.intrinsic+json": {
              "type": "string"
            },
            "text/plain": [
              "'इस दौरान विशिष्ट चर्चाएं, सार्वजनिक प्रोफाइल वाद-विवाद और परियोजना पर चर्चा भी होती है।'"
            ]
          },
          "execution_count": 60,
          "metadata": {},
          "output_type": "execute_result"
        }
      ],
      "source": [
        "l1[3]"
      ]
    },
    {
      "cell_type": "code",
      "execution_count": 61,
      "metadata": {
        "colab": {
          "base_uri": "https://localhost:8080/",
          "height": 36
        },
        "id": "hVyKvLHk3U-n",
        "outputId": "92452532-12bd-4c5f-cab2-866f5c1baa03"
      },
      "outputs": [
        {
          "data": {
            "application/vnd.google.colaboratory.intrinsic+json": {
              "type": "string"
            },
            "text/plain": [
              "'सार्वजनिक चर्चाएं, प्रोफाइल विशिष्ट चर्चाएं और परियोजना चर्चाएं भी होती हैं।'"
            ]
          },
          "execution_count": 61,
          "metadata": {},
          "output_type": "execute_result"
        }
      ],
      "source": [
        "l2[3]"
      ]
    },
    {
      "cell_type": "code",
      "execution_count": 70,
      "metadata": {
        "id": "xY2O-RQZWb5i"
      },
      "outputs": [],
      "source": [
        "def blanking_sentences_updated(t1,t2):\n",
        "  l_final=[]\n",
        "  mask_token=4 #\"[MASK]\"\n",
        "  c=0\n",
        "  c_former=0\n",
        "  for i in t1:\n",
        "    # print(i)\n",
        "    # print(c)\n",
        "    if i in t2[c:]:\n",
        "      c=t2.index(i)\n",
        "      if c!=0:\n",
        "        #l_final.append(\"[MASK]\")\n",
        "        l_final.extend([4]*(c-c_former-1))\n",
        "      l_final.append(i)\n",
        "      c_former=c\n",
        "    else:\n",
        "      l_final.append(4)\n",
        "  new_list=[l_final[0]]\n",
        "  for i in range(1, len(l_final)):\n",
        "      if l_final[i] == l_final[i-1] and l_final[i]==4:\n",
        "          continue  # If the current element is the same as the previous, skip it\n",
        "      else:\n",
        "          new_list.append(l_final[i])  # Otherwise, add it to the new list\n",
        "\n",
        "  return new_list  # Output: [1, 2, 3, 4, 5, 6]\n"
      ]
    },
    {
      "cell_type": "code",
      "execution_count": 71,
      "metadata": {
        "colab": {
          "base_uri": "https://localhost:8080/"
        },
        "id": "27vF49zJXAK2",
        "outputId": "8615ba84-8306-4591-9b2f-785d26b1ea49"
      },
      "outputs": [
        {
          "name": "stderr",
          "output_type": "stream",
          "text": [
            "100%|██████████| 4000/4000 [00:02<00:00, 1596.27it/s]\n"
          ]
        }
      ],
      "source": [
        "masked_sentences=[]\n",
        "for i in tqdm(range(0,len(l1))):\n",
        "  # t1=tokenizer.tokenize(l1[i])\n",
        "  # t2=tokenizer.tokenize(l2[i])\n",
        "  t1=tokenizer(l1[i], add_special_tokens=False, return_tensors=\"pt\", padding=True).input_ids#tokenizer.tokenize(l1[i])\n",
        "  t2=tokenizer(l2[i], add_special_tokens=False, return_tensors=\"pt\", padding=True).input_ids#tokenizer.tokenize(l2[i])\n",
        "  t1=t1[0].tolist()\n",
        "  t2=t2[0].tolist()\n",
        "  masked_sentences.append(blanking_sentences_updated(t1,t2))\n"
      ]
    },
    {
      "cell_type": "code",
      "execution_count": 64,
      "metadata": {
        "colab": {
          "base_uri": "https://localhost:8080/"
        },
        "id": "vltPDWOHXIzI",
        "outputId": "440baeef-843f-4d35-a9ff-0b9a4881617d"
      },
      "outputs": [
        {
          "data": {
            "text/plain": [
              "[954,\n",
              " 4,\n",
              " 6512,\n",
              " 4,\n",
              " 38058,\n",
              " 45,\n",
              " 6263,\n",
              " 4166,\n",
              " 178,\n",
              " 1385,\n",
              " 15,\n",
              " 4,\n",
              " 107,\n",
              " 1546,\n",
              " 822,\n",
              " 479,\n",
              " 122,\n",
              " 8]"
            ]
          },
          "execution_count": 64,
          "metadata": {},
          "output_type": "execute_result"
        }
      ],
      "source": [
        "masked_sentences[4]"
      ]
    },
    {
      "cell_type": "code",
      "execution_count": 72,
      "metadata": {
        "colab": {
          "base_uri": "https://localhost:8080/"
        },
        "id": "JHoj_gjIsFSW",
        "outputId": "28d25665-a8eb-4b28-f0ba-863fa9609fcd"
      },
      "outputs": [
        {
          "name": "stderr",
          "output_type": "stream",
          "text": [
            "100%|██████████| 4000/4000 [00:01<00:00, 2577.74it/s]\n"
          ]
        }
      ],
      "source": [
        "blanked_list=[]\n",
        "for i in tqdm(range(0,len(l1))):\n",
        "  decoded_output=tokenizer.decode(masked_sentences[i], skip_special_tokens=False, clean_up_tokenization_spaces=False)\n",
        "  blanked_list.append(decoded_output)"
      ]
    },
    {
      "cell_type": "code",
      "execution_count": 15,
      "metadata": {},
      "outputs": [
        {
          "name": "stdout",
          "output_type": "stream",
          "text": [
            "10.208.38.94\t\t     finetune_model.py\t\tmasked_hindi.txt\n",
            "assam_input.txt\t\t     hindi_input.txt\t\tsentence_score.ipynb\n",
            "combined_hindi_helsinki.txt  hindi_output.txt\t\ttamil_input.txt\n",
            "combined_hindi.txt\t     masked_hindi_helsinki.txt\n"
          ]
        }
      ],
      "source": [
        "!ls"
      ]
    },
    {
      "cell_type": "code",
      "execution_count": 66,
      "metadata": {
        "colab": {
          "base_uri": "https://localhost:8080/",
          "height": 36
        },
        "id": "4kSc7VUhsjjG",
        "outputId": "dd108f41-a2ce-4a59-9a0c-a7d1b6fa6a72"
      },
      "outputs": [
        {
          "data": {
            "application/vnd.google.colaboratory.intrinsic+json": {
              "type": "string"
            },
            "text/plain": [
              "'[MASK] 1975-76 का[MASK] एनबीए सत्र[MASK] का[MASK] 30[MASK] सत्र[MASK]था।'"
            ]
          },
          "execution_count": 66,
          "metadata": {},
          "output_type": "execute_result"
        }
      ],
      "source": [
        "blanked_list[2]"
      ]
    },
    {
      "cell_type": "code",
      "execution_count": 73,
      "metadata": {
        "id": "XLw5tVTyygCD"
      },
      "outputs": [],
      "source": [
        "file = open('masked_hindi_nonpara.txt','w')\n",
        "for item in blanked_list:\n",
        "\tfile.write(item+\"\\n\")\n",
        "file.close()"
      ]
    },
    {
      "cell_type": "code",
      "execution_count": 74,
      "metadata": {
        "colab": {
          "base_uri": "https://localhost:8080/"
        },
        "id": "st8IgQ1V0dvz",
        "outputId": "7c513bcf-346f-4c86-dd02-d86d5b1b4fef"
      },
      "outputs": [
        {
          "name": "stderr",
          "output_type": "stream",
          "text": [
            "100%|██████████| 4000/4000 [00:00<00:00, 577887.02it/s]\n"
          ]
        }
      ],
      "source": [
        "combined_list=[]\n",
        "for i in tqdm(range(0,len(l1))):\n",
        "  combined_sentence=l1[i]+\" \"+blanked_list[i]\n",
        "  combined_list.append(combined_sentence)"
      ]
    },
    {
      "cell_type": "code",
      "execution_count": 69,
      "metadata": {
        "colab": {
          "base_uri": "https://localhost:8080/",
          "height": 36
        },
        "id": "w1U1YI3v1Yzz",
        "outputId": "03e2bb1c-6ed8-4f04-c3f7-c0307710762a"
      },
      "outputs": [
        {
          "data": {
            "application/vnd.google.colaboratory.intrinsic+json": {
              "type": "string"
            },
            "text/plain": [
              "'जब प्रवाह की तुलनात्मक दरों को बनाए रखा जा सकता है, तो परिणाम उच्च होते हैं। जब[MASK] प्रवाह[MASK] दरों को बनाए रखा जा सकता है[MASK]तो परिणाम उच्च होते हैं।'"
            ]
          },
          "execution_count": 69,
          "metadata": {},
          "output_type": "execute_result"
        }
      ],
      "source": [
        "combined_list[4]"
      ]
    },
    {
      "cell_type": "code",
      "execution_count": 75,
      "metadata": {
        "id": "1J4Qu7ys1smc"
      },
      "outputs": [],
      "source": [
        "file = open('combined_hindi_nonpara.txt','w')\n",
        "for item in combined_list:\n",
        "\tfile.write(item+\"\\n\")\n",
        "file.close()"
      ]
    },
    {
      "cell_type": "code",
      "execution_count": 58,
      "metadata": {
        "colab": {
          "base_uri": "https://localhost:8080/"
        },
        "id": "LwO9ovShuRse",
        "outputId": "45faad47-921d-4415-edbd-42adc87a5683"
      },
      "outputs": [
        {
          "name": "stdout",
          "output_type": "stream",
          "text": [
            "Models actual output: [MASK] 2[MASK] 3[MASK] असतत[MASK] को[MASK] परिभाषित किया[MASK] है[MASK]\n"
          ]
        }
      ],
      "source": [
        "decoded_output=tokenizer.decode(masked_sentences[4], skip_special_tokens=False, clean_up_tokenization_spaces=False)\n",
        "\n",
        "print(\"Models actual output:\", decoded_output) "
      ]
    },
    {
      "cell_type": "code",
      "execution_count": 72,
      "metadata": {
        "colab": {
          "base_uri": "https://localhost:8080/"
        },
        "id": "2KMW9qDmB496",
        "outputId": "e0e24b8b-b9b6-4010-9795-427f093b7d29"
      },
      "outputs": [
        {
          "name": "stdout",
          "output_type": "stream",
          "text": [
            "Original input sentence: मैं एक [MASK] हूँ\n",
            "Segmented input sentence: ['▁मैं', '▁एक', '[MASK]', '▁हूँ']\n",
            "Input sentence as tensor:  tensor([[ 942,   43,    4, 8384]])\n"
          ]
        }
      ],
      "source": [
        "hindi_input_sentence = \"मैं एक [MASK] हूँ\"\n",
        "hin_inp = tokenizer(hindi_input_sentence, add_special_tokens=False, return_tensors=\"pt\", padding=True).input_ids\n",
        "\n",
        "# What does this look like?\n",
        "\n",
        "print(\"Original input sentence:\", hindi_input_sentence)\n",
        "print(\"Segmented input sentence:\", tokenizer.convert_ids_to_tokens(hin_inp[0]))\n",
        "print(\"Input sentence as tensor: \", hin_inp)"
      ]
    },
    {
      "cell_type": "code",
      "execution_count": 73,
      "metadata": {
        "colab": {
          "base_uri": "https://localhost:8080/"
        },
        "id": "DtjLNOC4CM13",
        "outputId": "3e406708-8704-4ac3-f262-050206b35c27"
      },
      "outputs": [
        {
          "name": "stdout",
          "output_type": "stream",
          "text": [
            "Models actual output: मैं एक[MASK]हूँ\n"
          ]
        }
      ],
      "source": [
        "decoded_output=tokenizer.decode(hin_inp[0], skip_special_tokens=False, clean_up_tokenization_spaces=False)\n",
        "\n",
        "print(\"Models actual output:\", decoded_output) "
      ]
    },
    {
      "cell_type": "code",
      "execution_count": 74,
      "metadata": {
        "colab": {
          "base_uri": "https://localhost:8080/",
          "height": 36
        },
        "id": "yy7PoT_dXM9X",
        "outputId": "26d6297b-bb53-41b4-842d-cf0f6a310627"
      },
      "outputs": [
        {
          "data": {
            "application/vnd.google.colaboratory.intrinsic+json": {
              "type": "string"
            },
            "text/plain": [
              "'जब प्रवाह की तुलनात्मक दरों को बनाए रखा जा सकता है, तो परिणाम उच्च होते हैं।'"
            ]
          },
          "execution_count": 74,
          "metadata": {},
          "output_type": "execute_result"
        }
      ],
      "source": [
        "l1[4]"
      ]
    },
    {
      "cell_type": "code",
      "execution_count": 75,
      "metadata": {
        "colab": {
          "base_uri": "https://localhost:8080/",
          "height": 36
        },
        "id": "pzBXcwmhx-6d",
        "outputId": "d6b75ff3-7fb2-4cae-c75c-88d6d69fe6dc"
      },
      "outputs": [
        {
          "data": {
            "application/vnd.google.colaboratory.intrinsic+json": {
              "type": "string"
            },
            "text/plain": [
              "'जब तुलनात्मक प्रवाह दरों को बनाए रखा जा सकता है तो परिणाम उच्च होते हैं।'"
            ]
          },
          "execution_count": 75,
          "metadata": {},
          "output_type": "execute_result"
        }
      ],
      "source": [
        "l2[4]"
      ]
    },
    {
      "cell_type": "markdown",
      "metadata": {
        "id": "Psmu4yu87nvt"
      },
      "source": [
        "Finetune"
      ]
    },
    {
      "cell_type": "code",
      "execution_count": 76,
      "metadata": {
        "colab": {
          "base_uri": "https://localhost:8080/"
        },
        "id": "ynWHl_mitr-o",
        "outputId": "f532d3c9-6bed-479c-e0c4-3e63d2e0c50c"
      },
      "outputs": [
        {
          "name": "stdout",
          "output_type": "stream",
          "text": [
            "Original input sentence: मैं एक [MASK] हूँ </s> <2hi>\n",
            "Segmented input sentence: ['▁मैं', '▁एक', '[MASK]', '▁हूँ', '</s>', '<2hi>']\n",
            "Input sentence as tensor:  tensor([[  942,    43,     4,  8384, 64001, 64006]])\n",
            "Model output as tensor: tensor([[64006,   942,    43,  6540,  8384, 64001]])\n",
            "Model output as segmented sentence: ['<2hi>', '▁मैं', '▁एक', '▁कलाकार', '▁हूँ', '</s>']\n",
            "Models actual output: मैं एक कलाकार हूँ\n"
          ]
        }
      ],
      "source": [
        "# Tokenize \n",
        "hindi_input_sentence = \"मैं एक [MASK] हूँ </s> <2hi>\"\n",
        "hin_inp = tokenizer(hindi_input_sentence, add_special_tokens=False, return_tensors=\"pt\", padding=True).input_ids\n",
        "\n",
        "# What does this look like?\n",
        "\n",
        "print(\"Original input sentence:\", hindi_input_sentence)\n",
        "print(\"Segmented input sentence:\", tokenizer.convert_ids_to_tokens(hin_inp[0]))\n",
        "print(\"Input sentence as tensor: \", hin_inp)\n",
        "\n",
        "# Generate\n",
        "\n",
        "model_output=model.generate(hin_inp, use_cache=True, num_beams=4, max_length=20, min_length=1, early_stopping=True, pad_token_id=pad_id, bos_token_id=bos_id, eos_token_id=eos_id, decoder_start_token_id=tokenizer._convert_token_to_id_with_added_voc(\"<2hi>\"))\n",
        "# Output is a tensor and we need to convert it back into a sentence.\n",
        "\n",
        "print(\"Model output as tensor:\", model_output)\n",
        "\n",
        "# What is this in tokens?\n",
        "\n",
        "print(\"Model output as segmented sentence:\", tokenizer.convert_ids_to_tokens(model_output[0]))\n",
        "\n",
        "# Decode using the tokenizer to get output strings.\n",
        "\n",
        "decoded_output=tokenizer.decode(model_output[0], skip_special_tokens=True, clean_up_tokenization_spaces=False)\n",
        "\n",
        "print(\"Models actual output:\", decoded_output) "
      ]
    },
    {
      "cell_type": "code",
      "execution_count": 77,
      "metadata": {
        "colab": {
          "base_uri": "https://localhost:8080/"
        },
        "id": "3BBNflcx8W6Q",
        "outputId": "fdcd51aa-2213-477c-f565-761e994dd633"
      },
      "outputs": [
        {
          "name": "stdout",
          "output_type": "stream",
          "text": [
            "Output  0\n",
            "Model output as tensor: tensor([64006,   942,    43,  6540,  8384, 64001])\n",
            "Model output as segmented sentence: ['<2hi>', '▁मैं', '▁एक', '▁कलाकार', '▁हूँ', '</s>']\n",
            "Models actual output: मैं एक कलाकार हूँ\n",
            "Output  1\n",
            "Model output as tensor: tensor([64006,   942,    43,  4316,  8384, 64001])\n",
            "Model output as segmented sentence: ['<2hi>', '▁मैं', '▁एक', '▁पत्रकार', '▁हूँ', '</s>']\n",
            "Models actual output: मैं एक पत्रकार हूँ\n",
            "Output  2\n",
            "Model output as tensor: tensor([64006,   942,    43,   530,  8384, 64001])\n",
            "Model output as segmented sentence: ['<2hi>', '▁मैं', '▁एक', '▁महिला', '▁हूँ', '</s>']\n",
            "Models actual output: मैं एक महिला हूँ\n",
            "Output  3\n",
            "Model output as tensor: tensor([64006,   942,    43, 18460,  8384, 64001])\n",
            "Model output as segmented sentence: ['<2hi>', '▁मैं', '▁एक', '▁इंसान', '▁हूँ', '</s>']\n",
            "Models actual output: मैं एक इंसान हूँ\n"
          ]
        }
      ],
      "source": [
        "# Lets use num_return_sequences=4 to get all 4 options that the model generated.\n",
        "\n",
        "model_output=model.generate(hin_inp, use_cache=True, num_beams=4, max_length=20, min_length=1, num_return_sequences=4, early_stopping=True, pad_token_id=pad_id, bos_token_id=bos_id, eos_token_id=eos_id, decoder_start_token_id=tokenizer._convert_token_to_id_with_added_voc(\"<2hi>\"))\n",
        "\n",
        "for i, mod_out in enumerate(model_output):\n",
        "  print(\"Output \", i)\n",
        "  print(\"Model output as tensor:\", mod_out)\n",
        "\n",
        "  print(\"Model output as segmented sentence:\", tokenizer.convert_ids_to_tokens(mod_out))\n",
        "\n",
        "  decoded_output=tokenizer.decode(mod_out, skip_special_tokens=True, clean_up_tokenization_spaces=False)\n",
        "\n",
        "  print(\"Models actual output:\", decoded_output) "
      ]
    },
    {
      "cell_type": "code",
      "execution_count": 78,
      "metadata": {
        "id": "gqdkjjt_4ydk"
      },
      "outputs": [],
      "source": [
        "## Batching\n",
        "import sys\n",
        "import random\n",
        "import numpy as np\n",
        "import torch\n",
        "\n",
        "def yield_corpus_indefinitely_bi(corpus, language):\n",
        "    \"\"\"This shuffles the corpus at the beginning of each epoch and returns sentences indefinitely.\"\"\"\n",
        "    epoch_counter = 0\n",
        "    num_lines = len(corpus)\n",
        "    num_sentences_before_sort = 5000\n",
        "    num_sorted_segments = (num_lines // num_sentences_before_sort) + 1\n",
        "    while True:\n",
        "        print(\"Shuffling corpus:\", language)\n",
        "        random.shuffle(corpus)\n",
        "        for src_line, tgt_line in corpus:\n",
        "            yield src_line, tgt_line\n",
        "        epoch_counter += 1\n",
        "        print(\"Finished epoch\", epoch_counter, \"for language:\", language)\n",
        "    return None, None ## We should never reach this point.\n",
        "\n",
        "\n",
        "def generate_batches_bilingual(tok, num_batches, is_summarization=False, batch_size=16, src_lang=\"en\", tgt_lang=\"hi\", src_file_prefix=\"TED2020.en-hi\", tgt_file_prefix=\"TED2020.en-hi\"):\n",
        "    \"\"\"Generates the source, target and source attention masks for the training set. \n",
        "    The source and target sentences are ignored if empty and are truncated if longer than a \n",
        "    threshold. The batch size in this context is the maximum number of tokens in the batch post padding.\"\"\"\n",
        "    batch_count = 0\n",
        "    mask_tok = \"[MASK]\"\n",
        "\n",
        "    language_list = [src_lang+\"-\"+tgt_lang]\n",
        "    print(\"Training for:\", language_list)\n",
        "    src_file_content = open(src_file_prefix).readlines()\n",
        "    tgt_file_content = open(tgt_file_prefix).readlines()\n",
        "    file_content = list(zip(src_file_content, tgt_file_content))\n",
        "    file_iterator = yield_corpus_indefinitely_bi(file_content, src_lang+\"-\"+tgt_lang)\n",
        "    slang = \"<2\"+src_lang+\">\"\n",
        "    tlang = \"<2\"+tgt_lang+\">\"\n",
        "            \n",
        "    while batch_count != num_batches:\n",
        "        curr_batch_count = 0\n",
        "        encoder_input_batch = []\n",
        "        decoder_input_batch = []\n",
        "        decoder_label_batch = []\n",
        "        batch_count += 1\n",
        "        max_src_sent_len = 0\n",
        "        max_tgt_sent_len = 0\n",
        "        sents_in_batch = 0\n",
        "        while True:\n",
        "            src_sent, tgt_sent = next(file_iterator)\n",
        "            src_sent = src_sent.strip()\n",
        "            tgt_sent = tgt_sent.strip()\n",
        "            # if slang != \"<2en>\" and slang != \"<2hi>\": # Transliterate to Devanagari\n",
        "            #     src_sent = UnicodeIndicTransliterator.transliterate(src_sent, slang[2:4], \"hi\")\n",
        "            # if tlang != \"<2en>\" and tlang != \"<2hi>\": # Transliterate to Devanagari\n",
        "            #     tgt_sent = UnicodeIndicTransliterator.transliterate(tgt_sent, tlang[2:4], \"hi\")\n",
        "            src_sent_split = src_sent.split(\" \")\n",
        "            tgt_sent_split = tgt_sent.split(\" \")\n",
        "            tgt_sent_len = len(tgt_sent_split)\n",
        "            src_sent_len = len(src_sent_split)\n",
        "            \n",
        "            if src_sent_len < 1 or tgt_sent_len < 1:\n",
        "                continue\n",
        "            else:   # Initial truncation\n",
        "                if src_sent_len >= 100:\n",
        "                    src_sent_split = src_sent_split[:100]\n",
        "                    src_sent = \" \".join(src_sent_split)\n",
        "                    src_sent_len = 100\n",
        "                if tgt_sent_len >= 100:\n",
        "                    tgt_sent_split = tgt_sent_split[:100]\n",
        "                    tgt_sent = \" \".join(tgt_sent_split)\n",
        "                    tgt_sent_len = 100\n",
        "            \n",
        "            iids = tok(src_sent + \" </s> \" + slang, add_special_tokens=False, return_tensors=\"pt\").input_ids\n",
        "            curr_src_sent_len = len(iids[0])\n",
        "            if curr_src_sent_len > 256:\n",
        "                src_sent = tok.decode(iids[0][0:256-2], skip_special_tokens=True, clean_up_tokenization_spaces=False)\n",
        "                curr_src_sent_len = 256\n",
        "            \n",
        "            iids = tok(tlang + \" \" + tgt_sent, add_special_tokens=False, return_tensors=\"pt\").input_ids\n",
        "            curr_tgt_sent_len = len(iids[0])\n",
        "            if curr_tgt_sent_len > 256:\n",
        "                tgt_sent = tok.decode(iids[0][1:256], skip_special_tokens=True, clean_up_tokenization_spaces=False)\n",
        "                curr_tgt_sent_len = 256\n",
        "            \n",
        "            \n",
        "            encoder_input_batch.append(src_sent + \" </s> \" + slang)\n",
        "            decoder_input_batch.append(tlang + \" \" + tgt_sent)\n",
        "            decoder_label_batch.append(tgt_sent + \" </s>\")\n",
        "            sents_in_batch += 1\n",
        "            if sents_in_batch == batch_size:\n",
        "                    break\n",
        "                \n",
        "        input_ids = tok(encoder_input_batch, add_special_tokens=False, return_tensors=\"pt\", padding=True).input_ids\n",
        "        input_masks = (input_ids != 4).int()\n",
        "        decoder_input_ids = tok(decoder_input_batch, add_special_tokens=False, return_tensors=\"pt\", padding=True).input_ids\n",
        "        labels = tok(decoder_label_batch, add_special_tokens=False, return_tensors=\"pt\", padding=True).input_ids\n",
        "        yield input_ids, input_masks, decoder_input_ids, labels\n",
        "\n",
        "## Loss\n",
        "\n",
        "def label_smoothed_nll_loss(lprobs, target, epsilon, ignore_index=None):\n",
        "    \"\"\"From fairseq. This returns the label smoothed cross entropy loss.\"\"\"\n",
        "    if target.dim() == lprobs.dim() - 1:\n",
        "        target = target.unsqueeze(-1)\n",
        "    nll_loss = -lprobs.gather(dim=-1, index=target)\n",
        "    smooth_loss = -lprobs.sum(dim=-1, keepdim=True)\n",
        "    if ignore_index is not None:\n",
        "        pad_mask = target.eq(ignore_index)\n",
        "        nll_loss.masked_fill_(pad_mask, 0.0)\n",
        "        smooth_loss.masked_fill_(pad_mask, 0.0)\n",
        "        denominator = (1.0 - 1.0*pad_mask)\n",
        "        denominator = denominator.sum()\n",
        "    else:\n",
        "        nll_loss = nll_loss.squeeze(-1)\n",
        "        smooth_loss = smooth_loss.squeeze(-1)\n",
        "        denominator = 1.0\n",
        "    \n",
        "    if ignore_index is not None:\n",
        "        nll_loss = nll_loss.sum()\n",
        "        smooth_loss = smooth_loss.sum()\n",
        "    else:\n",
        "        nll_loss = nll_loss.mean()\n",
        "        smooth_loss = smooth_loss.mean()\n",
        "        \n",
        "    eps_i = epsilon / lprobs.size(-1)\n",
        "    loss = (1.0 - epsilon) * nll_loss + eps_i * smooth_loss\n",
        "    loss = loss/denominator\n",
        "    return loss"
      ]
    },
    {
      "cell_type": "code",
      "execution_count": 79,
      "metadata": {
        "id": "q8_5kVQE42kJ"
      },
      "outputs": [],
      "source": [
        "from transformers import get_linear_schedule_with_warmup\n",
        "from transformers import AdamW"
      ]
    },
    {
      "cell_type": "code",
      "execution_count": 80,
      "metadata": {
        "colab": {
          "base_uri": "https://localhost:8080/"
        },
        "id": "kJBqZhuLzrcC",
        "outputId": "a2ecc5ac-a280-4ac4-aca3-2ded4f0b8397"
      },
      "outputs": [
        {
          "name": "stdout",
          "output_type": "stream",
          "text": [
            "Optimizing ['model.shared.weight', 'model.encoder.embed_positions.weight', 'model.encoder.layers.0.self_attn.k_proj.weight', 'model.encoder.layers.0.self_attn.k_proj.bias', 'model.encoder.layers.0.self_attn.v_proj.weight', 'model.encoder.layers.0.self_attn.v_proj.bias', 'model.encoder.layers.0.self_attn.q_proj.weight', 'model.encoder.layers.0.self_attn.q_proj.bias', 'model.encoder.layers.0.self_attn.out_proj.weight', 'model.encoder.layers.0.self_attn.out_proj.bias', 'model.encoder.layers.0.self_attn_layer_norm.weight', 'model.encoder.layers.0.self_attn_layer_norm.bias', 'model.encoder.layers.0.fc1.weight', 'model.encoder.layers.0.fc1.bias', 'model.encoder.layers.0.fc2.weight', 'model.encoder.layers.0.fc2.bias', 'model.encoder.layers.0.final_layer_norm.weight', 'model.encoder.layers.0.final_layer_norm.bias', 'model.encoder.layers.1.self_attn.k_proj.weight', 'model.encoder.layers.1.self_attn.k_proj.bias', 'model.encoder.layers.1.self_attn.v_proj.weight', 'model.encoder.layers.1.self_attn.v_proj.bias', 'model.encoder.layers.1.self_attn.q_proj.weight', 'model.encoder.layers.1.self_attn.q_proj.bias', 'model.encoder.layers.1.self_attn.out_proj.weight', 'model.encoder.layers.1.self_attn.out_proj.bias', 'model.encoder.layers.1.self_attn_layer_norm.weight', 'model.encoder.layers.1.self_attn_layer_norm.bias', 'model.encoder.layers.1.fc1.weight', 'model.encoder.layers.1.fc1.bias', 'model.encoder.layers.1.fc2.weight', 'model.encoder.layers.1.fc2.bias', 'model.encoder.layers.1.final_layer_norm.weight', 'model.encoder.layers.1.final_layer_norm.bias', 'model.encoder.layers.2.self_attn.k_proj.weight', 'model.encoder.layers.2.self_attn.k_proj.bias', 'model.encoder.layers.2.self_attn.v_proj.weight', 'model.encoder.layers.2.self_attn.v_proj.bias', 'model.encoder.layers.2.self_attn.q_proj.weight', 'model.encoder.layers.2.self_attn.q_proj.bias', 'model.encoder.layers.2.self_attn.out_proj.weight', 'model.encoder.layers.2.self_attn.out_proj.bias', 'model.encoder.layers.2.self_attn_layer_norm.weight', 'model.encoder.layers.2.self_attn_layer_norm.bias', 'model.encoder.layers.2.fc1.weight', 'model.encoder.layers.2.fc1.bias', 'model.encoder.layers.2.fc2.weight', 'model.encoder.layers.2.fc2.bias', 'model.encoder.layers.2.final_layer_norm.weight', 'model.encoder.layers.2.final_layer_norm.bias', 'model.encoder.layers.3.self_attn.k_proj.weight', 'model.encoder.layers.3.self_attn.k_proj.bias', 'model.encoder.layers.3.self_attn.v_proj.weight', 'model.encoder.layers.3.self_attn.v_proj.bias', 'model.encoder.layers.3.self_attn.q_proj.weight', 'model.encoder.layers.3.self_attn.q_proj.bias', 'model.encoder.layers.3.self_attn.out_proj.weight', 'model.encoder.layers.3.self_attn.out_proj.bias', 'model.encoder.layers.3.self_attn_layer_norm.weight', 'model.encoder.layers.3.self_attn_layer_norm.bias', 'model.encoder.layers.3.fc1.weight', 'model.encoder.layers.3.fc1.bias', 'model.encoder.layers.3.fc2.weight', 'model.encoder.layers.3.fc2.bias', 'model.encoder.layers.3.final_layer_norm.weight', 'model.encoder.layers.3.final_layer_norm.bias', 'model.encoder.layers.4.self_attn.k_proj.weight', 'model.encoder.layers.4.self_attn.k_proj.bias', 'model.encoder.layers.4.self_attn.v_proj.weight', 'model.encoder.layers.4.self_attn.v_proj.bias', 'model.encoder.layers.4.self_attn.q_proj.weight', 'model.encoder.layers.4.self_attn.q_proj.bias', 'model.encoder.layers.4.self_attn.out_proj.weight', 'model.encoder.layers.4.self_attn.out_proj.bias', 'model.encoder.layers.4.self_attn_layer_norm.weight', 'model.encoder.layers.4.self_attn_layer_norm.bias', 'model.encoder.layers.4.fc1.weight', 'model.encoder.layers.4.fc1.bias', 'model.encoder.layers.4.fc2.weight', 'model.encoder.layers.4.fc2.bias', 'model.encoder.layers.4.final_layer_norm.weight', 'model.encoder.layers.4.final_layer_norm.bias', 'model.encoder.layers.5.self_attn.k_proj.weight', 'model.encoder.layers.5.self_attn.k_proj.bias', 'model.encoder.layers.5.self_attn.v_proj.weight', 'model.encoder.layers.5.self_attn.v_proj.bias', 'model.encoder.layers.5.self_attn.q_proj.weight', 'model.encoder.layers.5.self_attn.q_proj.bias', 'model.encoder.layers.5.self_attn.out_proj.weight', 'model.encoder.layers.5.self_attn.out_proj.bias', 'model.encoder.layers.5.self_attn_layer_norm.weight', 'model.encoder.layers.5.self_attn_layer_norm.bias', 'model.encoder.layers.5.fc1.weight', 'model.encoder.layers.5.fc1.bias', 'model.encoder.layers.5.fc2.weight', 'model.encoder.layers.5.fc2.bias', 'model.encoder.layers.5.final_layer_norm.weight', 'model.encoder.layers.5.final_layer_norm.bias', 'model.encoder.layernorm_embedding.weight', 'model.encoder.layernorm_embedding.bias', 'model.encoder.layer_norm.weight', 'model.encoder.layer_norm.bias', 'model.decoder.embed_positions.weight', 'model.decoder.layers.0.self_attn.k_proj.weight', 'model.decoder.layers.0.self_attn.k_proj.bias', 'model.decoder.layers.0.self_attn.v_proj.weight', 'model.decoder.layers.0.self_attn.v_proj.bias', 'model.decoder.layers.0.self_attn.q_proj.weight', 'model.decoder.layers.0.self_attn.q_proj.bias', 'model.decoder.layers.0.self_attn.out_proj.weight', 'model.decoder.layers.0.self_attn.out_proj.bias', 'model.decoder.layers.0.self_attn_layer_norm.weight', 'model.decoder.layers.0.self_attn_layer_norm.bias', 'model.decoder.layers.0.encoder_attn.k_proj.weight', 'model.decoder.layers.0.encoder_attn.k_proj.bias', 'model.decoder.layers.0.encoder_attn.v_proj.weight', 'model.decoder.layers.0.encoder_attn.v_proj.bias', 'model.decoder.layers.0.encoder_attn.q_proj.weight', 'model.decoder.layers.0.encoder_attn.q_proj.bias', 'model.decoder.layers.0.encoder_attn.out_proj.weight', 'model.decoder.layers.0.encoder_attn.out_proj.bias', 'model.decoder.layers.0.encoder_attn_layer_norm.weight', 'model.decoder.layers.0.encoder_attn_layer_norm.bias', 'model.decoder.layers.0.fc1.weight', 'model.decoder.layers.0.fc1.bias', 'model.decoder.layers.0.fc2.weight', 'model.decoder.layers.0.fc2.bias', 'model.decoder.layers.0.final_layer_norm.weight', 'model.decoder.layers.0.final_layer_norm.bias', 'model.decoder.layers.1.self_attn.k_proj.weight', 'model.decoder.layers.1.self_attn.k_proj.bias', 'model.decoder.layers.1.self_attn.v_proj.weight', 'model.decoder.layers.1.self_attn.v_proj.bias', 'model.decoder.layers.1.self_attn.q_proj.weight', 'model.decoder.layers.1.self_attn.q_proj.bias', 'model.decoder.layers.1.self_attn.out_proj.weight', 'model.decoder.layers.1.self_attn.out_proj.bias', 'model.decoder.layers.1.self_attn_layer_norm.weight', 'model.decoder.layers.1.self_attn_layer_norm.bias', 'model.decoder.layers.1.encoder_attn.k_proj.weight', 'model.decoder.layers.1.encoder_attn.k_proj.bias', 'model.decoder.layers.1.encoder_attn.v_proj.weight', 'model.decoder.layers.1.encoder_attn.v_proj.bias', 'model.decoder.layers.1.encoder_attn.q_proj.weight', 'model.decoder.layers.1.encoder_attn.q_proj.bias', 'model.decoder.layers.1.encoder_attn.out_proj.weight', 'model.decoder.layers.1.encoder_attn.out_proj.bias', 'model.decoder.layers.1.encoder_attn_layer_norm.weight', 'model.decoder.layers.1.encoder_attn_layer_norm.bias', 'model.decoder.layers.1.fc1.weight', 'model.decoder.layers.1.fc1.bias', 'model.decoder.layers.1.fc2.weight', 'model.decoder.layers.1.fc2.bias', 'model.decoder.layers.1.final_layer_norm.weight', 'model.decoder.layers.1.final_layer_norm.bias', 'model.decoder.layers.2.self_attn.k_proj.weight', 'model.decoder.layers.2.self_attn.k_proj.bias', 'model.decoder.layers.2.self_attn.v_proj.weight', 'model.decoder.layers.2.self_attn.v_proj.bias', 'model.decoder.layers.2.self_attn.q_proj.weight', 'model.decoder.layers.2.self_attn.q_proj.bias', 'model.decoder.layers.2.self_attn.out_proj.weight', 'model.decoder.layers.2.self_attn.out_proj.bias', 'model.decoder.layers.2.self_attn_layer_norm.weight', 'model.decoder.layers.2.self_attn_layer_norm.bias', 'model.decoder.layers.2.encoder_attn.k_proj.weight', 'model.decoder.layers.2.encoder_attn.k_proj.bias', 'model.decoder.layers.2.encoder_attn.v_proj.weight', 'model.decoder.layers.2.encoder_attn.v_proj.bias', 'model.decoder.layers.2.encoder_attn.q_proj.weight', 'model.decoder.layers.2.encoder_attn.q_proj.bias', 'model.decoder.layers.2.encoder_attn.out_proj.weight', 'model.decoder.layers.2.encoder_attn.out_proj.bias', 'model.decoder.layers.2.encoder_attn_layer_norm.weight', 'model.decoder.layers.2.encoder_attn_layer_norm.bias', 'model.decoder.layers.2.fc1.weight', 'model.decoder.layers.2.fc1.bias', 'model.decoder.layers.2.fc2.weight', 'model.decoder.layers.2.fc2.bias', 'model.decoder.layers.2.final_layer_norm.weight', 'model.decoder.layers.2.final_layer_norm.bias', 'model.decoder.layers.3.self_attn.k_proj.weight', 'model.decoder.layers.3.self_attn.k_proj.bias', 'model.decoder.layers.3.self_attn.v_proj.weight', 'model.decoder.layers.3.self_attn.v_proj.bias', 'model.decoder.layers.3.self_attn.q_proj.weight', 'model.decoder.layers.3.self_attn.q_proj.bias', 'model.decoder.layers.3.self_attn.out_proj.weight', 'model.decoder.layers.3.self_attn.out_proj.bias', 'model.decoder.layers.3.self_attn_layer_norm.weight', 'model.decoder.layers.3.self_attn_layer_norm.bias', 'model.decoder.layers.3.encoder_attn.k_proj.weight', 'model.decoder.layers.3.encoder_attn.k_proj.bias', 'model.decoder.layers.3.encoder_attn.v_proj.weight', 'model.decoder.layers.3.encoder_attn.v_proj.bias', 'model.decoder.layers.3.encoder_attn.q_proj.weight', 'model.decoder.layers.3.encoder_attn.q_proj.bias', 'model.decoder.layers.3.encoder_attn.out_proj.weight', 'model.decoder.layers.3.encoder_attn.out_proj.bias', 'model.decoder.layers.3.encoder_attn_layer_norm.weight', 'model.decoder.layers.3.encoder_attn_layer_norm.bias', 'model.decoder.layers.3.fc1.weight', 'model.decoder.layers.3.fc1.bias', 'model.decoder.layers.3.fc2.weight', 'model.decoder.layers.3.fc2.bias', 'model.decoder.layers.3.final_layer_norm.weight', 'model.decoder.layers.3.final_layer_norm.bias', 'model.decoder.layers.4.self_attn.k_proj.weight', 'model.decoder.layers.4.self_attn.k_proj.bias', 'model.decoder.layers.4.self_attn.v_proj.weight', 'model.decoder.layers.4.self_attn.v_proj.bias', 'model.decoder.layers.4.self_attn.q_proj.weight', 'model.decoder.layers.4.self_attn.q_proj.bias', 'model.decoder.layers.4.self_attn.out_proj.weight', 'model.decoder.layers.4.self_attn.out_proj.bias', 'model.decoder.layers.4.self_attn_layer_norm.weight', 'model.decoder.layers.4.self_attn_layer_norm.bias', 'model.decoder.layers.4.encoder_attn.k_proj.weight', 'model.decoder.layers.4.encoder_attn.k_proj.bias', 'model.decoder.layers.4.encoder_attn.v_proj.weight', 'model.decoder.layers.4.encoder_attn.v_proj.bias', 'model.decoder.layers.4.encoder_attn.q_proj.weight', 'model.decoder.layers.4.encoder_attn.q_proj.bias', 'model.decoder.layers.4.encoder_attn.out_proj.weight', 'model.decoder.layers.4.encoder_attn.out_proj.bias', 'model.decoder.layers.4.encoder_attn_layer_norm.weight', 'model.decoder.layers.4.encoder_attn_layer_norm.bias', 'model.decoder.layers.4.fc1.weight', 'model.decoder.layers.4.fc1.bias', 'model.decoder.layers.4.fc2.weight', 'model.decoder.layers.4.fc2.bias', 'model.decoder.layers.4.final_layer_norm.weight', 'model.decoder.layers.4.final_layer_norm.bias', 'model.decoder.layers.5.self_attn.k_proj.weight', 'model.decoder.layers.5.self_attn.k_proj.bias', 'model.decoder.layers.5.self_attn.v_proj.weight', 'model.decoder.layers.5.self_attn.v_proj.bias', 'model.decoder.layers.5.self_attn.q_proj.weight', 'model.decoder.layers.5.self_attn.q_proj.bias', 'model.decoder.layers.5.self_attn.out_proj.weight', 'model.decoder.layers.5.self_attn.out_proj.bias', 'model.decoder.layers.5.self_attn_layer_norm.weight', 'model.decoder.layers.5.self_attn_layer_norm.bias', 'model.decoder.layers.5.encoder_attn.k_proj.weight', 'model.decoder.layers.5.encoder_attn.k_proj.bias', 'model.decoder.layers.5.encoder_attn.v_proj.weight', 'model.decoder.layers.5.encoder_attn.v_proj.bias', 'model.decoder.layers.5.encoder_attn.q_proj.weight', 'model.decoder.layers.5.encoder_attn.q_proj.bias', 'model.decoder.layers.5.encoder_attn.out_proj.weight', 'model.decoder.layers.5.encoder_attn.out_proj.bias', 'model.decoder.layers.5.encoder_attn_layer_norm.weight', 'model.decoder.layers.5.encoder_attn_layer_norm.bias', 'model.decoder.layers.5.fc1.weight', 'model.decoder.layers.5.fc1.bias', 'model.decoder.layers.5.fc2.weight', 'model.decoder.layers.5.fc2.bias', 'model.decoder.layers.5.final_layer_norm.weight', 'model.decoder.layers.5.final_layer_norm.bias', 'model.decoder.layernorm_embedding.weight', 'model.decoder.layernorm_embedding.bias', 'model.decoder.layer_norm.weight', 'model.decoder.layer_norm.bias']\n",
            "Number of model parameters: 244017152\n",
            "Total number of params to be optimized are:  244017152\n",
            "Percentage of parameters to be optimized:  100.0\n"
          ]
        }
      ],
      "source": [
        "tokenizer = AlbertTokenizer.from_pretrained(\"ai4bharat/IndicBART\", do_lower_case=False, use_fast=False, keep_accents=True)\n",
        "\n",
        "bos_id = tokenizer._convert_token_to_id_with_added_voc(\"<s>\")\n",
        "eos_id = tokenizer._convert_token_to_id_with_added_voc(\"</s>\")\n",
        "pad_id = tokenizer._convert_token_to_id_with_added_voc(\"<pad>\")\n",
        "\n",
        "model = MBartForConditionalGeneration.from_pretrained(\"ai4bharat/IndicBART\")\n",
        "model.to(0)\n",
        "\n",
        "no_decay = [\"bias\", \"LayerNorm.weight\"]\n",
        "optimizer_grouped_parameters = [\n",
        "        {\n",
        "            \"params\": [p for n, p in model.named_parameters() if not any(nd in n for nd in no_decay) and p.requires_grad],\n",
        "            \"weight_decay\": 0.00001,\n",
        "        },\n",
        "        {\n",
        "            \"params\": [p for n, p in model.named_parameters() if any(nd in n for nd in no_decay) and p.requires_grad],\n",
        "            \"weight_decay\": 0.0,\n",
        "        },\n",
        "    ] ## We suppose that weight decay will be used except for biases and layer norm weights.\n",
        "\n",
        "print(\"Optimizing\", [n for n, p in model.named_parameters() if p.requires_grad])\n",
        "num_params_to_optimize = sum(p.numel() for p in model.parameters() if p.requires_grad)\n",
        "num_model_params = sum(p.numel() for p in model.parameters())\n",
        "print(\"Number of model parameters:\", num_model_params)\n",
        "print(\"Total number of params to be optimized are: \", num_params_to_optimize)\n",
        "\n",
        "print(\"Percentage of parameters to be optimized: \", 100*num_params_to_optimize/num_model_params)\n",
        "    \n",
        "optimizer = AdamW(optimizer_grouped_parameters, lr=0.001, eps=1e-8)\n",
        "\n",
        "scheduler = get_linear_schedule_with_warmup(optimizer, 4000, 200) ## A warmup and decay scheduler. We use the linear scheduler for now. TODO: Enable other schedulers with a flag."
      ]
    },
    {
      "cell_type": "code",
      "execution_count": 40,
      "metadata": {
        "colab": {
          "base_uri": "https://localhost:8080/"
        },
        "id": "onoScxW4xxT7",
        "outputId": "a7a7caf1-fd15-4a35-a1c4-a29a5a52c5bc"
      },
      "outputs": [
        {
          "data": {
            "text/plain": [
              "0"
            ]
          },
          "execution_count": 40,
          "metadata": {},
          "output_type": "execute_result"
        }
      ],
      "source": [
        "tokenizer.pad_token_id"
      ]
    },
    {
      "cell_type": "code",
      "execution_count": 41,
      "metadata": {
        "colab": {
          "base_uri": "https://localhost:8080/"
        },
        "id": "1_x1_YxRx9D-",
        "outputId": "509da8b1-5b9f-4a52-8ad2-fab88b731552"
      },
      "outputs": [
        {
          "data": {
            "text/plain": [
              "AlbertTokenizer(name_or_path='ai4bharat/IndicBART', vocab_size=64000, model_max_length=1000000000000000019884624838656, is_fast=False, padding_side='right', truncation_side='right', special_tokens={'bos_token': '[CLS]', 'eos_token': '[SEP]', 'unk_token': '<unk>', 'sep_token': '[SEP]', 'pad_token': '<pad>', 'cls_token': '[CLS]', 'mask_token': AddedToken(\"[MASK]\", rstrip=False, lstrip=True, single_word=False, normalized=True), 'additional_special_tokens': ['<s>', '</s>', '<2as>', '<2bn>', '<2en>', '<2gu>', '<2hi>', '<2kn>', '<2ml>', '<2mr>', '<2or>', '<2pa>', '<2ta>', '<2te>']}, clean_up_tokenization_spaces=True)"
            ]
          },
          "execution_count": 41,
          "metadata": {},
          "output_type": "execute_result"
        }
      ],
      "source": [
        "tokenizer"
      ]
    },
    {
      "cell_type": "code",
      "execution_count": 81,
      "metadata": {
        "colab": {
          "base_uri": "https://localhost:8080/"
        },
        "id": "V6FWqg7X2Rgr",
        "outputId": "be1ff0ee-1488-4be5-9526-3a337b45bbb0"
      },
      "outputs": [
        {
          "name": "stdout",
          "output_type": "stream",
          "text": [
            "Training for: ['hi-hi']\n",
            "Shuffling corpus: hi-hi\n",
            "\n",
            "Lets see how well the model is doing after  0 iterations of training\n",
            "Loss for batch  1 is 4.13\n",
            "\n",
            "\n",
            "Lets see how well the model is doing after  100 iterations of training\n",
            "Loss for batch  101 is 2.71\n",
            "\n",
            "\n",
            "Lets see how well the model is doing after  200 iterations of training\n",
            "Loss for batch  201 is 2.88\n",
            "\n",
            "Finished epoch 1 for language: hi-hi\n",
            "Shuffling corpus: hi-hi\n",
            "\n",
            "Lets see how well the model is doing after  300 iterations of training\n",
            "Loss for batch  301 is 2.97\n",
            "\n",
            "\n",
            "Lets see how well the model is doing after  400 iterations of training\n",
            "Loss for batch  401 is 2.73\n",
            "\n"
          ]
        }
      ],
      "source": [
        "## Lets set the model to training mode\n",
        "model.train()\n",
        "ctr=0\n",
        "for i, (input_ids, input_masks, decoder_input_ids, labels) in enumerate(generate_batches_bilingual(tokenizer, 500, is_summarization=True, batch_size=16, src_lang=\"hi\", tgt_lang=\"hi\", src_file_prefix=\"combined_hindi_nonpara.txt\", tgt_file_prefix=\"../hindi_output_nonpara.txt\")):\n",
        "  ctr=i\n",
        "  if i%100 == 0:\n",
        "    print()\n",
        "    model.eval() # Set dropouts to zero\n",
        "    print(\"Lets see how well the model is doing after \", i, \"iterations of training\")\n",
        "\n",
        "    model.train() # back to training mode\n",
        "\n",
        "  input_ids = input_ids.to(0)\n",
        "  input_masks = input_masks.to(0)\n",
        "  decoder_input_ids = decoder_input_ids.to(0)\n",
        "  labels = labels.to(0)\n",
        "  mod_compute = model(input_ids=input_ids, attention_mask=input_masks, decoder_input_ids=decoder_input_ids) ## Run the model and get logits.\n",
        "  logits = mod_compute.logits\n",
        "  lprobs = torch.nn.functional.log_softmax(logits, dim=-1) ## Softmax tempering of logits if needed.\n",
        "  loss = label_smoothed_nll_loss(\n",
        "      lprobs, labels, 0.1, ignore_index=0\n",
        "  ) ## Label smoothed cross entropy loss.\n",
        "  del input_ids ## Delete to avoid retention.\n",
        "  del input_masks ## Delete to avoid retention.\n",
        "  del decoder_input_ids ## Delete to avoid retention.\n",
        "  del labels ## Delete to avoid retention.\n",
        "  loss.backward()\n",
        "  torch.nn.utils.clip_grad_norm_(model.parameters(), 1.0)\n",
        "  optimizer.step()\n",
        "  scheduler.step()\n",
        "  if i % 100 == 0:\n",
        "    print(\"Loss for batch \", i+1, \"is\", round(loss.detach().cpu().numpy().item(), 2))\n",
        "    print()"
      ]
    },
    {
      "cell_type": "code",
      "execution_count": 33,
      "metadata": {},
      "outputs": [
        {
          "name": "stdout",
          "output_type": "stream",
          "text": [
            "10.208.38.94\t\t     finetune_model.py\t\tmasked_hindi.txt\n",
            "assam_input.txt\t\t     hindi_input.txt\t\tsentence_score.ipynb\n",
            "combined_hindi_helsinki.txt  hindi_output.txt\t\ttamil_input.txt\n",
            "combined_hindi.txt\t     masked_hindi_helsinki.txt\n"
          ]
        }
      ],
      "source": [
        "!ls"
      ]
    },
    {
      "cell_type": "code",
      "execution_count": 82,
      "metadata": {},
      "outputs": [],
      "source": [
        "torch.save(model.state_dict(), '../normal_nonpara_model.pt')\n"
      ]
    },
    {
      "cell_type": "code",
      "execution_count": 43,
      "metadata": {},
      "outputs": [
        {
          "data": {
            "text/plain": [
              "True"
            ]
          },
          "execution_count": 43,
          "metadata": {},
          "output_type": "execute_result"
        }
      ],
      "source": [
        "torch.cuda.is_available()"
      ]
    },
    {
      "attachments": {},
      "cell_type": "markdown",
      "metadata": {},
      "source": [
        "Downstream tasks: Paraphrase Detection"
      ]
    },
    {
      "cell_type": "code",
      "execution_count": 27,
      "metadata": {},
      "outputs": [],
      "source": [
        "l1=[]\n",
        "l2=[]\n",
        "with open('../hindi_input_para.txt') as f:\n",
        "    l1 = f.readlines()\n",
        "\n",
        "with open('../hindi_output_para.txt') as f:\n",
        "    l2 = f.readlines()"
      ]
    },
    {
      "cell_type": "code",
      "execution_count": 28,
      "metadata": {},
      "outputs": [],
      "source": [
        "for i in range(0,len(l1)):\n",
        "  l1[i]=str(l1[i].strip())\n",
        "  l2[i]=str(l2[i].strip())  "
      ]
    },
    {
      "cell_type": "code",
      "execution_count": 29,
      "metadata": {},
      "outputs": [],
      "source": [
        "l3=[]\n",
        "l4=[]\n",
        "with open('../hindi_input_nonpara.txt') as f:\n",
        "    l3 = f.readlines()\n",
        "\n",
        "with open('../hindi_output_nonpara.txt') as f:\n",
        "    l4 = f.readlines()"
      ]
    },
    {
      "cell_type": "code",
      "execution_count": 30,
      "metadata": {},
      "outputs": [],
      "source": [
        "for i in range(0,len(l3)):\n",
        "  l3[i]=str(l3[i].strip())\n",
        "  l4[i]=str(l4[i].strip())  "
      ]
    },
    {
      "cell_type": "code",
      "execution_count": 31,
      "metadata": {},
      "outputs": [],
      "source": [
        "l_train=[]\n",
        "for i in range(0,len(l1)):\n",
        "    temp_var=(l1[i],l2[i],1)\n",
        "    l_train.append(temp_var)\n",
        "for i in range(0,len(l3)):\n",
        "    temp_var=(l3[i],l4[i],0)\n",
        "    l_train.append(temp_var)"
      ]
    },
    {
      "cell_type": "code",
      "execution_count": 32,
      "metadata": {},
      "outputs": [],
      "source": [
        "first_elements = []\n",
        "second_elements =[]\n",
        "third_elements = []\n",
        "\n",
        "# Loop through each tuple in the list\n",
        "for my_tuple in l_train:\n",
        "    # Get the third element of the tuple (at index 2)\n",
        "    first_element = my_tuple[0]\n",
        "    second_element = my_tuple[1]\n",
        "    third_element = my_tuple[2]\n",
        "    # Add the third element to the list\n",
        "    first_elements.append(first_element)\n",
        "    second_elements.append(second_element)\n",
        "    third_elements.append(third_element)"
      ]
    },
    {
      "cell_type": "code",
      "execution_count": 34,
      "metadata": {},
      "outputs": [],
      "source": [
        "import pandas as pd"
      ]
    },
    {
      "cell_type": "code",
      "execution_count": 35,
      "metadata": {},
      "outputs": [],
      "source": [
        "d = {'text1': first_elements, 'text2': second_elements, 'text3': third_elements} \n",
        "test_df = pd.DataFrame(d)\n",
        "test_df = test_df.dropna()\n",
        "tt1 = test_df[\"text1\"].tolist()\n",
        "tt2 = test_df[\"text2\"].tolist()\n",
        "tt3 = test_df[\"text3\"].tolist()\n",
        "# Define the three lists\n",
        "# Create an empty list to store the tuples\n",
        "combined_list = []\n",
        "\n",
        "# Loop through the lists using the zip() function\n",
        "for item1, item2, item3 in zip(tt1, tt2, tt3):\n",
        "    # Create a tuple containing the current elements\n",
        "    current_tuple = (item1, item2, item3)\n",
        "    # Append the tuple to the combined list\n",
        "    combined_list.append(current_tuple)"
      ]
    },
    {
      "cell_type": "code",
      "execution_count": 38,
      "metadata": {},
      "outputs": [
        {
          "data": {
            "text/plain": [
              "('गिमनासिया एस्ग्रिमा (एलपी) ने 3-2 से जीत हासिल की और वह प्राइमरा डिविज़न में रह गई।',\n",
              " 'जिम्नासिया एस्ग्रिमा (एलपी) ने 3-2 से जीत हासिल की और प्राइमेरा डिविसिमिनेस एन में रह गई।',\n",
              " 1)"
            ]
          },
          "execution_count": 38,
          "metadata": {},
          "output_type": "execute_result"
        }
      ],
      "source": [
        "combined_list[53]"
      ]
    },
    {
      "cell_type": "code",
      "execution_count": 37,
      "metadata": {},
      "outputs": [
        {
          "data": {
            "text/plain": [
              "8000"
            ]
          },
          "execution_count": 37,
          "metadata": {},
          "output_type": "execute_result"
        }
      ],
      "source": [
        "len(combined_list)"
      ]
    },
    {
      "cell_type": "code",
      "execution_count": 46,
      "metadata": {},
      "outputs": [
        {
          "name": "stderr",
          "output_type": "stream",
          "text": [
            "Some weights of the model checkpoint at ai4bharat/indic-bert were not used when initializing AlbertForSequenceClassification: ['predictions.LayerNorm.weight', 'sop_classifier.classifier.bias', 'predictions.decoder.bias', 'predictions.decoder.weight', 'predictions.LayerNorm.bias', 'sop_classifier.classifier.weight', 'predictions.dense.weight', 'predictions.bias', 'predictions.dense.bias']\n",
            "- This IS expected if you are initializing AlbertForSequenceClassification from the checkpoint of a model trained on another task or with another architecture (e.g. initializing a BertForSequenceClassification model from a BertForPreTraining model).\n",
            "- This IS NOT expected if you are initializing AlbertForSequenceClassification from the checkpoint of a model that you expect to be exactly identical (initializing a BertForSequenceClassification model from a BertForSequenceClassification model).\n",
            "Some weights of AlbertForSequenceClassification were not initialized from the model checkpoint at ai4bharat/indic-bert and are newly initialized: ['classifier.bias', 'classifier.weight']\n",
            "You should probably TRAIN this model on a down-stream task to be able to use it for predictions and inference.\n",
            "Asking to truncate to max_length but no maximum length is provided and the model has no predefined maximum length. Default to no truncation.\n",
            "100%|██████████| 4000/4000 [06:05<00:00, 10.95it/s]\n",
            "100%|██████████| 4000/4000 [06:14<00:00, 10.68it/s]\n",
            "100%|██████████| 4000/4000 [06:14<00:00, 10.67it/s]\n"
          ]
        }
      ],
      "source": [
        "import torch\n",
        "from transformers import AutoTokenizer, AutoModelForSequenceClassification, AdamW\n",
        "\n",
        "# Load the pre-trained Indic-BERT model and tokenizer\n",
        "model_name = \"ai4bharat/indic-bert\"\n",
        "tokenizer = AutoTokenizer.from_pretrained(model_name)\n",
        "model = AutoModelForSequenceClassification.from_pretrained(model_name, num_labels=2)\n",
        "\n",
        "# Prepare the training data\n",
        "train_sentence_pairs = combined_list\n",
        "# The third element in each tuple indicates whether the two sentences are paraphrases (1) or not paraphrases (0)\n",
        "\n",
        "# Tokenize the training data\n",
        "train_encodings = tokenizer([sp[0] for sp in train_sentence_pairs], [sp[1] for sp in train_sentence_pairs], truncation=True, padding=True, return_tensors='pt')\n",
        "train_encodings['labels'] = torch.tensor([sp[2] for sp in train_sentence_pairs])\n",
        "\n",
        "# Create a PyTorch DataLoader object for the training data\n",
        "train_dataset = torch.utils.data.TensorDataset(train_encodings['input_ids'], train_encodings['attention_mask'], train_encodings['labels'])\n",
        "train_loader = torch.utils.data.DataLoader(train_dataset, batch_size=2, shuffle=True)\n",
        "\n",
        "# Define the optimizer and loss function\n",
        "optimizer = AdamW(model.parameters(), lr=5e-5)\n",
        "loss_fn = torch.nn.CrossEntropyLoss()\n",
        "\n",
        "# Move the model to the appropriate device\n",
        "device = torch.device('cuda' if torch.cuda.is_available() else 'cpu')\n",
        "model.to(device)\n",
        "\n",
        "# Train the model\n",
        "model.train()\n",
        "for epoch in range(3):\n",
        "    for batch in tqdm(train_loader):\n",
        "        optimizer.zero_grad()\n",
        "        input_ids = batch[0].to(device)\n",
        "        attention_mask = batch[1].to(device)\n",
        "        labels = batch[2].to(device)\n",
        "        outputs = model(input_ids=input_ids, attention_mask=attention_mask, labels=labels)\n",
        "        loss = outputs.loss\n",
        "        loss.backward()\n",
        "        optimizer.step()\n",
        "\n",
        "# Save the finetuned model\n",
        "model.save_pretrained(\"finetuned_model\")\n"
      ]
    },
    {
      "attachments": {},
      "cell_type": "markdown",
      "metadata": {},
      "source": [
        "Downstream tasks: Sentiment Analysis"
      ]
    },
    {
      "cell_type": "code",
      "execution_count": 1,
      "metadata": {},
      "outputs": [
        {
          "name": "stderr",
          "output_type": "stream",
          "text": [
            "/home/neham/anaconda3/envs/vibhhu38/lib/python3.8/site-packages/tqdm/auto.py:21: TqdmWarning: IProgress not found. Please update jupyter and ipywidgets. See https://ipywidgets.readthedocs.io/en/stable/user_install.html\n",
            "  from .autonotebook import tqdm as notebook_tqdm\n",
            "Downloading (…)lve/main/config.json: 100%|██████████| 841/841 [00:00<00:00, 91.3kB/s]\n",
            "Downloading (…)tencepiece.bpe.model: 100%|██████████| 5.07M/5.07M [00:00<00:00, 53.3MB/s]\n",
            "Downloading (…)cial_tokens_map.json: 100%|██████████| 150/150 [00:00<00:00, 45.4kB/s]\n",
            "Downloading pytorch_model.bin: 100%|██████████| 1.11G/1.11G [00:10<00:00, 102MB/s] \n"
          ]
        },
        {
          "name": "stdout",
          "output_type": "stream",
          "text": [
            "1) positive 0.7673\n",
            "2) neutral 0.2015\n",
            "3) negative 0.0313\n"
          ]
        }
      ],
      "source": [
        "from transformers import AutoModelForSequenceClassification\n",
        "from transformers import TFAutoModelForSequenceClassification\n",
        "from transformers import AutoTokenizer, AutoConfig\n",
        "import numpy as np\n",
        "from scipy.special import softmax\n",
        "\n",
        "# Preprocess text (username and link placeholders)\n",
        "def preprocess(text):\n",
        "    new_text = []\n",
        "    for t in text.split(\" \"):\n",
        "        t = '@user' if t.startswith('@') and len(t) > 1 else t\n",
        "        t = 'http' if t.startswith('http') else t\n",
        "        new_text.append(t)\n",
        "    return \" \".join(new_text)\n",
        "\n",
        "MODEL = f\"cardiffnlp/twitter-xlm-roberta-base-sentiment\"\n",
        "\n",
        "tokenizer = AutoTokenizer.from_pretrained(MODEL)\n",
        "config = AutoConfig.from_pretrained(MODEL)\n",
        "\n",
        "# PT\n",
        "model = AutoModelForSequenceClassification.from_pretrained(MODEL)\n",
        "model.save_pretrained(MODEL)\n",
        "\n",
        "text = \"Good night 😊\"\n",
        "text = preprocess(text)\n",
        "encoded_input = tokenizer(text, return_tensors='pt')\n",
        "output = model(**encoded_input)\n",
        "scores = output[0][0].detach().numpy()\n",
        "scores = softmax(scores)\n",
        "\n",
        "# Print labels and scores\n",
        "ranking = np.argsort(scores)\n",
        "ranking = ranking[::-1]\n",
        "for i in range(scores.shape[0]):\n",
        "    l = config.id2label[ranking[i]]\n",
        "    s = scores[ranking[i]]\n",
        "    print(f\"{i+1}) {l} {np.round(float(s), 4)}\")\n"
      ]
    },
    {
      "cell_type": "code",
      "execution_count": 2,
      "metadata": {},
      "outputs": [
        {
          "name": "stdout",
          "output_type": "stream",
          "text": [
            "[0.03125937 0.20148002 0.7672607 ]\n"
          ]
        }
      ],
      "source": [
        "print(scores)"
      ]
    },
    {
      "cell_type": "code",
      "execution_count": 2,
      "metadata": {},
      "outputs": [
        {
          "data": {
            "text/plain": [
              "[{'label': 'positive', 'score': 0.660058319568634}]"
            ]
          },
          "execution_count": 2,
          "metadata": {},
          "output_type": "execute_result"
        }
      ],
      "source": [
        "from transformers import pipeline\n",
        "model_path = \"cardiffnlp/twitter-xlm-roberta-base-sentiment\"\n",
        "sentiment_task = pipeline(\"sentiment-analysis\", model=model_path, tokenizer=model_path)\n",
        "sentiment_task(\"T'estimo!\")[0]['label']\n"
      ]
    },
    {
      "cell_type": "code",
      "execution_count": 6,
      "metadata": {},
      "outputs": [
        {
          "data": {
            "text/plain": [
              "'positive'"
            ]
          },
          "execution_count": 6,
          "metadata": {},
          "output_type": "execute_result"
        }
      ],
      "source": [
        "sentiment_task(\"T'estimo!\")[0]['label']"
      ]
    },
    {
      "cell_type": "code",
      "execution_count": 20,
      "metadata": {},
      "outputs": [],
      "source": [
        "l1=[]\n",
        "l2=[]\n",
        "with open('../hindi_input_para.txt') as f:\n",
        "    l1 = f.readlines()\n",
        "\n",
        "with open('../hindi_output_para.txt') as f:\n",
        "    l2 = f.readlines()"
      ]
    },
    {
      "cell_type": "code",
      "execution_count": 40,
      "metadata": {},
      "outputs": [
        {
          "data": {
            "text/plain": [
              "<All keys matched successfully>"
            ]
          },
          "execution_count": 40,
          "metadata": {},
          "output_type": "execute_result"
        }
      ],
      "source": [
        "model = MBartForConditionalGeneration.from_pretrained(\"ai4bharat/IndicBART\")\n",
        "model.load_state_dict(torch.load('../normal_para_model.pt'))"
      ]
    },
    {
      "cell_type": "code",
      "execution_count": null,
      "metadata": {},
      "outputs": [],
      "source": [
        "hindi_input_sentence = \"मैं एक [MASK] हूँ </s> <2hi>\"\n",
        "hin_inp = tokenizer(hindi_input_sentence, add_special_tokens=False, return_tensors=\"pt\", padding=True).input_ids.to(0)\n",
        "\n",
        "# What does this look like?\n",
        "\n",
        "print(\"Original input sentence:\", hindi_input_sentence)\n",
        "print(\"Segmented input sentence:\", tokenizer.convert_ids_to_tokens(hin_inp[0]))\n",
        "print(\"Input sentence as tensor: \", hin_inp)\n",
        "\n",
        "# Generate\n",
        "\n",
        "model_output=model.generate(hin_inp, use_cache=True, num_beams=4, max_length=20, min_length=1, early_stopping=True, pad_token_id=pad_id, bos_token_id=bos_id, eos_token_id=eos_id, decoder_start_token_id=tokenizer._convert_token_to_id_with_added_voc(\"<2hi>\"))\n",
        "# Output is a tensor and we need to convert it back into a sentence.\n",
        "\n",
        "print(\"Model output as tensor:\", model_output)\n",
        "\n",
        "# What is this in tokens?\n",
        "\n",
        "print(\"Model output as segmented sentence:\", tokenizer.convert_ids_to_tokens(model_output[0]))\n",
        "\n",
        "# Decode using the tokenizer to get output strings.\n",
        "\n",
        "decoded_output=tokenizer.decode(model_output[0], skip_special_tokens=True, clean_up_tokenization_spaces=False)\n",
        "\n",
        "print(\"Models actual output:\", decoded_output)"
      ]
    },
    {
      "cell_type": "code",
      "execution_count": 43,
      "metadata": {},
      "outputs": [
        {
          "name": "stderr",
          "output_type": "stream",
          "text": [
            "100%|██████████| 999/999 [02:44<00:00,  6.09it/s]\n"
          ]
        }
      ],
      "source": [
        "created_counterfactuals=[]\n",
        "model.to(0)\n",
        "for i in tqdm(range(0,len(l3))):\n",
        "   hin_inp = tokenizer(l3[i], add_special_tokens=False, return_tensors=\"pt\", padding=True).input_ids.to(0)\n",
        "   model_output=model.generate(hin_inp, use_cache=True, num_beams=4, max_length=20, min_length=1, early_stopping=True, pad_token_id=pad_id, bos_token_id=bos_id, eos_token_id=eos_id, decoder_start_token_id=tokenizer._convert_token_to_id_with_added_voc(\"<2hi>\"))\n",
        "   decoded_output=tokenizer.decode(model_output[0], skip_special_tokens=True, clean_up_tokenization_spaces=False)\n",
        "   created_counterfactuals.append(decoded_output)"
      ]
    },
    {
      "cell_type": "code",
      "execution_count": 44,
      "metadata": {},
      "outputs": [],
      "source": [
        "file = open('generated_data.txt','w')\n",
        "for item in created_counterfactuals:\n",
        "\tfile.write(item+\"\\n\")\n",
        "file.close()"
      ]
    },
    {
      "cell_type": "code",
      "execution_count": 21,
      "metadata": {},
      "outputs": [],
      "source": [
        "for i in range(0,len(l1)):\n",
        "  l1[i]=l1[i].strip()\n",
        "  l2[i]=l2[i].strip()  "
      ]
    },
    {
      "cell_type": "code",
      "execution_count": 22,
      "metadata": {},
      "outputs": [],
      "source": [
        "l3=l1[3001:]\n",
        "l4=l2[3001:]"
      ]
    },
    {
      "cell_type": "code",
      "execution_count": 23,
      "metadata": {},
      "outputs": [
        {
          "name": "stderr",
          "output_type": "stream",
          "text": [
            "100%|██████████| 999/999 [00:27<00:00, 36.13it/s]\n"
          ]
        }
      ],
      "source": [
        "l5=[]\n",
        "for i in tqdm(range(0,len(l3))):\n",
        "    a=sentiment_task(l3[i])\n",
        "    if a[0]['label']=='positive':\n",
        "        l5.append(1)\n",
        "    elif a[0]['label']=='negative':\n",
        "        l5.append(-1)\n",
        "    elif a[0]['label']=='neutral':\n",
        "        l5.append(0)"
      ]
    },
    {
      "cell_type": "code",
      "execution_count": 24,
      "metadata": {},
      "outputs": [
        {
          "name": "stderr",
          "output_type": "stream",
          "text": [
            "100%|██████████| 999/999 [00:27<00:00, 36.91it/s]\n"
          ]
        }
      ],
      "source": [
        "l6=[]\n",
        "for i in tqdm(range(0,len(l4))):\n",
        "    a=sentiment_task(l4[i])\n",
        "    if a[0]['label']=='positive':\n",
        "        l6.append(1)\n",
        "    elif a[0]['label']=='negative':\n",
        "        l6.append(-1)\n",
        "    elif a[0]['label']=='neutral':\n",
        "        l6.append(0)"
      ]
    },
    {
      "cell_type": "code",
      "execution_count": 25,
      "metadata": {},
      "outputs": [
        {
          "name": "stdout",
          "output_type": "stream",
          "text": [
            "0.954954954954955\n"
          ]
        }
      ],
      "source": [
        "c=0\n",
        "for i in range(0, len(l5)):\n",
        "    if l5[i]==l6[i]:\n",
        "        c+=1\n",
        "print(c/len(l5))"
      ]
    },
    {
      "cell_type": "code",
      "execution_count": 13,
      "metadata": {},
      "outputs": [],
      "source": [
        "l7=[]\n",
        "l8=[]\n",
        "with open('../hindi_input_nonpara.txt') as f:\n",
        "    l7 = f.readlines()\n",
        "\n",
        "with open('../hindi_output_nonpara.txt') as f:\n",
        "    l8 = f.readlines()"
      ]
    },
    {
      "cell_type": "code",
      "execution_count": 14,
      "metadata": {},
      "outputs": [],
      "source": [
        "for i in range(0,len(l7)):\n",
        "  l7[i]=l7[i].strip()\n",
        "  l8[i]=l8[i].strip()  "
      ]
    },
    {
      "cell_type": "code",
      "execution_count": 15,
      "metadata": {},
      "outputs": [],
      "source": [
        "l_3=l7[:3000]\n",
        "l_4=l8[:3000]"
      ]
    },
    {
      "cell_type": "code",
      "execution_count": 16,
      "metadata": {},
      "outputs": [
        {
          "name": "stderr",
          "output_type": "stream",
          "text": [
            "100%|██████████| 3000/3000 [01:33<00:00, 31.94it/s]\n"
          ]
        }
      ],
      "source": [
        "l_5=[]\n",
        "for i in tqdm(range(0,len(l_3))):\n",
        "    a=sentiment_task(l_3[i])\n",
        "    if a[0]['label']=='positive':\n",
        "        l_5.append(1)\n",
        "    elif a[0]['label']=='negative':\n",
        "        l_5.append(-1)\n",
        "    elif a[0]['label']=='neutral':\n",
        "        l_5.append(0)"
      ]
    },
    {
      "cell_type": "code",
      "execution_count": 17,
      "metadata": {},
      "outputs": [
        {
          "name": "stderr",
          "output_type": "stream",
          "text": [
            "100%|██████████| 3000/3000 [01:29<00:00, 33.63it/s]\n"
          ]
        }
      ],
      "source": [
        "l_6=[]\n",
        "for i in tqdm(range(0,len(l_4))):\n",
        "    a=sentiment_task(l_4[i])\n",
        "    if a[0]['label']=='positive':\n",
        "        l_6.append(1)\n",
        "    elif a[0]['label']=='negative':\n",
        "        l_6.append(-1)\n",
        "    elif a[0]['label']=='neutral':\n",
        "        l_6.append(0)"
      ]
    },
    {
      "cell_type": "code",
      "execution_count": 19,
      "metadata": {},
      "outputs": [
        {
          "name": "stdout",
          "output_type": "stream",
          "text": [
            "0.05166666666666664\n",
            "0.9483333333333334\n"
          ]
        }
      ],
      "source": [
        "c=0\n",
        "for i in range(0, len(l_5)):\n",
        "    if l_5[i]==l_6[i]:\n",
        "        c+=1\n",
        "print(1-(c/len(l_5)))\n",
        "print(c/len(l_5))"
      ]
    },
    {
      "cell_type": "code",
      "execution_count": 56,
      "metadata": {},
      "outputs": [
        {
          "name": "stdout",
          "output_type": "stream",
          "text": [
            "[('a', 1), ('b', 2), ('c', 3)]\n"
          ]
        }
      ],
      "source": [
        "l=list(zip(['a','b','c'],[1,2,3]))\n",
        "print(l)"
      ]
    },
    {
      "cell_type": "code",
      "execution_count": null,
      "metadata": {},
      "outputs": [],
      "source": [
        "from transformers import AutoTokenizer, AutoModelForSequenceClassification, AdamW\n",
        "import torch\n",
        "from torch.utils.data import DataLoader\n",
        "from transformers import Trainer, TrainingArguments\n",
        "import numpy as np\n",
        "\n",
        "tokenizer = AutoTokenizer.from_pretrained('cardiffnlp/twitter-xlm-roberta-base-sentiment')\n",
        "\n",
        "model = AutoModelForSequenceClassification.from_pretrained('cardiffnlp/twitter-xlm-roberta-base-sentiment', num_labels=3)\n",
        "\n",
        "train_dataset = [\n",
        "    {'text': 'यह फोन बहुत अच्छा है।', 'label': 1},\n",
        "    {'text': 'मैं इस फोन से नाखुश हूँ।', 'label': -1},\n",
        "    {'text': 'फोन की बैटरी लाइफ काफी अच्छी है।', 'label': 1},\n",
        "    {'text': 'फोन का कैमरा बहुत बेकार है।', 'label': -1},\n",
        "]\n",
        "\n",
        "def encode_text(text):\n",
        "    return tokenizer(text, padding=True, truncation=True, max_length=512)\n",
        "\n",
        "def encode_label(label):\n",
        "    return label + 1\n",
        "\n",
        "def encode_example(example):\n",
        "    return {'input_ids': encode_text(example['text'])['input_ids'],\n",
        "            'attention_mask': encode_text(example['text'])['attention_mask'],\n",
        "            'label': encode_label(example['label'])}\n",
        "\n",
        "encoded_train_dataset = [encode_example(example) for example in train_dataset]\n",
        "\n",
        "train_dataloader = DataLoader(encoded_train_dataset, batch_size=2, shuffle=True)\n",
        "\n",
        "training_args = TrainingArguments(\n",
        "    output_dir='./results',\n",
        "    num_train_epochs=1,\n",
        "    per_device_train_batch_size=2,\n",
        "    warmup_steps=500,\n",
        "    weight_decay=0.01,\n",
        "    logging_dir='./logs',\n",
        ")\n",
        "\n",
        "device = torch.device('cuda') if torch.cuda.is_available() else torch.device('cpu')\n",
        "model.to(device)\n",
        "\n",
        "trainer = Trainer(model=model, args=training_args)\n",
        "\n",
        "for epoch in range(training_args.num_train_epochs):\n",
        "    total_loss = 0\n",
        "    for step, batch in enumerate(train_dataloader):\n",
        "        batch = {k: v.to(device) for k, v in batch.items()}\n",
        "        outputs = model(**batch)\n",
        "        loss = outputs.loss\n",
        "        loss.backward()\n",
        "        optimizer.step()\n",
        "        optimizer.zero_grad()\n",
        "        total_loss += loss.item()\n",
        "        if step % 100 == 0:\n",
        "            print(f\"Epoch {epoch}, Step {step}, Loss {total_loss / (step+1)}\")\n"
      ]
    },
    {
      "cell_type": "code",
      "execution_count": 65,
      "metadata": {},
      "outputs": [
        {
          "data": {
            "text/plain": [
              "999"
            ]
          },
          "execution_count": 65,
          "metadata": {},
          "output_type": "execute_result"
        }
      ],
      "source": [
        "len(l5)"
      ]
    },
    {
      "cell_type": "code",
      "execution_count": 66,
      "metadata": {},
      "outputs": [
        {
          "data": {
            "text/plain": [
              "999"
            ]
          },
          "execution_count": 66,
          "metadata": {},
          "output_type": "execute_result"
        }
      ],
      "source": [
        "len(created_counterfactuals)"
      ]
    },
    {
      "cell_type": "code",
      "execution_count": 52,
      "metadata": {},
      "outputs": [
        {
          "data": {
            "text/plain": [
              "'ग्रेवाल दूसरा परिवार है जो लोकप्रिय श्रृंखला द फैमिली ऑफ द ब्रिटिश चैनल 4 श्रृंखला में दिखाई'"
            ]
          },
          "execution_count": 52,
          "metadata": {},
          "output_type": "execute_result"
        }
      ],
      "source": [
        "created_counterfactuals[56]"
      ]
    },
    {
      "cell_type": "code",
      "execution_count": 46,
      "metadata": {},
      "outputs": [
        {
          "data": {
            "text/plain": [
              "{'input_ids': tensor([[     0,    967,  47186,  ...,      1,      1,      1],\n",
              "        [     0,  78161,   1480,  ...,      1,      1,      1],\n",
              "        [     0, 102110,  39021,  ...,      1,      1,      1],\n",
              "        ...,\n",
              "        [     0,  38731,   6690,  ...,      1,      1,      1],\n",
              "        [     0,   4993,   4010,  ...,      1,      1,      1],\n",
              "        [     0,   9331,   5278,  ...,      1,      1,      1]]), 'attention_mask': tensor([[1, 1, 1,  ..., 0, 0, 0],\n",
              "        [1, 1, 1,  ..., 0, 0, 0],\n",
              "        [1, 1, 1,  ..., 0, 0, 0],\n",
              "        ...,\n",
              "        [1, 1, 1,  ..., 0, 0, 0],\n",
              "        [1, 1, 1,  ..., 0, 0, 0],\n",
              "        [1, 1, 1,  ..., 0, 0, 0]]), 'labels': tensor([ 0,  0,  0, -1,  0,  0,  0,  0,  0,  0,  0,  0,  0,  0,  0,  0,  0,  0,\n",
              "         0,  0,  0,  0,  0,  0,  0,  1,  0,  0,  0,  0,  0,  0,  0,  0,  0, -1,\n",
              "         0,  0,  0,  0,  0,  0,  0,  0,  0,  0,  0,  0,  0,  0,  0,  0,  0,  0,\n",
              "         0,  0,  0,  0,  0,  1,  0,  0,  0,  0,  0,  0,  1,  0,  0,  0,  0,  0,\n",
              "         0,  0,  0,  0,  0,  1,  0,  0,  0,  0, -1,  0,  0, -1,  0,  0,  0,  0,\n",
              "         0,  0,  0,  0,  0,  0,  0,  0,  0,  0,  0,  0,  0,  0,  0,  0,  0,  0,\n",
              "        -1,  0,  0,  1,  0,  0,  0,  0,  0,  0,  0,  0,  0,  0,  1,  1,  0,  0,\n",
              "         0,  0,  0,  0,  0, -1,  0,  0, -1,  0,  0,  1,  0,  0,  0,  0,  0,  0,\n",
              "         0,  0,  0,  0,  0,  0,  0,  0,  0,  0,  0,  0,  0,  0,  0,  0,  0,  0,\n",
              "         0,  0,  0,  0, -1,  0,  0,  0,  0,  0,  0,  0,  0,  0,  0,  0,  0,  0,\n",
              "         0,  0,  0,  0,  0,  0,  0,  0,  0,  0,  0,  0,  0,  0,  0,  0,  0,  0,\n",
              "         0,  0,  1,  1,  0,  0,  0,  0,  0, -1,  0,  0,  0,  0,  0,  0,  0,  0,\n",
              "         0,  0,  0,  0,  0,  0,  0,  0,  0,  0,  0,  0,  0,  0,  0,  0,  0,  0,\n",
              "         0,  0,  0,  0,  0,  1,  0,  0,  0,  0,  0,  0,  0,  0,  0,  0,  0,  0,\n",
              "         0,  0,  0,  0,  0,  0,  0,  0,  0,  1, -1,  0,  1,  0,  0,  0,  0,  0,\n",
              "         0,  0, -1,  0,  0,  0,  0,  0,  0,  0,  0,  0,  0, -1,  0, -1,  0,  0,\n",
              "         0,  0,  0,  0,  0,  0,  0, -1, -1,  0,  0,  0,  0,  0,  0,  0,  0,  0,\n",
              "         1,  0,  0, -1,  0,  0, -1,  0,  1,  0,  0,  0,  0,  0,  0,  0,  0,  0,\n",
              "         0,  0,  0, -1,  0,  0,  0,  0,  0,  0,  0,  0, -1,  0,  0,  0,  0, -1,\n",
              "         0,  0,  0,  0,  0,  0,  0,  0,  0,  0,  0,  0,  0,  0,  0,  0,  0,  0,\n",
              "         0, -1,  0,  0,  1,  0,  0,  1,  0,  0,  0,  0,  0,  0,  0,  0,  0,  0,\n",
              "         0,  0,  0,  0,  0,  0,  0,  0,  0, -1,  0,  0,  0,  0,  0,  0,  0,  0,\n",
              "         0,  0, -1,  0,  0,  0,  0,  0,  0,  0,  0,  1,  0,  0,  0,  0,  0,  0,\n",
              "         0,  0,  0,  0,  0,  0, -1,  0,  0,  0,  0,  0,  0,  0,  0,  0,  0,  0,\n",
              "         0,  0,  0,  0,  0,  0,  0,  0,  0,  1,  0, -1,  1,  1,  0,  1,  0,  0,\n",
              "        -1,  0,  0,  0,  0,  0,  0,  0, -1,  0,  0,  0,  0,  0, -1,  0,  0,  0,\n",
              "         0,  0,  0,  0,  0,  0,  0,  0,  0,  0,  0, -1,  0,  0,  0,  0,  0,  0,\n",
              "         0,  1,  0,  0,  0,  0,  0,  0,  0,  0,  0,  0,  0,  0,  0,  0,  0,  0,\n",
              "         0,  1,  0,  0,  0,  0,  0,  0,  0,  0,  0, -1,  0,  0,  0,  0,  1,  0,\n",
              "         0,  0,  0,  0,  0,  1,  0,  0, -1,  0,  0,  0, -1,  0,  1,  0,  0,  0,\n",
              "         1,  0,  0, -1,  0,  0,  0,  0,  1,  0,  0,  0,  0,  0,  0,  0,  0,  0,\n",
              "         0,  0,  0,  0,  0,  0,  0,  0,  1,  0,  0,  0,  0,  0,  0,  0,  0,  0,\n",
              "         0,  0,  0,  0,  0,  0,  0, -1,  0,  0, -1, -1,  0,  0,  0,  0,  0,  0,\n",
              "         0,  0,  0,  0,  0,  0,  0,  0,  0,  0,  0,  0,  0, -1,  0,  0,  0,  0,\n",
              "         0,  0,  0,  0,  0,  0,  0,  0,  0,  0,  0,  0,  0,  0,  1,  0,  1,  0,\n",
              "         0,  0,  0,  0,  0,  0,  0,  0,  0, -1,  0,  1,  0,  0,  0,  0,  0,  0,\n",
              "         0,  0,  0,  0,  0,  0,  1,  0,  0,  0,  0,  0,  0,  0,  0, -1,  0,  0,\n",
              "         0,  0,  0,  0,  0,  1,  0,  0,  0,  0,  0,  0,  0,  0,  0,  0,  0,  0,\n",
              "         0,  1,  0,  0,  0,  0,  0, -1,  0,  0,  0,  0,  0,  1,  0,  0,  0,  0,\n",
              "         0,  0, -1,  0,  0,  0,  0,  0, -1,  0,  0,  0,  0,  0,  0,  0,  0,  0,\n",
              "         0, -1,  0,  0,  0, -1,  0,  0,  0,  0,  0,  0,  0,  0,  0,  0,  0,  0,\n",
              "         0,  0,  0,  0,  0,  0,  0,  0,  0,  0,  0,  1,  0,  0, -1, -1,  1, -1,\n",
              "         0,  1,  0,  1,  0,  0,  0,  0,  0,  0, -1,  0,  0,  0,  0,  0,  0,  0,\n",
              "         0,  0,  1,  0,  0,  0,  0,  0,  0,  0, -1,  0,  0,  0,  0,  0,  0,  0,\n",
              "         0,  0,  0,  0,  0, -1,  0,  0,  0,  0,  0,  0,  0,  0,  0,  0,  0,  0,\n",
              "         0,  0,  1,  0, -1,  1,  0,  0,  0,  0,  0,  0,  0,  0,  0,  0, -1,  0,\n",
              "         1,  0,  0,  0,  0,  0,  1,  0,  0,  0,  0,  0,  0,  0,  0,  0,  0,  0,\n",
              "         1,  0,  0,  0, -1,  0,  0,  0,  0,  1, -1,  0,  0,  0,  0,  0,  0,  0,\n",
              "         0,  0,  0,  0,  0,  0,  0,  0,  0,  0,  0,  0,  0,  0,  0,  0,  0,  0,\n",
              "         0,  0,  0,  0,  0, -1,  0,  0,  0,  1,  0,  0,  0,  0,  0,  0,  0,  0,\n",
              "         0,  0, -1,  0,  0,  0,  0,  0,  0,  0,  0,  0, -1,  0,  0,  0,  0,  0,\n",
              "         0, -1,  0,  0,  0,  0,  0,  0,  0,  0,  0,  0,  0,  0,  0,  0,  0,  0,\n",
              "         0,  0,  0,  0,  0,  0,  0,  0,  0,  0,  0,  0, -1,  0,  1,  0,  0,  1,\n",
              "         1,  0,  0,  0,  0,  0,  0,  0,  0,  0,  0, -1,  0,  0,  0,  0,  0,  0,\n",
              "         0,  0,  0,  0,  0,  0,  0,  0,  0,  0,  0,  0,  0,  0,  0,  0,  0,  0,\n",
              "         0,  0,  0,  0,  0,  0,  0,  0,  0])}"
            ]
          },
          "execution_count": 46,
          "metadata": {},
          "output_type": "execute_result"
        }
      ],
      "source": [
        "encoded_dataset"
      ]
    }
  ],
  "metadata": {
    "colab": {
      "provenance": []
    },
    "kernelspec": {
      "display_name": "Python 3",
      "name": "python3"
    },
    "language_info": {
      "codemirror_mode": {
        "name": "ipython",
        "version": 3
      },
      "file_extension": ".py",
      "mimetype": "text/x-python",
      "name": "python",
      "nbconvert_exporter": "python",
      "pygments_lexer": "ipython3",
      "version": "3.8.16"
    },
    "widgets": {
      "application/vnd.jupyter.widget-state+json": {
        "01a83e6401a9469d8f7ba86febb1d2b3": {
          "model_module": "@jupyter-widgets/controls",
          "model_module_version": "1.5.0",
          "model_name": "FloatProgressModel",
          "state": {
            "_dom_classes": [],
            "_model_module": "@jupyter-widgets/controls",
            "_model_module_version": "1.5.0",
            "_model_name": "FloatProgressModel",
            "_view_count": null,
            "_view_module": "@jupyter-widgets/controls",
            "_view_module_version": "1.5.0",
            "_view_name": "ProgressView",
            "bar_style": "success",
            "description": "",
            "description_tooltip": null,
            "layout": "IPY_MODEL_215ea9feb2bc4b029a9d5326c31ed257",
            "max": 976429105,
            "min": 0,
            "orientation": "horizontal",
            "style": "IPY_MODEL_545dc58078594c7a8ac8d4516518c779",
            "value": 976429105
          }
        },
        "0585a67a569e4cb9951833421b171351": {
          "model_module": "@jupyter-widgets/base",
          "model_module_version": "1.2.0",
          "model_name": "LayoutModel",
          "state": {
            "_model_module": "@jupyter-widgets/base",
            "_model_module_version": "1.2.0",
            "_model_name": "LayoutModel",
            "_view_count": null,
            "_view_module": "@jupyter-widgets/base",
            "_view_module_version": "1.2.0",
            "_view_name": "LayoutView",
            "align_content": null,
            "align_items": null,
            "align_self": null,
            "border": null,
            "bottom": null,
            "display": null,
            "flex": null,
            "flex_flow": null,
            "grid_area": null,
            "grid_auto_columns": null,
            "grid_auto_flow": null,
            "grid_auto_rows": null,
            "grid_column": null,
            "grid_gap": null,
            "grid_row": null,
            "grid_template_areas": null,
            "grid_template_columns": null,
            "grid_template_rows": null,
            "height": null,
            "justify_content": null,
            "justify_items": null,
            "left": null,
            "margin": null,
            "max_height": null,
            "max_width": null,
            "min_height": null,
            "min_width": null,
            "object_fit": null,
            "object_position": null,
            "order": null,
            "overflow": null,
            "overflow_x": null,
            "overflow_y": null,
            "padding": null,
            "right": null,
            "top": null,
            "visibility": null,
            "width": null
          }
        },
        "061a4bf8d27a4e1b9581c72065840443": {
          "model_module": "@jupyter-widgets/controls",
          "model_module_version": "1.5.0",
          "model_name": "HTMLModel",
          "state": {
            "_dom_classes": [],
            "_model_module": "@jupyter-widgets/controls",
            "_model_module_version": "1.5.0",
            "_model_name": "HTMLModel",
            "_view_count": null,
            "_view_module": "@jupyter-widgets/controls",
            "_view_module_version": "1.5.0",
            "_view_name": "HTMLView",
            "description": "",
            "description_tooltip": null,
            "layout": "IPY_MODEL_0585a67a569e4cb9951833421b171351",
            "placeholder": "​",
            "style": "IPY_MODEL_4ddc0036a16041a99536a23ec2be7c32",
            "value": " 762/762 [00:00&lt;00:00, 17.9kB/s]"
          }
        },
        "068185a3f23e4b399caff93bfc87cb73": {
          "model_module": "@jupyter-widgets/controls",
          "model_module_version": "1.5.0",
          "model_name": "DescriptionStyleModel",
          "state": {
            "_model_module": "@jupyter-widgets/controls",
            "_model_module_version": "1.5.0",
            "_model_name": "DescriptionStyleModel",
            "_view_count": null,
            "_view_module": "@jupyter-widgets/base",
            "_view_module_version": "1.2.0",
            "_view_name": "StyleView",
            "description_width": ""
          }
        },
        "088e9b0d45594bcc84956b3bdfba7896": {
          "model_module": "@jupyter-widgets/controls",
          "model_module_version": "1.5.0",
          "model_name": "DescriptionStyleModel",
          "state": {
            "_model_module": "@jupyter-widgets/controls",
            "_model_module_version": "1.5.0",
            "_model_name": "DescriptionStyleModel",
            "_view_count": null,
            "_view_module": "@jupyter-widgets/base",
            "_view_module_version": "1.2.0",
            "_view_name": "StyleView",
            "description_width": ""
          }
        },
        "08d3313cef204a84842d73a564071019": {
          "model_module": "@jupyter-widgets/controls",
          "model_module_version": "1.5.0",
          "model_name": "HTMLModel",
          "state": {
            "_dom_classes": [],
            "_model_module": "@jupyter-widgets/controls",
            "_model_module_version": "1.5.0",
            "_model_name": "HTMLModel",
            "_view_count": null,
            "_view_module": "@jupyter-widgets/controls",
            "_view_module_version": "1.5.0",
            "_view_name": "HTMLView",
            "description": "",
            "description_tooltip": null,
            "layout": "IPY_MODEL_7d0d52f1c00d4ae8b792760c3b8f4899",
            "placeholder": "​",
            "style": "IPY_MODEL_399e03bb44234dfeb4c5269c7342dd39",
            "value": "Downloading (…)lve/main/config.json: 100%"
          }
        },
        "08e9f9b71189443d885c54ca639dac05": {
          "model_module": "@jupyter-widgets/controls",
          "model_module_version": "1.5.0",
          "model_name": "DescriptionStyleModel",
          "state": {
            "_model_module": "@jupyter-widgets/controls",
            "_model_module_version": "1.5.0",
            "_model_name": "DescriptionStyleModel",
            "_view_count": null,
            "_view_module": "@jupyter-widgets/base",
            "_view_module_version": "1.2.0",
            "_view_name": "StyleView",
            "description_width": ""
          }
        },
        "091f69298b6a490dae496933983bf65d": {
          "model_module": "@jupyter-widgets/base",
          "model_module_version": "1.2.0",
          "model_name": "LayoutModel",
          "state": {
            "_model_module": "@jupyter-widgets/base",
            "_model_module_version": "1.2.0",
            "_model_name": "LayoutModel",
            "_view_count": null,
            "_view_module": "@jupyter-widgets/base",
            "_view_module_version": "1.2.0",
            "_view_name": "LayoutView",
            "align_content": null,
            "align_items": null,
            "align_self": null,
            "border": null,
            "bottom": null,
            "display": null,
            "flex": null,
            "flex_flow": null,
            "grid_area": null,
            "grid_auto_columns": null,
            "grid_auto_flow": null,
            "grid_auto_rows": null,
            "grid_column": null,
            "grid_gap": null,
            "grid_row": null,
            "grid_template_areas": null,
            "grid_template_columns": null,
            "grid_template_rows": null,
            "height": null,
            "justify_content": null,
            "justify_items": null,
            "left": null,
            "margin": null,
            "max_height": null,
            "max_width": null,
            "min_height": null,
            "min_width": null,
            "object_fit": null,
            "object_position": null,
            "order": null,
            "overflow": null,
            "overflow_x": null,
            "overflow_y": null,
            "padding": null,
            "right": null,
            "top": null,
            "visibility": null,
            "width": null
          }
        },
        "09f4f3fb838041069c7c8c2d5a67f57a": {
          "model_module": "@jupyter-widgets/controls",
          "model_module_version": "1.5.0",
          "model_name": "HTMLModel",
          "state": {
            "_dom_classes": [],
            "_model_module": "@jupyter-widgets/controls",
            "_model_module_version": "1.5.0",
            "_model_name": "HTMLModel",
            "_view_count": null,
            "_view_module": "@jupyter-widgets/controls",
            "_view_module_version": "1.5.0",
            "_view_name": "HTMLView",
            "description": "",
            "description_tooltip": null,
            "layout": "IPY_MODEL_982ba2869ab146e38e8447e9e8ba92e3",
            "placeholder": "​",
            "style": "IPY_MODEL_74862cae26614cbdae94b3162d6d5aa4",
            "value": "Downloading spiece.model: 100%"
          }
        },
        "0a9a309befec4d4982800d78c78a2d57": {
          "model_module": "@jupyter-widgets/controls",
          "model_module_version": "1.5.0",
          "model_name": "HBoxModel",
          "state": {
            "_dom_classes": [],
            "_model_module": "@jupyter-widgets/controls",
            "_model_module_version": "1.5.0",
            "_model_name": "HBoxModel",
            "_view_count": null,
            "_view_module": "@jupyter-widgets/controls",
            "_view_module_version": "1.5.0",
            "_view_name": "HBoxView",
            "box_style": "",
            "children": [
              "IPY_MODEL_1aa0460d9e9c48c1b8f9b3162254930c",
              "IPY_MODEL_661ec4a56f3f41a4a1987f79093f0591",
              "IPY_MODEL_061a4bf8d27a4e1b9581c72065840443"
            ],
            "layout": "IPY_MODEL_091f69298b6a490dae496933983bf65d"
          }
        },
        "0f22657b5c9a4be295371e6481345bf0": {
          "model_module": "@jupyter-widgets/controls",
          "model_module_version": "1.5.0",
          "model_name": "HBoxModel",
          "state": {
            "_dom_classes": [],
            "_model_module": "@jupyter-widgets/controls",
            "_model_module_version": "1.5.0",
            "_model_name": "HBoxModel",
            "_view_count": null,
            "_view_module": "@jupyter-widgets/controls",
            "_view_module_version": "1.5.0",
            "_view_name": "HBoxView",
            "box_style": "",
            "children": [
              "IPY_MODEL_8f6a460fc4564ed9ba02c09e858e6a6a",
              "IPY_MODEL_e0003db037fa456a8cee5f6d61a3797a",
              "IPY_MODEL_31cf9d979af74f8991a5162d19b2741e"
            ],
            "layout": "IPY_MODEL_fb7bf15cb49b4d12855cf18f25b26583"
          }
        },
        "1320d964593e41858d1a1309f17f4df5": {
          "model_module": "@jupyter-widgets/controls",
          "model_module_version": "1.5.0",
          "model_name": "DescriptionStyleModel",
          "state": {
            "_model_module": "@jupyter-widgets/controls",
            "_model_module_version": "1.5.0",
            "_model_name": "DescriptionStyleModel",
            "_view_count": null,
            "_view_module": "@jupyter-widgets/base",
            "_view_module_version": "1.2.0",
            "_view_name": "StyleView",
            "description_width": ""
          }
        },
        "170ab23b43bf4ea2adfa9d576b6ea08b": {
          "model_module": "@jupyter-widgets/base",
          "model_module_version": "1.2.0",
          "model_name": "LayoutModel",
          "state": {
            "_model_module": "@jupyter-widgets/base",
            "_model_module_version": "1.2.0",
            "_model_name": "LayoutModel",
            "_view_count": null,
            "_view_module": "@jupyter-widgets/base",
            "_view_module_version": "1.2.0",
            "_view_name": "LayoutView",
            "align_content": null,
            "align_items": null,
            "align_self": null,
            "border": null,
            "bottom": null,
            "display": null,
            "flex": null,
            "flex_flow": null,
            "grid_area": null,
            "grid_auto_columns": null,
            "grid_auto_flow": null,
            "grid_auto_rows": null,
            "grid_column": null,
            "grid_gap": null,
            "grid_row": null,
            "grid_template_areas": null,
            "grid_template_columns": null,
            "grid_template_rows": null,
            "height": null,
            "justify_content": null,
            "justify_items": null,
            "left": null,
            "margin": null,
            "max_height": null,
            "max_width": null,
            "min_height": null,
            "min_width": null,
            "object_fit": null,
            "object_position": null,
            "order": null,
            "overflow": null,
            "overflow_x": null,
            "overflow_y": null,
            "padding": null,
            "right": null,
            "top": null,
            "visibility": null,
            "width": null
          }
        },
        "1aa0460d9e9c48c1b8f9b3162254930c": {
          "model_module": "@jupyter-widgets/controls",
          "model_module_version": "1.5.0",
          "model_name": "HTMLModel",
          "state": {
            "_dom_classes": [],
            "_model_module": "@jupyter-widgets/controls",
            "_model_module_version": "1.5.0",
            "_model_name": "HTMLModel",
            "_view_count": null,
            "_view_module": "@jupyter-widgets/controls",
            "_view_module_version": "1.5.0",
            "_view_name": "HTMLView",
            "description": "",
            "description_tooltip": null,
            "layout": "IPY_MODEL_8cef92ee6e89436e800b1477b938f858",
            "placeholder": "​",
            "style": "IPY_MODEL_c56d7f3163eb406d9ca3c21b007beb84",
            "value": "Downloading (…)lve/main/config.json: 100%"
          }
        },
        "1e8362ed5d944dd9996eb4111c958c12": {
          "model_module": "@jupyter-widgets/base",
          "model_module_version": "1.2.0",
          "model_name": "LayoutModel",
          "state": {
            "_model_module": "@jupyter-widgets/base",
            "_model_module_version": "1.2.0",
            "_model_name": "LayoutModel",
            "_view_count": null,
            "_view_module": "@jupyter-widgets/base",
            "_view_module_version": "1.2.0",
            "_view_name": "LayoutView",
            "align_content": null,
            "align_items": null,
            "align_self": null,
            "border": null,
            "bottom": null,
            "display": null,
            "flex": null,
            "flex_flow": null,
            "grid_area": null,
            "grid_auto_columns": null,
            "grid_auto_flow": null,
            "grid_auto_rows": null,
            "grid_column": null,
            "grid_gap": null,
            "grid_row": null,
            "grid_template_areas": null,
            "grid_template_columns": null,
            "grid_template_rows": null,
            "height": null,
            "justify_content": null,
            "justify_items": null,
            "left": null,
            "margin": null,
            "max_height": null,
            "max_width": null,
            "min_height": null,
            "min_width": null,
            "object_fit": null,
            "object_position": null,
            "order": null,
            "overflow": null,
            "overflow_x": null,
            "overflow_y": null,
            "padding": null,
            "right": null,
            "top": null,
            "visibility": null,
            "width": null
          }
        },
        "215ea9feb2bc4b029a9d5326c31ed257": {
          "model_module": "@jupyter-widgets/base",
          "model_module_version": "1.2.0",
          "model_name": "LayoutModel",
          "state": {
            "_model_module": "@jupyter-widgets/base",
            "_model_module_version": "1.2.0",
            "_model_name": "LayoutModel",
            "_view_count": null,
            "_view_module": "@jupyter-widgets/base",
            "_view_module_version": "1.2.0",
            "_view_name": "LayoutView",
            "align_content": null,
            "align_items": null,
            "align_self": null,
            "border": null,
            "bottom": null,
            "display": null,
            "flex": null,
            "flex_flow": null,
            "grid_area": null,
            "grid_auto_columns": null,
            "grid_auto_flow": null,
            "grid_auto_rows": null,
            "grid_column": null,
            "grid_gap": null,
            "grid_row": null,
            "grid_template_areas": null,
            "grid_template_columns": null,
            "grid_template_rows": null,
            "height": null,
            "justify_content": null,
            "justify_items": null,
            "left": null,
            "margin": null,
            "max_height": null,
            "max_width": null,
            "min_height": null,
            "min_width": null,
            "object_fit": null,
            "object_position": null,
            "order": null,
            "overflow": null,
            "overflow_x": null,
            "overflow_y": null,
            "padding": null,
            "right": null,
            "top": null,
            "visibility": null,
            "width": null
          }
        },
        "2410f8bccfa2415a9634d55772539d2a": {
          "model_module": "@jupyter-widgets/controls",
          "model_module_version": "1.5.0",
          "model_name": "DescriptionStyleModel",
          "state": {
            "_model_module": "@jupyter-widgets/controls",
            "_model_module_version": "1.5.0",
            "_model_name": "DescriptionStyleModel",
            "_view_count": null,
            "_view_module": "@jupyter-widgets/base",
            "_view_module_version": "1.2.0",
            "_view_name": "StyleView",
            "description_width": ""
          }
        },
        "31cf9d979af74f8991a5162d19b2741e": {
          "model_module": "@jupyter-widgets/controls",
          "model_module_version": "1.5.0",
          "model_name": "HTMLModel",
          "state": {
            "_dom_classes": [],
            "_model_module": "@jupyter-widgets/controls",
            "_model_module_version": "1.5.0",
            "_model_name": "HTMLModel",
            "_view_count": null,
            "_view_module": "@jupyter-widgets/controls",
            "_view_module_version": "1.5.0",
            "_view_name": "HTMLView",
            "description": "",
            "description_tooltip": null,
            "layout": "IPY_MODEL_5655821213ea4bc7941b13e39dda024f",
            "placeholder": "​",
            "style": "IPY_MODEL_caa8d5394fa64687987f892910f41e0d",
            "value": " 498/498 [00:00&lt;00:00, 19.9kB/s]"
          }
        },
        "323df9a25d6c43f1b77a90fdea0b95c8": {
          "model_module": "@jupyter-widgets/controls",
          "model_module_version": "1.5.0",
          "model_name": "HTMLModel",
          "state": {
            "_dom_classes": [],
            "_model_module": "@jupyter-widgets/controls",
            "_model_module_version": "1.5.0",
            "_model_name": "HTMLModel",
            "_view_count": null,
            "_view_module": "@jupyter-widgets/controls",
            "_view_module_version": "1.5.0",
            "_view_name": "HTMLView",
            "description": "",
            "description_tooltip": null,
            "layout": "IPY_MODEL_c7ba5e260ee943fbaeae990cc4653797",
            "placeholder": "​",
            "style": "IPY_MODEL_c590762d43a642878a668447f34ef6d3",
            "value": " 398/398 [00:00&lt;00:00, 18.7kB/s]"
          }
        },
        "330dc6fa46bd47afa2e5628df2e7faa7": {
          "model_module": "@jupyter-widgets/controls",
          "model_module_version": "1.5.0",
          "model_name": "ProgressStyleModel",
          "state": {
            "_model_module": "@jupyter-widgets/controls",
            "_model_module_version": "1.5.0",
            "_model_name": "ProgressStyleModel",
            "_view_count": null,
            "_view_module": "@jupyter-widgets/base",
            "_view_module_version": "1.2.0",
            "_view_name": "StyleView",
            "bar_color": null,
            "description_width": ""
          }
        },
        "399e03bb44234dfeb4c5269c7342dd39": {
          "model_module": "@jupyter-widgets/controls",
          "model_module_version": "1.5.0",
          "model_name": "DescriptionStyleModel",
          "state": {
            "_model_module": "@jupyter-widgets/controls",
            "_model_module_version": "1.5.0",
            "_model_name": "DescriptionStyleModel",
            "_view_count": null,
            "_view_module": "@jupyter-widgets/base",
            "_view_module_version": "1.2.0",
            "_view_name": "StyleView",
            "description_width": ""
          }
        },
        "39f34d1b318c4fb889607ef4f51d9983": {
          "model_module": "@jupyter-widgets/controls",
          "model_module_version": "1.5.0",
          "model_name": "ProgressStyleModel",
          "state": {
            "_model_module": "@jupyter-widgets/controls",
            "_model_module_version": "1.5.0",
            "_model_name": "ProgressStyleModel",
            "_view_count": null,
            "_view_module": "@jupyter-widgets/base",
            "_view_module_version": "1.2.0",
            "_view_name": "StyleView",
            "bar_color": null,
            "description_width": ""
          }
        },
        "3b50dc16aa024457b8d977b12955e590": {
          "model_module": "@jupyter-widgets/controls",
          "model_module_version": "1.5.0",
          "model_name": "DescriptionStyleModel",
          "state": {
            "_model_module": "@jupyter-widgets/controls",
            "_model_module_version": "1.5.0",
            "_model_name": "DescriptionStyleModel",
            "_view_count": null,
            "_view_module": "@jupyter-widgets/base",
            "_view_module_version": "1.2.0",
            "_view_name": "StyleView",
            "description_width": ""
          }
        },
        "41a483f18c4345679ee52f07f7cbc74b": {
          "model_module": "@jupyter-widgets/controls",
          "model_module_version": "1.5.0",
          "model_name": "HBoxModel",
          "state": {
            "_dom_classes": [],
            "_model_module": "@jupyter-widgets/controls",
            "_model_module_version": "1.5.0",
            "_model_name": "HBoxModel",
            "_view_count": null,
            "_view_module": "@jupyter-widgets/controls",
            "_view_module_version": "1.5.0",
            "_view_name": "HBoxView",
            "box_style": "",
            "children": [
              "IPY_MODEL_7b8763a3e4684bde885f1ee09790820d",
              "IPY_MODEL_01a83e6401a9469d8f7ba86febb1d2b3",
              "IPY_MODEL_c95111c4394b4d02ba047d1bb21276e8"
            ],
            "layout": "IPY_MODEL_91b6cdb33a6947dbb6fdf5cc44df11b9"
          }
        },
        "48b0e354e019459396576ba12a6e6205": {
          "model_module": "@jupyter-widgets/base",
          "model_module_version": "1.2.0",
          "model_name": "LayoutModel",
          "state": {
            "_model_module": "@jupyter-widgets/base",
            "_model_module_version": "1.2.0",
            "_model_name": "LayoutModel",
            "_view_count": null,
            "_view_module": "@jupyter-widgets/base",
            "_view_module_version": "1.2.0",
            "_view_name": "LayoutView",
            "align_content": null,
            "align_items": null,
            "align_self": null,
            "border": null,
            "bottom": null,
            "display": null,
            "flex": null,
            "flex_flow": null,
            "grid_area": null,
            "grid_auto_columns": null,
            "grid_auto_flow": null,
            "grid_auto_rows": null,
            "grid_column": null,
            "grid_gap": null,
            "grid_row": null,
            "grid_template_areas": null,
            "grid_template_columns": null,
            "grid_template_rows": null,
            "height": null,
            "justify_content": null,
            "justify_items": null,
            "left": null,
            "margin": null,
            "max_height": null,
            "max_width": null,
            "min_height": null,
            "min_width": null,
            "object_fit": null,
            "object_position": null,
            "order": null,
            "overflow": null,
            "overflow_x": null,
            "overflow_y": null,
            "padding": null,
            "right": null,
            "top": null,
            "visibility": null,
            "width": null
          }
        },
        "4b436fbe1ca54d9994d0bf5046b4c313": {
          "model_module": "@jupyter-widgets/base",
          "model_module_version": "1.2.0",
          "model_name": "LayoutModel",
          "state": {
            "_model_module": "@jupyter-widgets/base",
            "_model_module_version": "1.2.0",
            "_model_name": "LayoutModel",
            "_view_count": null,
            "_view_module": "@jupyter-widgets/base",
            "_view_module_version": "1.2.0",
            "_view_name": "LayoutView",
            "align_content": null,
            "align_items": null,
            "align_self": null,
            "border": null,
            "bottom": null,
            "display": null,
            "flex": null,
            "flex_flow": null,
            "grid_area": null,
            "grid_auto_columns": null,
            "grid_auto_flow": null,
            "grid_auto_rows": null,
            "grid_column": null,
            "grid_gap": null,
            "grid_row": null,
            "grid_template_areas": null,
            "grid_template_columns": null,
            "grid_template_rows": null,
            "height": null,
            "justify_content": null,
            "justify_items": null,
            "left": null,
            "margin": null,
            "max_height": null,
            "max_width": null,
            "min_height": null,
            "min_width": null,
            "object_fit": null,
            "object_position": null,
            "order": null,
            "overflow": null,
            "overflow_x": null,
            "overflow_y": null,
            "padding": null,
            "right": null,
            "top": null,
            "visibility": null,
            "width": null
          }
        },
        "4bf65addcf1148379b6b63848f9646e0": {
          "model_module": "@jupyter-widgets/base",
          "model_module_version": "1.2.0",
          "model_name": "LayoutModel",
          "state": {
            "_model_module": "@jupyter-widgets/base",
            "_model_module_version": "1.2.0",
            "_model_name": "LayoutModel",
            "_view_count": null,
            "_view_module": "@jupyter-widgets/base",
            "_view_module_version": "1.2.0",
            "_view_name": "LayoutView",
            "align_content": null,
            "align_items": null,
            "align_self": null,
            "border": null,
            "bottom": null,
            "display": null,
            "flex": null,
            "flex_flow": null,
            "grid_area": null,
            "grid_auto_columns": null,
            "grid_auto_flow": null,
            "grid_auto_rows": null,
            "grid_column": null,
            "grid_gap": null,
            "grid_row": null,
            "grid_template_areas": null,
            "grid_template_columns": null,
            "grid_template_rows": null,
            "height": null,
            "justify_content": null,
            "justify_items": null,
            "left": null,
            "margin": null,
            "max_height": null,
            "max_width": null,
            "min_height": null,
            "min_width": null,
            "object_fit": null,
            "object_position": null,
            "order": null,
            "overflow": null,
            "overflow_x": null,
            "overflow_y": null,
            "padding": null,
            "right": null,
            "top": null,
            "visibility": null,
            "width": null
          }
        },
        "4ddc0036a16041a99536a23ec2be7c32": {
          "model_module": "@jupyter-widgets/controls",
          "model_module_version": "1.5.0",
          "model_name": "DescriptionStyleModel",
          "state": {
            "_model_module": "@jupyter-widgets/controls",
            "_model_module_version": "1.5.0",
            "_model_name": "DescriptionStyleModel",
            "_view_count": null,
            "_view_module": "@jupyter-widgets/base",
            "_view_module_version": "1.2.0",
            "_view_name": "StyleView",
            "description_width": ""
          }
        },
        "4faf0ccdfa9b49dfb46760f36abfd827": {
          "model_module": "@jupyter-widgets/controls",
          "model_module_version": "1.5.0",
          "model_name": "HTMLModel",
          "state": {
            "_dom_classes": [],
            "_model_module": "@jupyter-widgets/controls",
            "_model_module_version": "1.5.0",
            "_model_name": "HTMLModel",
            "_view_count": null,
            "_view_module": "@jupyter-widgets/controls",
            "_view_module_version": "1.5.0",
            "_view_name": "HTMLView",
            "description": "",
            "description_tooltip": null,
            "layout": "IPY_MODEL_d909320d1e2b48f6852070ce0dcab5fd",
            "placeholder": "​",
            "style": "IPY_MODEL_5217b34acf53434481855c08063ff419",
            "value": "Downloading pytorch_model.bin: 100%"
          }
        },
        "51f2ee4aa6a343d5af81fefdfa73e5fd": {
          "model_module": "@jupyter-widgets/base",
          "model_module_version": "1.2.0",
          "model_name": "LayoutModel",
          "state": {
            "_model_module": "@jupyter-widgets/base",
            "_model_module_version": "1.2.0",
            "_model_name": "LayoutModel",
            "_view_count": null,
            "_view_module": "@jupyter-widgets/base",
            "_view_module_version": "1.2.0",
            "_view_name": "LayoutView",
            "align_content": null,
            "align_items": null,
            "align_self": null,
            "border": null,
            "bottom": null,
            "display": null,
            "flex": null,
            "flex_flow": null,
            "grid_area": null,
            "grid_auto_columns": null,
            "grid_auto_flow": null,
            "grid_auto_rows": null,
            "grid_column": null,
            "grid_gap": null,
            "grid_row": null,
            "grid_template_areas": null,
            "grid_template_columns": null,
            "grid_template_rows": null,
            "height": null,
            "justify_content": null,
            "justify_items": null,
            "left": null,
            "margin": null,
            "max_height": null,
            "max_width": null,
            "min_height": null,
            "min_width": null,
            "object_fit": null,
            "object_position": null,
            "order": null,
            "overflow": null,
            "overflow_x": null,
            "overflow_y": null,
            "padding": null,
            "right": null,
            "top": null,
            "visibility": null,
            "width": null
          }
        },
        "5217b34acf53434481855c08063ff419": {
          "model_module": "@jupyter-widgets/controls",
          "model_module_version": "1.5.0",
          "model_name": "DescriptionStyleModel",
          "state": {
            "_model_module": "@jupyter-widgets/controls",
            "_model_module_version": "1.5.0",
            "_model_name": "DescriptionStyleModel",
            "_view_count": null,
            "_view_module": "@jupyter-widgets/base",
            "_view_module_version": "1.2.0",
            "_view_name": "StyleView",
            "description_width": ""
          }
        },
        "53653686330743ca87ebf683e9eb340f": {
          "model_module": "@jupyter-widgets/controls",
          "model_module_version": "1.5.0",
          "model_name": "FloatProgressModel",
          "state": {
            "_dom_classes": [],
            "_model_module": "@jupyter-widgets/controls",
            "_model_module_version": "1.5.0",
            "_model_name": "FloatProgressModel",
            "_view_count": null,
            "_view_module": "@jupyter-widgets/controls",
            "_view_module_version": "1.5.0",
            "_view_name": "ProgressView",
            "bar_style": "success",
            "description": "",
            "description_tooltip": null,
            "layout": "IPY_MODEL_51f2ee4aa6a343d5af81fefdfa73e5fd",
            "max": 832,
            "min": 0,
            "orientation": "horizontal",
            "style": "IPY_MODEL_c7567ec679e7462d820aab64c0b2069c",
            "value": 832
          }
        },
        "545dc58078594c7a8ac8d4516518c779": {
          "model_module": "@jupyter-widgets/controls",
          "model_module_version": "1.5.0",
          "model_name": "ProgressStyleModel",
          "state": {
            "_model_module": "@jupyter-widgets/controls",
            "_model_module_version": "1.5.0",
            "_model_name": "ProgressStyleModel",
            "_view_count": null,
            "_view_module": "@jupyter-widgets/base",
            "_view_module_version": "1.2.0",
            "_view_name": "StyleView",
            "bar_color": null,
            "description_width": ""
          }
        },
        "5655821213ea4bc7941b13e39dda024f": {
          "model_module": "@jupyter-widgets/base",
          "model_module_version": "1.2.0",
          "model_name": "LayoutModel",
          "state": {
            "_model_module": "@jupyter-widgets/base",
            "_model_module_version": "1.2.0",
            "_model_name": "LayoutModel",
            "_view_count": null,
            "_view_module": "@jupyter-widgets/base",
            "_view_module_version": "1.2.0",
            "_view_name": "LayoutView",
            "align_content": null,
            "align_items": null,
            "align_self": null,
            "border": null,
            "bottom": null,
            "display": null,
            "flex": null,
            "flex_flow": null,
            "grid_area": null,
            "grid_auto_columns": null,
            "grid_auto_flow": null,
            "grid_auto_rows": null,
            "grid_column": null,
            "grid_gap": null,
            "grid_row": null,
            "grid_template_areas": null,
            "grid_template_columns": null,
            "grid_template_rows": null,
            "height": null,
            "justify_content": null,
            "justify_items": null,
            "left": null,
            "margin": null,
            "max_height": null,
            "max_width": null,
            "min_height": null,
            "min_width": null,
            "object_fit": null,
            "object_position": null,
            "order": null,
            "overflow": null,
            "overflow_x": null,
            "overflow_y": null,
            "padding": null,
            "right": null,
            "top": null,
            "visibility": null,
            "width": null
          }
        },
        "5ff2215532594e96b36fec34d0966208": {
          "model_module": "@jupyter-widgets/controls",
          "model_module_version": "1.5.0",
          "model_name": "HTMLModel",
          "state": {
            "_dom_classes": [],
            "_model_module": "@jupyter-widgets/controls",
            "_model_module_version": "1.5.0",
            "_model_name": "HTMLModel",
            "_view_count": null,
            "_view_module": "@jupyter-widgets/controls",
            "_view_module_version": "1.5.0",
            "_view_name": "HTMLView",
            "description": "",
            "description_tooltip": null,
            "layout": "IPY_MODEL_650978a74cea4b0eb85d47abfd9d19bd",
            "placeholder": "​",
            "style": "IPY_MODEL_088e9b0d45594bcc84956b3bdfba7896",
            "value": " 213k/213k [00:00&lt;00:00, 1.88MB/s]"
          }
        },
        "619175e5adc3431da341b3462e659c2c": {
          "model_module": "@jupyter-widgets/controls",
          "model_module_version": "1.5.0",
          "model_name": "HBoxModel",
          "state": {
            "_dom_classes": [],
            "_model_module": "@jupyter-widgets/controls",
            "_model_module_version": "1.5.0",
            "_model_name": "HBoxModel",
            "_view_count": null,
            "_view_module": "@jupyter-widgets/controls",
            "_view_module_version": "1.5.0",
            "_view_name": "HBoxView",
            "box_style": "",
            "children": [
              "IPY_MODEL_feddaaaa3ed84353916f33ac34cb55e5",
              "IPY_MODEL_be1a4bae12904d72bbbfad831989bfe6",
              "IPY_MODEL_5ff2215532594e96b36fec34d0966208"
            ],
            "layout": "IPY_MODEL_a61f771ec7294517a83824ec3a60446d"
          }
        },
        "650978a74cea4b0eb85d47abfd9d19bd": {
          "model_module": "@jupyter-widgets/base",
          "model_module_version": "1.2.0",
          "model_name": "LayoutModel",
          "state": {
            "_model_module": "@jupyter-widgets/base",
            "_model_module_version": "1.2.0",
            "_model_name": "LayoutModel",
            "_view_count": null,
            "_view_module": "@jupyter-widgets/base",
            "_view_module_version": "1.2.0",
            "_view_name": "LayoutView",
            "align_content": null,
            "align_items": null,
            "align_self": null,
            "border": null,
            "bottom": null,
            "display": null,
            "flex": null,
            "flex_flow": null,
            "grid_area": null,
            "grid_auto_columns": null,
            "grid_auto_flow": null,
            "grid_auto_rows": null,
            "grid_column": null,
            "grid_gap": null,
            "grid_row": null,
            "grid_template_areas": null,
            "grid_template_columns": null,
            "grid_template_rows": null,
            "height": null,
            "justify_content": null,
            "justify_items": null,
            "left": null,
            "margin": null,
            "max_height": null,
            "max_width": null,
            "min_height": null,
            "min_width": null,
            "object_fit": null,
            "object_position": null,
            "order": null,
            "overflow": null,
            "overflow_x": null,
            "overflow_y": null,
            "padding": null,
            "right": null,
            "top": null,
            "visibility": null,
            "width": null
          }
        },
        "655c794fe6bd4985a72b7272197b21fd": {
          "model_module": "@jupyter-widgets/controls",
          "model_module_version": "1.5.0",
          "model_name": "HTMLModel",
          "state": {
            "_dom_classes": [],
            "_model_module": "@jupyter-widgets/controls",
            "_model_module_version": "1.5.0",
            "_model_name": "HTMLModel",
            "_view_count": null,
            "_view_module": "@jupyter-widgets/controls",
            "_view_module_version": "1.5.0",
            "_view_name": "HTMLView",
            "description": "",
            "description_tooltip": null,
            "layout": "IPY_MODEL_842483535ceb4a3baf2ecdcc93288043",
            "placeholder": "​",
            "style": "IPY_MODEL_fe4ec796a3e94c8991ebdaaccc8a15d8",
            "value": "Downloading (…)cial_tokens_map.json: 100%"
          }
        },
        "661ec4a56f3f41a4a1987f79093f0591": {
          "model_module": "@jupyter-widgets/controls",
          "model_module_version": "1.5.0",
          "model_name": "FloatProgressModel",
          "state": {
            "_dom_classes": [],
            "_model_module": "@jupyter-widgets/controls",
            "_model_module_version": "1.5.0",
            "_model_name": "FloatProgressModel",
            "_view_count": null,
            "_view_module": "@jupyter-widgets/controls",
            "_view_module_version": "1.5.0",
            "_view_name": "ProgressView",
            "bar_style": "success",
            "description": "",
            "description_tooltip": null,
            "layout": "IPY_MODEL_bfa4812452934c9ca10af1696bfce70b",
            "max": 762,
            "min": 0,
            "orientation": "horizontal",
            "style": "IPY_MODEL_6f7ec8670d69482eb0d5c906f13f634a",
            "value": 762
          }
        },
        "6828d4e6029d47af9af38ea60d559518": {
          "model_module": "@jupyter-widgets/controls",
          "model_module_version": "1.5.0",
          "model_name": "ProgressStyleModel",
          "state": {
            "_model_module": "@jupyter-widgets/controls",
            "_model_module_version": "1.5.0",
            "_model_name": "ProgressStyleModel",
            "_view_count": null,
            "_view_module": "@jupyter-widgets/base",
            "_view_module_version": "1.2.0",
            "_view_name": "StyleView",
            "bar_color": null,
            "description_width": ""
          }
        },
        "6ba1afaf82dc451fa4950282dc48c507": {
          "model_module": "@jupyter-widgets/base",
          "model_module_version": "1.2.0",
          "model_name": "LayoutModel",
          "state": {
            "_model_module": "@jupyter-widgets/base",
            "_model_module_version": "1.2.0",
            "_model_name": "LayoutModel",
            "_view_count": null,
            "_view_module": "@jupyter-widgets/base",
            "_view_module_version": "1.2.0",
            "_view_name": "LayoutView",
            "align_content": null,
            "align_items": null,
            "align_self": null,
            "border": null,
            "bottom": null,
            "display": null,
            "flex": null,
            "flex_flow": null,
            "grid_area": null,
            "grid_auto_columns": null,
            "grid_auto_flow": null,
            "grid_auto_rows": null,
            "grid_column": null,
            "grid_gap": null,
            "grid_row": null,
            "grid_template_areas": null,
            "grid_template_columns": null,
            "grid_template_rows": null,
            "height": null,
            "justify_content": null,
            "justify_items": null,
            "left": null,
            "margin": null,
            "max_height": null,
            "max_width": null,
            "min_height": null,
            "min_width": null,
            "object_fit": null,
            "object_position": null,
            "order": null,
            "overflow": null,
            "overflow_x": null,
            "overflow_y": null,
            "padding": null,
            "right": null,
            "top": null,
            "visibility": null,
            "width": null
          }
        },
        "6f7ec8670d69482eb0d5c906f13f634a": {
          "model_module": "@jupyter-widgets/controls",
          "model_module_version": "1.5.0",
          "model_name": "ProgressStyleModel",
          "state": {
            "_model_module": "@jupyter-widgets/controls",
            "_model_module_version": "1.5.0",
            "_model_name": "ProgressStyleModel",
            "_view_count": null,
            "_view_module": "@jupyter-widgets/base",
            "_view_module_version": "1.2.0",
            "_view_name": "StyleView",
            "bar_color": null,
            "description_width": ""
          }
        },
        "73535f55bca04b509141b1e12cd6305f": {
          "model_module": "@jupyter-widgets/base",
          "model_module_version": "1.2.0",
          "model_name": "LayoutModel",
          "state": {
            "_model_module": "@jupyter-widgets/base",
            "_model_module_version": "1.2.0",
            "_model_name": "LayoutModel",
            "_view_count": null,
            "_view_module": "@jupyter-widgets/base",
            "_view_module_version": "1.2.0",
            "_view_name": "LayoutView",
            "align_content": null,
            "align_items": null,
            "align_self": null,
            "border": null,
            "bottom": null,
            "display": null,
            "flex": null,
            "flex_flow": null,
            "grid_area": null,
            "grid_auto_columns": null,
            "grid_auto_flow": null,
            "grid_auto_rows": null,
            "grid_column": null,
            "grid_gap": null,
            "grid_row": null,
            "grid_template_areas": null,
            "grid_template_columns": null,
            "grid_template_rows": null,
            "height": null,
            "justify_content": null,
            "justify_items": null,
            "left": null,
            "margin": null,
            "max_height": null,
            "max_width": null,
            "min_height": null,
            "min_width": null,
            "object_fit": null,
            "object_position": null,
            "order": null,
            "overflow": null,
            "overflow_x": null,
            "overflow_y": null,
            "padding": null,
            "right": null,
            "top": null,
            "visibility": null,
            "width": null
          }
        },
        "74862cae26614cbdae94b3162d6d5aa4": {
          "model_module": "@jupyter-widgets/controls",
          "model_module_version": "1.5.0",
          "model_name": "DescriptionStyleModel",
          "state": {
            "_model_module": "@jupyter-widgets/controls",
            "_model_module_version": "1.5.0",
            "_model_name": "DescriptionStyleModel",
            "_view_count": null,
            "_view_module": "@jupyter-widgets/base",
            "_view_module_version": "1.2.0",
            "_view_name": "StyleView",
            "description_width": ""
          }
        },
        "7574b079f2d14f699fbb76b067be0b68": {
          "model_module": "@jupyter-widgets/controls",
          "model_module_version": "1.5.0",
          "model_name": "FloatProgressModel",
          "state": {
            "_dom_classes": [],
            "_model_module": "@jupyter-widgets/controls",
            "_model_module_version": "1.5.0",
            "_model_name": "FloatProgressModel",
            "_view_count": null,
            "_view_module": "@jupyter-widgets/controls",
            "_view_module_version": "1.5.0",
            "_view_name": "ProgressView",
            "bar_style": "success",
            "description": "",
            "description_tooltip": null,
            "layout": "IPY_MODEL_eac842939b614f2a868ef8e2e8c4a502",
            "max": 398,
            "min": 0,
            "orientation": "horizontal",
            "style": "IPY_MODEL_f2f9be96aff2434280c59102a1dfd555",
            "value": 398
          }
        },
        "7b8763a3e4684bde885f1ee09790820d": {
          "model_module": "@jupyter-widgets/controls",
          "model_module_version": "1.5.0",
          "model_name": "HTMLModel",
          "state": {
            "_dom_classes": [],
            "_model_module": "@jupyter-widgets/controls",
            "_model_module_version": "1.5.0",
            "_model_name": "HTMLModel",
            "_view_count": null,
            "_view_module": "@jupyter-widgets/controls",
            "_view_module_version": "1.5.0",
            "_view_name": "HTMLView",
            "description": "",
            "description_tooltip": null,
            "layout": "IPY_MODEL_b2d3ab600d4b4f5ca6eed329a86b1861",
            "placeholder": "​",
            "style": "IPY_MODEL_e219f20f37934c7fad7262eac343530e",
            "value": "Downloading pytorch_model.bin: 100%"
          }
        },
        "7cd94c1b89ee40b2b12de0be87861cad": {
          "model_module": "@jupyter-widgets/controls",
          "model_module_version": "1.5.0",
          "model_name": "FloatProgressModel",
          "state": {
            "_dom_classes": [],
            "_model_module": "@jupyter-widgets/controls",
            "_model_module_version": "1.5.0",
            "_model_name": "FloatProgressModel",
            "_view_count": null,
            "_view_module": "@jupyter-widgets/controls",
            "_view_module_version": "1.5.0",
            "_view_name": "ProgressView",
            "bar_style": "success",
            "description": "",
            "description_tooltip": null,
            "layout": "IPY_MODEL_8f339e457de8455a8e0a29f7d46591d0",
            "max": 1338740706,
            "min": 0,
            "orientation": "horizontal",
            "style": "IPY_MODEL_e166524f1e3345129adce4d7da896237",
            "value": 1338740706
          }
        },
        "7d0d52f1c00d4ae8b792760c3b8f4899": {
          "model_module": "@jupyter-widgets/base",
          "model_module_version": "1.2.0",
          "model_name": "LayoutModel",
          "state": {
            "_model_module": "@jupyter-widgets/base",
            "_model_module_version": "1.2.0",
            "_model_name": "LayoutModel",
            "_view_count": null,
            "_view_module": "@jupyter-widgets/base",
            "_view_module_version": "1.2.0",
            "_view_name": "LayoutView",
            "align_content": null,
            "align_items": null,
            "align_self": null,
            "border": null,
            "bottom": null,
            "display": null,
            "flex": null,
            "flex_flow": null,
            "grid_area": null,
            "grid_auto_columns": null,
            "grid_auto_flow": null,
            "grid_auto_rows": null,
            "grid_column": null,
            "grid_gap": null,
            "grid_row": null,
            "grid_template_areas": null,
            "grid_template_columns": null,
            "grid_template_rows": null,
            "height": null,
            "justify_content": null,
            "justify_items": null,
            "left": null,
            "margin": null,
            "max_height": null,
            "max_width": null,
            "min_height": null,
            "min_width": null,
            "object_fit": null,
            "object_position": null,
            "order": null,
            "overflow": null,
            "overflow_x": null,
            "overflow_y": null,
            "padding": null,
            "right": null,
            "top": null,
            "visibility": null,
            "width": null
          }
        },
        "7d9a7538ef274776b079c6b57d53511b": {
          "model_module": "@jupyter-widgets/controls",
          "model_module_version": "1.5.0",
          "model_name": "ProgressStyleModel",
          "state": {
            "_model_module": "@jupyter-widgets/controls",
            "_model_module_version": "1.5.0",
            "_model_name": "ProgressStyleModel",
            "_view_count": null,
            "_view_module": "@jupyter-widgets/base",
            "_view_module_version": "1.2.0",
            "_view_name": "StyleView",
            "bar_color": null,
            "description_width": ""
          }
        },
        "7daac86d82414cfdbe24758baf53cdf6": {
          "model_module": "@jupyter-widgets/controls",
          "model_module_version": "1.5.0",
          "model_name": "HBoxModel",
          "state": {
            "_dom_classes": [],
            "_model_module": "@jupyter-widgets/controls",
            "_model_module_version": "1.5.0",
            "_model_name": "HBoxModel",
            "_view_count": null,
            "_view_module": "@jupyter-widgets/controls",
            "_view_module_version": "1.5.0",
            "_view_name": "HBoxView",
            "box_style": "",
            "children": [
              "IPY_MODEL_09f4f3fb838041069c7c8c2d5a67f57a",
              "IPY_MODEL_b883b071f3d64697afd60635283f4783",
              "IPY_MODEL_a0fdaa986ce84765b6a86a87f5837ed8"
            ],
            "layout": "IPY_MODEL_48b0e354e019459396576ba12a6e6205"
          }
        },
        "82ea4641ca694083844d072cb483e17d": {
          "model_module": "@jupyter-widgets/controls",
          "model_module_version": "1.5.0",
          "model_name": "HTMLModel",
          "state": {
            "_dom_classes": [],
            "_model_module": "@jupyter-widgets/controls",
            "_model_module_version": "1.5.0",
            "_model_name": "HTMLModel",
            "_view_count": null,
            "_view_module": "@jupyter-widgets/controls",
            "_view_module_version": "1.5.0",
            "_view_name": "HTMLView",
            "description": "",
            "description_tooltip": null,
            "layout": "IPY_MODEL_4b436fbe1ca54d9994d0bf5046b4c313",
            "placeholder": "​",
            "style": "IPY_MODEL_82ee88e021df4e42b22f68bedea38222",
            "value": " 1.34G/1.34G [00:16&lt;00:00, 74.2MB/s]"
          }
        },
        "82ee88e021df4e42b22f68bedea38222": {
          "model_module": "@jupyter-widgets/controls",
          "model_module_version": "1.5.0",
          "model_name": "DescriptionStyleModel",
          "state": {
            "_model_module": "@jupyter-widgets/controls",
            "_model_module_version": "1.5.0",
            "_model_name": "DescriptionStyleModel",
            "_view_count": null,
            "_view_module": "@jupyter-widgets/base",
            "_view_module_version": "1.2.0",
            "_view_name": "StyleView",
            "description_width": ""
          }
        },
        "842483535ceb4a3baf2ecdcc93288043": {
          "model_module": "@jupyter-widgets/base",
          "model_module_version": "1.2.0",
          "model_name": "LayoutModel",
          "state": {
            "_model_module": "@jupyter-widgets/base",
            "_model_module_version": "1.2.0",
            "_model_name": "LayoutModel",
            "_view_count": null,
            "_view_module": "@jupyter-widgets/base",
            "_view_module_version": "1.2.0",
            "_view_name": "LayoutView",
            "align_content": null,
            "align_items": null,
            "align_self": null,
            "border": null,
            "bottom": null,
            "display": null,
            "flex": null,
            "flex_flow": null,
            "grid_area": null,
            "grid_auto_columns": null,
            "grid_auto_flow": null,
            "grid_auto_rows": null,
            "grid_column": null,
            "grid_gap": null,
            "grid_row": null,
            "grid_template_areas": null,
            "grid_template_columns": null,
            "grid_template_rows": null,
            "height": null,
            "justify_content": null,
            "justify_items": null,
            "left": null,
            "margin": null,
            "max_height": null,
            "max_width": null,
            "min_height": null,
            "min_width": null,
            "object_fit": null,
            "object_position": null,
            "order": null,
            "overflow": null,
            "overflow_x": null,
            "overflow_y": null,
            "padding": null,
            "right": null,
            "top": null,
            "visibility": null,
            "width": null
          }
        },
        "8a802461263144ae88aaed90997dfc0d": {
          "model_module": "@jupyter-widgets/base",
          "model_module_version": "1.2.0",
          "model_name": "LayoutModel",
          "state": {
            "_model_module": "@jupyter-widgets/base",
            "_model_module_version": "1.2.0",
            "_model_name": "LayoutModel",
            "_view_count": null,
            "_view_module": "@jupyter-widgets/base",
            "_view_module_version": "1.2.0",
            "_view_name": "LayoutView",
            "align_content": null,
            "align_items": null,
            "align_self": null,
            "border": null,
            "bottom": null,
            "display": null,
            "flex": null,
            "flex_flow": null,
            "grid_area": null,
            "grid_auto_columns": null,
            "grid_auto_flow": null,
            "grid_auto_rows": null,
            "grid_column": null,
            "grid_gap": null,
            "grid_row": null,
            "grid_template_areas": null,
            "grid_template_columns": null,
            "grid_template_rows": null,
            "height": null,
            "justify_content": null,
            "justify_items": null,
            "left": null,
            "margin": null,
            "max_height": null,
            "max_width": null,
            "min_height": null,
            "min_width": null,
            "object_fit": null,
            "object_position": null,
            "order": null,
            "overflow": null,
            "overflow_x": null,
            "overflow_y": null,
            "padding": null,
            "right": null,
            "top": null,
            "visibility": null,
            "width": null
          }
        },
        "8cef92ee6e89436e800b1477b938f858": {
          "model_module": "@jupyter-widgets/base",
          "model_module_version": "1.2.0",
          "model_name": "LayoutModel",
          "state": {
            "_model_module": "@jupyter-widgets/base",
            "_model_module_version": "1.2.0",
            "_model_name": "LayoutModel",
            "_view_count": null,
            "_view_module": "@jupyter-widgets/base",
            "_view_module_version": "1.2.0",
            "_view_name": "LayoutView",
            "align_content": null,
            "align_items": null,
            "align_self": null,
            "border": null,
            "bottom": null,
            "display": null,
            "flex": null,
            "flex_flow": null,
            "grid_area": null,
            "grid_auto_columns": null,
            "grid_auto_flow": null,
            "grid_auto_rows": null,
            "grid_column": null,
            "grid_gap": null,
            "grid_row": null,
            "grid_template_areas": null,
            "grid_template_columns": null,
            "grid_template_rows": null,
            "height": null,
            "justify_content": null,
            "justify_items": null,
            "left": null,
            "margin": null,
            "max_height": null,
            "max_width": null,
            "min_height": null,
            "min_width": null,
            "object_fit": null,
            "object_position": null,
            "order": null,
            "overflow": null,
            "overflow_x": null,
            "overflow_y": null,
            "padding": null,
            "right": null,
            "top": null,
            "visibility": null,
            "width": null
          }
        },
        "8f339e457de8455a8e0a29f7d46591d0": {
          "model_module": "@jupyter-widgets/base",
          "model_module_version": "1.2.0",
          "model_name": "LayoutModel",
          "state": {
            "_model_module": "@jupyter-widgets/base",
            "_model_module_version": "1.2.0",
            "_model_name": "LayoutModel",
            "_view_count": null,
            "_view_module": "@jupyter-widgets/base",
            "_view_module_version": "1.2.0",
            "_view_name": "LayoutView",
            "align_content": null,
            "align_items": null,
            "align_self": null,
            "border": null,
            "bottom": null,
            "display": null,
            "flex": null,
            "flex_flow": null,
            "grid_area": null,
            "grid_auto_columns": null,
            "grid_auto_flow": null,
            "grid_auto_rows": null,
            "grid_column": null,
            "grid_gap": null,
            "grid_row": null,
            "grid_template_areas": null,
            "grid_template_columns": null,
            "grid_template_rows": null,
            "height": null,
            "justify_content": null,
            "justify_items": null,
            "left": null,
            "margin": null,
            "max_height": null,
            "max_width": null,
            "min_height": null,
            "min_width": null,
            "object_fit": null,
            "object_position": null,
            "order": null,
            "overflow": null,
            "overflow_x": null,
            "overflow_y": null,
            "padding": null,
            "right": null,
            "top": null,
            "visibility": null,
            "width": null
          }
        },
        "8f6a460fc4564ed9ba02c09e858e6a6a": {
          "model_module": "@jupyter-widgets/controls",
          "model_module_version": "1.5.0",
          "model_name": "HTMLModel",
          "state": {
            "_dom_classes": [],
            "_model_module": "@jupyter-widgets/controls",
            "_model_module_version": "1.5.0",
            "_model_name": "HTMLModel",
            "_view_count": null,
            "_view_module": "@jupyter-widgets/controls",
            "_view_module_version": "1.5.0",
            "_view_name": "HTMLView",
            "description": "",
            "description_tooltip": null,
            "layout": "IPY_MODEL_8a802461263144ae88aaed90997dfc0d",
            "placeholder": "​",
            "style": "IPY_MODEL_068185a3f23e4b399caff93bfc87cb73",
            "value": "Downloading (…)okenizer_config.json: 100%"
          }
        },
        "91b6cdb33a6947dbb6fdf5cc44df11b9": {
          "model_module": "@jupyter-widgets/base",
          "model_module_version": "1.2.0",
          "model_name": "LayoutModel",
          "state": {
            "_model_module": "@jupyter-widgets/base",
            "_model_module_version": "1.2.0",
            "_model_name": "LayoutModel",
            "_view_count": null,
            "_view_module": "@jupyter-widgets/base",
            "_view_module_version": "1.2.0",
            "_view_name": "LayoutView",
            "align_content": null,
            "align_items": null,
            "align_self": null,
            "border": null,
            "bottom": null,
            "display": null,
            "flex": null,
            "flex_flow": null,
            "grid_area": null,
            "grid_auto_columns": null,
            "grid_auto_flow": null,
            "grid_auto_rows": null,
            "grid_column": null,
            "grid_gap": null,
            "grid_row": null,
            "grid_template_areas": null,
            "grid_template_columns": null,
            "grid_template_rows": null,
            "height": null,
            "justify_content": null,
            "justify_items": null,
            "left": null,
            "margin": null,
            "max_height": null,
            "max_width": null,
            "min_height": null,
            "min_width": null,
            "object_fit": null,
            "object_position": null,
            "order": null,
            "overflow": null,
            "overflow_x": null,
            "overflow_y": null,
            "padding": null,
            "right": null,
            "top": null,
            "visibility": null,
            "width": null
          }
        },
        "982ba2869ab146e38e8447e9e8ba92e3": {
          "model_module": "@jupyter-widgets/base",
          "model_module_version": "1.2.0",
          "model_name": "LayoutModel",
          "state": {
            "_model_module": "@jupyter-widgets/base",
            "_model_module_version": "1.2.0",
            "_model_name": "LayoutModel",
            "_view_count": null,
            "_view_module": "@jupyter-widgets/base",
            "_view_module_version": "1.2.0",
            "_view_name": "LayoutView",
            "align_content": null,
            "align_items": null,
            "align_self": null,
            "border": null,
            "bottom": null,
            "display": null,
            "flex": null,
            "flex_flow": null,
            "grid_area": null,
            "grid_auto_columns": null,
            "grid_auto_flow": null,
            "grid_auto_rows": null,
            "grid_column": null,
            "grid_gap": null,
            "grid_row": null,
            "grid_template_areas": null,
            "grid_template_columns": null,
            "grid_template_rows": null,
            "height": null,
            "justify_content": null,
            "justify_items": null,
            "left": null,
            "margin": null,
            "max_height": null,
            "max_width": null,
            "min_height": null,
            "min_width": null,
            "object_fit": null,
            "object_position": null,
            "order": null,
            "overflow": null,
            "overflow_x": null,
            "overflow_y": null,
            "padding": null,
            "right": null,
            "top": null,
            "visibility": null,
            "width": null
          }
        },
        "99ef3a40f4984c889531a98fb972465b": {
          "model_module": "@jupyter-widgets/base",
          "model_module_version": "1.2.0",
          "model_name": "LayoutModel",
          "state": {
            "_model_module": "@jupyter-widgets/base",
            "_model_module_version": "1.2.0",
            "_model_name": "LayoutModel",
            "_view_count": null,
            "_view_module": "@jupyter-widgets/base",
            "_view_module_version": "1.2.0",
            "_view_name": "LayoutView",
            "align_content": null,
            "align_items": null,
            "align_self": null,
            "border": null,
            "bottom": null,
            "display": null,
            "flex": null,
            "flex_flow": null,
            "grid_area": null,
            "grid_auto_columns": null,
            "grid_auto_flow": null,
            "grid_auto_rows": null,
            "grid_column": null,
            "grid_gap": null,
            "grid_row": null,
            "grid_template_areas": null,
            "grid_template_columns": null,
            "grid_template_rows": null,
            "height": null,
            "justify_content": null,
            "justify_items": null,
            "left": null,
            "margin": null,
            "max_height": null,
            "max_width": null,
            "min_height": null,
            "min_width": null,
            "object_fit": null,
            "object_position": null,
            "order": null,
            "overflow": null,
            "overflow_x": null,
            "overflow_y": null,
            "padding": null,
            "right": null,
            "top": null,
            "visibility": null,
            "width": null
          }
        },
        "9cca8da1924b41cab5ae6d9fa65a2133": {
          "model_module": "@jupyter-widgets/controls",
          "model_module_version": "1.5.0",
          "model_name": "HBoxModel",
          "state": {
            "_dom_classes": [],
            "_model_module": "@jupyter-widgets/controls",
            "_model_module_version": "1.5.0",
            "_model_name": "HBoxModel",
            "_view_count": null,
            "_view_module": "@jupyter-widgets/controls",
            "_view_module_version": "1.5.0",
            "_view_name": "HBoxView",
            "box_style": "",
            "children": [
              "IPY_MODEL_08d3313cef204a84842d73a564071019",
              "IPY_MODEL_53653686330743ca87ebf683e9eb340f",
              "IPY_MODEL_dcc23943f89f4798850f9c9a2fe4bb91"
            ],
            "layout": "IPY_MODEL_d16bd495dc854273a00a64fd1bdaabaf"
          }
        },
        "9e377b96ad534549a1e705c47d338d1a": {
          "model_module": "@jupyter-widgets/controls",
          "model_module_version": "1.5.0",
          "model_name": "ProgressStyleModel",
          "state": {
            "_model_module": "@jupyter-widgets/controls",
            "_model_module_version": "1.5.0",
            "_model_name": "ProgressStyleModel",
            "_view_count": null,
            "_view_module": "@jupyter-widgets/base",
            "_view_module_version": "1.2.0",
            "_view_name": "StyleView",
            "bar_color": null,
            "description_width": ""
          }
        },
        "a0fdaa986ce84765b6a86a87f5837ed8": {
          "model_module": "@jupyter-widgets/controls",
          "model_module_version": "1.5.0",
          "model_name": "HTMLModel",
          "state": {
            "_dom_classes": [],
            "_model_module": "@jupyter-widgets/controls",
            "_model_module_version": "1.5.0",
            "_model_name": "HTMLModel",
            "_view_count": null,
            "_view_module": "@jupyter-widgets/controls",
            "_view_module_version": "1.5.0",
            "_view_name": "HTMLView",
            "description": "",
            "description_tooltip": null,
            "layout": "IPY_MODEL_73535f55bca04b509141b1e12cd6305f",
            "placeholder": "​",
            "style": "IPY_MODEL_1320d964593e41858d1a1309f17f4df5",
            "value": " 1.90M/1.90M [00:00&lt;00:00, 12.1MB/s]"
          }
        },
        "a46ad541cc1e4db3974f0459bf2d784a": {
          "model_module": "@jupyter-widgets/controls",
          "model_module_version": "1.5.0",
          "model_name": "HTMLModel",
          "state": {
            "_dom_classes": [],
            "_model_module": "@jupyter-widgets/controls",
            "_model_module_version": "1.5.0",
            "_model_name": "HTMLModel",
            "_view_count": null,
            "_view_module": "@jupyter-widgets/controls",
            "_view_module_version": "1.5.0",
            "_view_name": "HTMLView",
            "description": "",
            "description_tooltip": null,
            "layout": "IPY_MODEL_4bf65addcf1148379b6b63848f9646e0",
            "placeholder": "​",
            "style": "IPY_MODEL_faaecd49d0fd47a19318556bd3a78b29",
            "value": " 29.0/29.0 [00:00&lt;00:00, 239B/s]"
          }
        },
        "a4df9e502b73420c903c5a3b80bacd83": {
          "model_module": "@jupyter-widgets/controls",
          "model_module_version": "1.5.0",
          "model_name": "DescriptionStyleModel",
          "state": {
            "_model_module": "@jupyter-widgets/controls",
            "_model_module_version": "1.5.0",
            "_model_name": "DescriptionStyleModel",
            "_view_count": null,
            "_view_module": "@jupyter-widgets/base",
            "_view_module_version": "1.2.0",
            "_view_name": "StyleView",
            "description_width": ""
          }
        },
        "a61f771ec7294517a83824ec3a60446d": {
          "model_module": "@jupyter-widgets/base",
          "model_module_version": "1.2.0",
          "model_name": "LayoutModel",
          "state": {
            "_model_module": "@jupyter-widgets/base",
            "_model_module_version": "1.2.0",
            "_model_name": "LayoutModel",
            "_view_count": null,
            "_view_module": "@jupyter-widgets/base",
            "_view_module_version": "1.2.0",
            "_view_name": "LayoutView",
            "align_content": null,
            "align_items": null,
            "align_self": null,
            "border": null,
            "bottom": null,
            "display": null,
            "flex": null,
            "flex_flow": null,
            "grid_area": null,
            "grid_auto_columns": null,
            "grid_auto_flow": null,
            "grid_auto_rows": null,
            "grid_column": null,
            "grid_gap": null,
            "grid_row": null,
            "grid_template_areas": null,
            "grid_template_columns": null,
            "grid_template_rows": null,
            "height": null,
            "justify_content": null,
            "justify_items": null,
            "left": null,
            "margin": null,
            "max_height": null,
            "max_width": null,
            "min_height": null,
            "min_width": null,
            "object_fit": null,
            "object_position": null,
            "order": null,
            "overflow": null,
            "overflow_x": null,
            "overflow_y": null,
            "padding": null,
            "right": null,
            "top": null,
            "visibility": null,
            "width": null
          }
        },
        "aa5d5e12d13d4022b88aaf374d4f7128": {
          "model_module": "@jupyter-widgets/controls",
          "model_module_version": "1.5.0",
          "model_name": "HTMLModel",
          "state": {
            "_dom_classes": [],
            "_model_module": "@jupyter-widgets/controls",
            "_model_module_version": "1.5.0",
            "_model_name": "HTMLModel",
            "_view_count": null,
            "_view_module": "@jupyter-widgets/controls",
            "_view_module_version": "1.5.0",
            "_view_name": "HTMLView",
            "description": "",
            "description_tooltip": null,
            "layout": "IPY_MODEL_170ab23b43bf4ea2adfa9d576b6ea08b",
            "placeholder": "​",
            "style": "IPY_MODEL_dd42c05bc37246188bc97a40d2744645",
            "value": "Downloading (…)in/added_tokens.json: 100%"
          }
        },
        "b2d3ab600d4b4f5ca6eed329a86b1861": {
          "model_module": "@jupyter-widgets/base",
          "model_module_version": "1.2.0",
          "model_name": "LayoutModel",
          "state": {
            "_model_module": "@jupyter-widgets/base",
            "_model_module_version": "1.2.0",
            "_model_name": "LayoutModel",
            "_view_count": null,
            "_view_module": "@jupyter-widgets/base",
            "_view_module_version": "1.2.0",
            "_view_name": "LayoutView",
            "align_content": null,
            "align_items": null,
            "align_self": null,
            "border": null,
            "bottom": null,
            "display": null,
            "flex": null,
            "flex_flow": null,
            "grid_area": null,
            "grid_auto_columns": null,
            "grid_auto_flow": null,
            "grid_auto_rows": null,
            "grid_column": null,
            "grid_gap": null,
            "grid_row": null,
            "grid_template_areas": null,
            "grid_template_columns": null,
            "grid_template_rows": null,
            "height": null,
            "justify_content": null,
            "justify_items": null,
            "left": null,
            "margin": null,
            "max_height": null,
            "max_width": null,
            "min_height": null,
            "min_width": null,
            "object_fit": null,
            "object_position": null,
            "order": null,
            "overflow": null,
            "overflow_x": null,
            "overflow_y": null,
            "padding": null,
            "right": null,
            "top": null,
            "visibility": null,
            "width": null
          }
        },
        "b43c7b5bc9e84ba28d59567d630dab1b": {
          "model_module": "@jupyter-widgets/base",
          "model_module_version": "1.2.0",
          "model_name": "LayoutModel",
          "state": {
            "_model_module": "@jupyter-widgets/base",
            "_model_module_version": "1.2.0",
            "_model_name": "LayoutModel",
            "_view_count": null,
            "_view_module": "@jupyter-widgets/base",
            "_view_module_version": "1.2.0",
            "_view_name": "LayoutView",
            "align_content": null,
            "align_items": null,
            "align_self": null,
            "border": null,
            "bottom": null,
            "display": null,
            "flex": null,
            "flex_flow": null,
            "grid_area": null,
            "grid_auto_columns": null,
            "grid_auto_flow": null,
            "grid_auto_rows": null,
            "grid_column": null,
            "grid_gap": null,
            "grid_row": null,
            "grid_template_areas": null,
            "grid_template_columns": null,
            "grid_template_rows": null,
            "height": null,
            "justify_content": null,
            "justify_items": null,
            "left": null,
            "margin": null,
            "max_height": null,
            "max_width": null,
            "min_height": null,
            "min_width": null,
            "object_fit": null,
            "object_position": null,
            "order": null,
            "overflow": null,
            "overflow_x": null,
            "overflow_y": null,
            "padding": null,
            "right": null,
            "top": null,
            "visibility": null,
            "width": null
          }
        },
        "b4f229474509490f80ce56a79acc1bab": {
          "model_module": "@jupyter-widgets/controls",
          "model_module_version": "1.5.0",
          "model_name": "HBoxModel",
          "state": {
            "_dom_classes": [],
            "_model_module": "@jupyter-widgets/controls",
            "_model_module_version": "1.5.0",
            "_model_name": "HBoxModel",
            "_view_count": null,
            "_view_module": "@jupyter-widgets/controls",
            "_view_module_version": "1.5.0",
            "_view_name": "HBoxView",
            "box_style": "",
            "children": [
              "IPY_MODEL_4faf0ccdfa9b49dfb46760f36abfd827",
              "IPY_MODEL_7cd94c1b89ee40b2b12de0be87861cad",
              "IPY_MODEL_82ea4641ca694083844d072cb483e17d"
            ],
            "layout": "IPY_MODEL_f9ad549a74874660935c628c6658a87f"
          }
        },
        "b883b071f3d64697afd60635283f4783": {
          "model_module": "@jupyter-widgets/controls",
          "model_module_version": "1.5.0",
          "model_name": "FloatProgressModel",
          "state": {
            "_dom_classes": [],
            "_model_module": "@jupyter-widgets/controls",
            "_model_module_version": "1.5.0",
            "_model_name": "FloatProgressModel",
            "_view_count": null,
            "_view_module": "@jupyter-widgets/controls",
            "_view_module_version": "1.5.0",
            "_view_name": "ProgressView",
            "bar_style": "success",
            "description": "",
            "description_tooltip": null,
            "layout": "IPY_MODEL_f7e5524f044f4924b64e5b774bab72a0",
            "max": 1898704,
            "min": 0,
            "orientation": "horizontal",
            "style": "IPY_MODEL_6828d4e6029d47af9af38ea60d559518",
            "value": 1898704
          }
        },
        "bce97831902a4bf29f255625d0b7e202": {
          "model_module": "@jupyter-widgets/base",
          "model_module_version": "1.2.0",
          "model_name": "LayoutModel",
          "state": {
            "_model_module": "@jupyter-widgets/base",
            "_model_module_version": "1.2.0",
            "_model_name": "LayoutModel",
            "_view_count": null,
            "_view_module": "@jupyter-widgets/base",
            "_view_module_version": "1.2.0",
            "_view_name": "LayoutView",
            "align_content": null,
            "align_items": null,
            "align_self": null,
            "border": null,
            "bottom": null,
            "display": null,
            "flex": null,
            "flex_flow": null,
            "grid_area": null,
            "grid_auto_columns": null,
            "grid_auto_flow": null,
            "grid_auto_rows": null,
            "grid_column": null,
            "grid_gap": null,
            "grid_row": null,
            "grid_template_areas": null,
            "grid_template_columns": null,
            "grid_template_rows": null,
            "height": null,
            "justify_content": null,
            "justify_items": null,
            "left": null,
            "margin": null,
            "max_height": null,
            "max_width": null,
            "min_height": null,
            "min_width": null,
            "object_fit": null,
            "object_position": null,
            "order": null,
            "overflow": null,
            "overflow_x": null,
            "overflow_y": null,
            "padding": null,
            "right": null,
            "top": null,
            "visibility": null,
            "width": null
          }
        },
        "be1a4bae12904d72bbbfad831989bfe6": {
          "model_module": "@jupyter-widgets/controls",
          "model_module_version": "1.5.0",
          "model_name": "FloatProgressModel",
          "state": {
            "_dom_classes": [],
            "_model_module": "@jupyter-widgets/controls",
            "_model_module_version": "1.5.0",
            "_model_name": "FloatProgressModel",
            "_view_count": null,
            "_view_module": "@jupyter-widgets/controls",
            "_view_module_version": "1.5.0",
            "_view_name": "ProgressView",
            "bar_style": "success",
            "description": "",
            "description_tooltip": null,
            "layout": "IPY_MODEL_ce6b6a72b0484e4296646113e6ddafc8",
            "max": 213450,
            "min": 0,
            "orientation": "horizontal",
            "style": "IPY_MODEL_39f34d1b318c4fb889607ef4f51d9983",
            "value": 213450
          }
        },
        "be9f01787c8844fcbb07c951f55d0e52": {
          "model_module": "@jupyter-widgets/base",
          "model_module_version": "1.2.0",
          "model_name": "LayoutModel",
          "state": {
            "_model_module": "@jupyter-widgets/base",
            "_model_module_version": "1.2.0",
            "_model_name": "LayoutModel",
            "_view_count": null,
            "_view_module": "@jupyter-widgets/base",
            "_view_module_version": "1.2.0",
            "_view_name": "LayoutView",
            "align_content": null,
            "align_items": null,
            "align_self": null,
            "border": null,
            "bottom": null,
            "display": null,
            "flex": null,
            "flex_flow": null,
            "grid_area": null,
            "grid_auto_columns": null,
            "grid_auto_flow": null,
            "grid_auto_rows": null,
            "grid_column": null,
            "grid_gap": null,
            "grid_row": null,
            "grid_template_areas": null,
            "grid_template_columns": null,
            "grid_template_rows": null,
            "height": null,
            "justify_content": null,
            "justify_items": null,
            "left": null,
            "margin": null,
            "max_height": null,
            "max_width": null,
            "min_height": null,
            "min_width": null,
            "object_fit": null,
            "object_position": null,
            "order": null,
            "overflow": null,
            "overflow_x": null,
            "overflow_y": null,
            "padding": null,
            "right": null,
            "top": null,
            "visibility": null,
            "width": null
          }
        },
        "bfa4812452934c9ca10af1696bfce70b": {
          "model_module": "@jupyter-widgets/base",
          "model_module_version": "1.2.0",
          "model_name": "LayoutModel",
          "state": {
            "_model_module": "@jupyter-widgets/base",
            "_model_module_version": "1.2.0",
            "_model_name": "LayoutModel",
            "_view_count": null,
            "_view_module": "@jupyter-widgets/base",
            "_view_module_version": "1.2.0",
            "_view_name": "LayoutView",
            "align_content": null,
            "align_items": null,
            "align_self": null,
            "border": null,
            "bottom": null,
            "display": null,
            "flex": null,
            "flex_flow": null,
            "grid_area": null,
            "grid_auto_columns": null,
            "grid_auto_flow": null,
            "grid_auto_rows": null,
            "grid_column": null,
            "grid_gap": null,
            "grid_row": null,
            "grid_template_areas": null,
            "grid_template_columns": null,
            "grid_template_rows": null,
            "height": null,
            "justify_content": null,
            "justify_items": null,
            "left": null,
            "margin": null,
            "max_height": null,
            "max_width": null,
            "min_height": null,
            "min_width": null,
            "object_fit": null,
            "object_position": null,
            "order": null,
            "overflow": null,
            "overflow_x": null,
            "overflow_y": null,
            "padding": null,
            "right": null,
            "top": null,
            "visibility": null,
            "width": null
          }
        },
        "c1cfddf62c90405f8fa224e2b4f7a7e1": {
          "model_module": "@jupyter-widgets/controls",
          "model_module_version": "1.5.0",
          "model_name": "HBoxModel",
          "state": {
            "_dom_classes": [],
            "_model_module": "@jupyter-widgets/controls",
            "_model_module_version": "1.5.0",
            "_model_name": "HBoxModel",
            "_view_count": null,
            "_view_module": "@jupyter-widgets/controls",
            "_view_module_version": "1.5.0",
            "_view_name": "HBoxView",
            "box_style": "",
            "children": [
              "IPY_MODEL_655c794fe6bd4985a72b7272197b21fd",
              "IPY_MODEL_7574b079f2d14f699fbb76b067be0b68",
              "IPY_MODEL_323df9a25d6c43f1b77a90fdea0b95c8"
            ],
            "layout": "IPY_MODEL_c2fd334e4eaf47f8a4549c6d72ad3c24"
          }
        },
        "c2fd334e4eaf47f8a4549c6d72ad3c24": {
          "model_module": "@jupyter-widgets/base",
          "model_module_version": "1.2.0",
          "model_name": "LayoutModel",
          "state": {
            "_model_module": "@jupyter-widgets/base",
            "_model_module_version": "1.2.0",
            "_model_name": "LayoutModel",
            "_view_count": null,
            "_view_module": "@jupyter-widgets/base",
            "_view_module_version": "1.2.0",
            "_view_name": "LayoutView",
            "align_content": null,
            "align_items": null,
            "align_self": null,
            "border": null,
            "bottom": null,
            "display": null,
            "flex": null,
            "flex_flow": null,
            "grid_area": null,
            "grid_auto_columns": null,
            "grid_auto_flow": null,
            "grid_auto_rows": null,
            "grid_column": null,
            "grid_gap": null,
            "grid_row": null,
            "grid_template_areas": null,
            "grid_template_columns": null,
            "grid_template_rows": null,
            "height": null,
            "justify_content": null,
            "justify_items": null,
            "left": null,
            "margin": null,
            "max_height": null,
            "max_width": null,
            "min_height": null,
            "min_width": null,
            "object_fit": null,
            "object_position": null,
            "order": null,
            "overflow": null,
            "overflow_x": null,
            "overflow_y": null,
            "padding": null,
            "right": null,
            "top": null,
            "visibility": null,
            "width": null
          }
        },
        "c56d7f3163eb406d9ca3c21b007beb84": {
          "model_module": "@jupyter-widgets/controls",
          "model_module_version": "1.5.0",
          "model_name": "DescriptionStyleModel",
          "state": {
            "_model_module": "@jupyter-widgets/controls",
            "_model_module_version": "1.5.0",
            "_model_name": "DescriptionStyleModel",
            "_view_count": null,
            "_view_module": "@jupyter-widgets/base",
            "_view_module_version": "1.2.0",
            "_view_name": "StyleView",
            "description_width": ""
          }
        },
        "c590762d43a642878a668447f34ef6d3": {
          "model_module": "@jupyter-widgets/controls",
          "model_module_version": "1.5.0",
          "model_name": "DescriptionStyleModel",
          "state": {
            "_model_module": "@jupyter-widgets/controls",
            "_model_module_version": "1.5.0",
            "_model_name": "DescriptionStyleModel",
            "_view_count": null,
            "_view_module": "@jupyter-widgets/base",
            "_view_module_version": "1.2.0",
            "_view_name": "StyleView",
            "description_width": ""
          }
        },
        "c59812494a8e48f1941b77eab5059efe": {
          "model_module": "@jupyter-widgets/base",
          "model_module_version": "1.2.0",
          "model_name": "LayoutModel",
          "state": {
            "_model_module": "@jupyter-widgets/base",
            "_model_module_version": "1.2.0",
            "_model_name": "LayoutModel",
            "_view_count": null,
            "_view_module": "@jupyter-widgets/base",
            "_view_module_version": "1.2.0",
            "_view_name": "LayoutView",
            "align_content": null,
            "align_items": null,
            "align_self": null,
            "border": null,
            "bottom": null,
            "display": null,
            "flex": null,
            "flex_flow": null,
            "grid_area": null,
            "grid_auto_columns": null,
            "grid_auto_flow": null,
            "grid_auto_rows": null,
            "grid_column": null,
            "grid_gap": null,
            "grid_row": null,
            "grid_template_areas": null,
            "grid_template_columns": null,
            "grid_template_rows": null,
            "height": null,
            "justify_content": null,
            "justify_items": null,
            "left": null,
            "margin": null,
            "max_height": null,
            "max_width": null,
            "min_height": null,
            "min_width": null,
            "object_fit": null,
            "object_position": null,
            "order": null,
            "overflow": null,
            "overflow_x": null,
            "overflow_y": null,
            "padding": null,
            "right": null,
            "top": null,
            "visibility": null,
            "width": null
          }
        },
        "c7567ec679e7462d820aab64c0b2069c": {
          "model_module": "@jupyter-widgets/controls",
          "model_module_version": "1.5.0",
          "model_name": "ProgressStyleModel",
          "state": {
            "_model_module": "@jupyter-widgets/controls",
            "_model_module_version": "1.5.0",
            "_model_name": "ProgressStyleModel",
            "_view_count": null,
            "_view_module": "@jupyter-widgets/base",
            "_view_module_version": "1.2.0",
            "_view_name": "StyleView",
            "bar_color": null,
            "description_width": ""
          }
        },
        "c7ba5e260ee943fbaeae990cc4653797": {
          "model_module": "@jupyter-widgets/base",
          "model_module_version": "1.2.0",
          "model_name": "LayoutModel",
          "state": {
            "_model_module": "@jupyter-widgets/base",
            "_model_module_version": "1.2.0",
            "_model_name": "LayoutModel",
            "_view_count": null,
            "_view_module": "@jupyter-widgets/base",
            "_view_module_version": "1.2.0",
            "_view_name": "LayoutView",
            "align_content": null,
            "align_items": null,
            "align_self": null,
            "border": null,
            "bottom": null,
            "display": null,
            "flex": null,
            "flex_flow": null,
            "grid_area": null,
            "grid_auto_columns": null,
            "grid_auto_flow": null,
            "grid_auto_rows": null,
            "grid_column": null,
            "grid_gap": null,
            "grid_row": null,
            "grid_template_areas": null,
            "grid_template_columns": null,
            "grid_template_rows": null,
            "height": null,
            "justify_content": null,
            "justify_items": null,
            "left": null,
            "margin": null,
            "max_height": null,
            "max_width": null,
            "min_height": null,
            "min_width": null,
            "object_fit": null,
            "object_position": null,
            "order": null,
            "overflow": null,
            "overflow_x": null,
            "overflow_y": null,
            "padding": null,
            "right": null,
            "top": null,
            "visibility": null,
            "width": null
          }
        },
        "c95111c4394b4d02ba047d1bb21276e8": {
          "model_module": "@jupyter-widgets/controls",
          "model_module_version": "1.5.0",
          "model_name": "HTMLModel",
          "state": {
            "_dom_classes": [],
            "_model_module": "@jupyter-widgets/controls",
            "_model_module_version": "1.5.0",
            "_model_name": "HTMLModel",
            "_view_count": null,
            "_view_module": "@jupyter-widgets/controls",
            "_view_module_version": "1.5.0",
            "_view_name": "HTMLView",
            "description": "",
            "description_tooltip": null,
            "layout": "IPY_MODEL_ca8e44dbbec94d6d9d394c73d7b7fa90",
            "placeholder": "​",
            "style": "IPY_MODEL_3b50dc16aa024457b8d977b12955e590",
            "value": " 976M/976M [00:13&lt;00:00, 77.6MB/s]"
          }
        },
        "ca8e44dbbec94d6d9d394c73d7b7fa90": {
          "model_module": "@jupyter-widgets/base",
          "model_module_version": "1.2.0",
          "model_name": "LayoutModel",
          "state": {
            "_model_module": "@jupyter-widgets/base",
            "_model_module_version": "1.2.0",
            "_model_name": "LayoutModel",
            "_view_count": null,
            "_view_module": "@jupyter-widgets/base",
            "_view_module_version": "1.2.0",
            "_view_name": "LayoutView",
            "align_content": null,
            "align_items": null,
            "align_self": null,
            "border": null,
            "bottom": null,
            "display": null,
            "flex": null,
            "flex_flow": null,
            "grid_area": null,
            "grid_auto_columns": null,
            "grid_auto_flow": null,
            "grid_auto_rows": null,
            "grid_column": null,
            "grid_gap": null,
            "grid_row": null,
            "grid_template_areas": null,
            "grid_template_columns": null,
            "grid_template_rows": null,
            "height": null,
            "justify_content": null,
            "justify_items": null,
            "left": null,
            "margin": null,
            "max_height": null,
            "max_width": null,
            "min_height": null,
            "min_width": null,
            "object_fit": null,
            "object_position": null,
            "order": null,
            "overflow": null,
            "overflow_x": null,
            "overflow_y": null,
            "padding": null,
            "right": null,
            "top": null,
            "visibility": null,
            "width": null
          }
        },
        "caa8d5394fa64687987f892910f41e0d": {
          "model_module": "@jupyter-widgets/controls",
          "model_module_version": "1.5.0",
          "model_name": "DescriptionStyleModel",
          "state": {
            "_model_module": "@jupyter-widgets/controls",
            "_model_module_version": "1.5.0",
            "_model_name": "DescriptionStyleModel",
            "_view_count": null,
            "_view_module": "@jupyter-widgets/base",
            "_view_module_version": "1.2.0",
            "_view_name": "StyleView",
            "description_width": ""
          }
        },
        "ccf23c93719e49b6ac765700b2f42f0c": {
          "model_module": "@jupyter-widgets/controls",
          "model_module_version": "1.5.0",
          "model_name": "FloatProgressModel",
          "state": {
            "_dom_classes": [],
            "_model_module": "@jupyter-widgets/controls",
            "_model_module_version": "1.5.0",
            "_model_name": "FloatProgressModel",
            "_view_count": null,
            "_view_module": "@jupyter-widgets/controls",
            "_view_module_version": "1.5.0",
            "_view_name": "ProgressView",
            "bar_style": "success",
            "description": "",
            "description_tooltip": null,
            "layout": "IPY_MODEL_b43c7b5bc9e84ba28d59567d630dab1b",
            "max": 221,
            "min": 0,
            "orientation": "horizontal",
            "style": "IPY_MODEL_9e377b96ad534549a1e705c47d338d1a",
            "value": 221
          }
        },
        "ce6b6a72b0484e4296646113e6ddafc8": {
          "model_module": "@jupyter-widgets/base",
          "model_module_version": "1.2.0",
          "model_name": "LayoutModel",
          "state": {
            "_model_module": "@jupyter-widgets/base",
            "_model_module_version": "1.2.0",
            "_model_name": "LayoutModel",
            "_view_count": null,
            "_view_module": "@jupyter-widgets/base",
            "_view_module_version": "1.2.0",
            "_view_name": "LayoutView",
            "align_content": null,
            "align_items": null,
            "align_self": null,
            "border": null,
            "bottom": null,
            "display": null,
            "flex": null,
            "flex_flow": null,
            "grid_area": null,
            "grid_auto_columns": null,
            "grid_auto_flow": null,
            "grid_auto_rows": null,
            "grid_column": null,
            "grid_gap": null,
            "grid_row": null,
            "grid_template_areas": null,
            "grid_template_columns": null,
            "grid_template_rows": null,
            "height": null,
            "justify_content": null,
            "justify_items": null,
            "left": null,
            "margin": null,
            "max_height": null,
            "max_width": null,
            "min_height": null,
            "min_width": null,
            "object_fit": null,
            "object_position": null,
            "order": null,
            "overflow": null,
            "overflow_x": null,
            "overflow_y": null,
            "padding": null,
            "right": null,
            "top": null,
            "visibility": null,
            "width": null
          }
        },
        "d16bd495dc854273a00a64fd1bdaabaf": {
          "model_module": "@jupyter-widgets/base",
          "model_module_version": "1.2.0",
          "model_name": "LayoutModel",
          "state": {
            "_model_module": "@jupyter-widgets/base",
            "_model_module_version": "1.2.0",
            "_model_name": "LayoutModel",
            "_view_count": null,
            "_view_module": "@jupyter-widgets/base",
            "_view_module_version": "1.2.0",
            "_view_name": "LayoutView",
            "align_content": null,
            "align_items": null,
            "align_self": null,
            "border": null,
            "bottom": null,
            "display": null,
            "flex": null,
            "flex_flow": null,
            "grid_area": null,
            "grid_auto_columns": null,
            "grid_auto_flow": null,
            "grid_auto_rows": null,
            "grid_column": null,
            "grid_gap": null,
            "grid_row": null,
            "grid_template_areas": null,
            "grid_template_columns": null,
            "grid_template_rows": null,
            "height": null,
            "justify_content": null,
            "justify_items": null,
            "left": null,
            "margin": null,
            "max_height": null,
            "max_width": null,
            "min_height": null,
            "min_width": null,
            "object_fit": null,
            "object_position": null,
            "order": null,
            "overflow": null,
            "overflow_x": null,
            "overflow_y": null,
            "padding": null,
            "right": null,
            "top": null,
            "visibility": null,
            "width": null
          }
        },
        "d8c7082a4a3c4c00934768612574b8bc": {
          "model_module": "@jupyter-widgets/controls",
          "model_module_version": "1.5.0",
          "model_name": "HTMLModel",
          "state": {
            "_dom_classes": [],
            "_model_module": "@jupyter-widgets/controls",
            "_model_module_version": "1.5.0",
            "_model_name": "HTMLModel",
            "_view_count": null,
            "_view_module": "@jupyter-widgets/controls",
            "_view_module_version": "1.5.0",
            "_view_name": "HTMLView",
            "description": "",
            "description_tooltip": null,
            "layout": "IPY_MODEL_6ba1afaf82dc451fa4950282dc48c507",
            "placeholder": "​",
            "style": "IPY_MODEL_2410f8bccfa2415a9634d55772539d2a",
            "value": " 221/221 [00:00&lt;00:00, 6.73kB/s]"
          }
        },
        "d909320d1e2b48f6852070ce0dcab5fd": {
          "model_module": "@jupyter-widgets/base",
          "model_module_version": "1.2.0",
          "model_name": "LayoutModel",
          "state": {
            "_model_module": "@jupyter-widgets/base",
            "_model_module_version": "1.2.0",
            "_model_name": "LayoutModel",
            "_view_count": null,
            "_view_module": "@jupyter-widgets/base",
            "_view_module_version": "1.2.0",
            "_view_name": "LayoutView",
            "align_content": null,
            "align_items": null,
            "align_self": null,
            "border": null,
            "bottom": null,
            "display": null,
            "flex": null,
            "flex_flow": null,
            "grid_area": null,
            "grid_auto_columns": null,
            "grid_auto_flow": null,
            "grid_auto_rows": null,
            "grid_column": null,
            "grid_gap": null,
            "grid_row": null,
            "grid_template_areas": null,
            "grid_template_columns": null,
            "grid_template_rows": null,
            "height": null,
            "justify_content": null,
            "justify_items": null,
            "left": null,
            "margin": null,
            "max_height": null,
            "max_width": null,
            "min_height": null,
            "min_width": null,
            "object_fit": null,
            "object_position": null,
            "order": null,
            "overflow": null,
            "overflow_x": null,
            "overflow_y": null,
            "padding": null,
            "right": null,
            "top": null,
            "visibility": null,
            "width": null
          }
        },
        "dcc23943f89f4798850f9c9a2fe4bb91": {
          "model_module": "@jupyter-widgets/controls",
          "model_module_version": "1.5.0",
          "model_name": "HTMLModel",
          "state": {
            "_dom_classes": [],
            "_model_module": "@jupyter-widgets/controls",
            "_model_module_version": "1.5.0",
            "_model_name": "HTMLModel",
            "_view_count": null,
            "_view_module": "@jupyter-widgets/controls",
            "_view_module_version": "1.5.0",
            "_view_name": "HTMLView",
            "description": "",
            "description_tooltip": null,
            "layout": "IPY_MODEL_f7fd90b16376422485431c7cf217c9d3",
            "placeholder": "​",
            "style": "IPY_MODEL_08e9f9b71189443d885c54ca639dac05",
            "value": " 832/832 [00:00&lt;00:00, 41.9kB/s]"
          }
        },
        "dd42c05bc37246188bc97a40d2744645": {
          "model_module": "@jupyter-widgets/controls",
          "model_module_version": "1.5.0",
          "model_name": "DescriptionStyleModel",
          "state": {
            "_model_module": "@jupyter-widgets/controls",
            "_model_module_version": "1.5.0",
            "_model_name": "DescriptionStyleModel",
            "_view_count": null,
            "_view_module": "@jupyter-widgets/base",
            "_view_module_version": "1.2.0",
            "_view_name": "StyleView",
            "description_width": ""
          }
        },
        "e0003db037fa456a8cee5f6d61a3797a": {
          "model_module": "@jupyter-widgets/controls",
          "model_module_version": "1.5.0",
          "model_name": "FloatProgressModel",
          "state": {
            "_dom_classes": [],
            "_model_module": "@jupyter-widgets/controls",
            "_model_module_version": "1.5.0",
            "_model_name": "FloatProgressModel",
            "_view_count": null,
            "_view_module": "@jupyter-widgets/controls",
            "_view_module_version": "1.5.0",
            "_view_name": "ProgressView",
            "bar_style": "success",
            "description": "",
            "description_tooltip": null,
            "layout": "IPY_MODEL_99ef3a40f4984c889531a98fb972465b",
            "max": 498,
            "min": 0,
            "orientation": "horizontal",
            "style": "IPY_MODEL_330dc6fa46bd47afa2e5628df2e7faa7",
            "value": 498
          }
        },
        "e162af6196f142088f8016f95410e140": {
          "model_module": "@jupyter-widgets/controls",
          "model_module_version": "1.5.0",
          "model_name": "HBoxModel",
          "state": {
            "_dom_classes": [],
            "_model_module": "@jupyter-widgets/controls",
            "_model_module_version": "1.5.0",
            "_model_name": "HBoxModel",
            "_view_count": null,
            "_view_module": "@jupyter-widgets/controls",
            "_view_module_version": "1.5.0",
            "_view_name": "HBoxView",
            "box_style": "",
            "children": [
              "IPY_MODEL_aa5d5e12d13d4022b88aaf374d4f7128",
              "IPY_MODEL_ccf23c93719e49b6ac765700b2f42f0c",
              "IPY_MODEL_d8c7082a4a3c4c00934768612574b8bc"
            ],
            "layout": "IPY_MODEL_1e8362ed5d944dd9996eb4111c958c12"
          }
        },
        "e166524f1e3345129adce4d7da896237": {
          "model_module": "@jupyter-widgets/controls",
          "model_module_version": "1.5.0",
          "model_name": "ProgressStyleModel",
          "state": {
            "_model_module": "@jupyter-widgets/controls",
            "_model_module_version": "1.5.0",
            "_model_name": "ProgressStyleModel",
            "_view_count": null,
            "_view_module": "@jupyter-widgets/base",
            "_view_module_version": "1.2.0",
            "_view_name": "StyleView",
            "bar_color": null,
            "description_width": ""
          }
        },
        "e219f20f37934c7fad7262eac343530e": {
          "model_module": "@jupyter-widgets/controls",
          "model_module_version": "1.5.0",
          "model_name": "DescriptionStyleModel",
          "state": {
            "_model_module": "@jupyter-widgets/controls",
            "_model_module_version": "1.5.0",
            "_model_name": "DescriptionStyleModel",
            "_view_count": null,
            "_view_module": "@jupyter-widgets/base",
            "_view_module_version": "1.2.0",
            "_view_name": "StyleView",
            "description_width": ""
          }
        },
        "e6b54ec7d6ed4bbe8c9322747494ce4c": {
          "model_module": "@jupyter-widgets/controls",
          "model_module_version": "1.5.0",
          "model_name": "HTMLModel",
          "state": {
            "_dom_classes": [],
            "_model_module": "@jupyter-widgets/controls",
            "_model_module_version": "1.5.0",
            "_model_name": "HTMLModel",
            "_view_count": null,
            "_view_module": "@jupyter-widgets/controls",
            "_view_module_version": "1.5.0",
            "_view_name": "HTMLView",
            "description": "",
            "description_tooltip": null,
            "layout": "IPY_MODEL_f4126b3ca5e2449e91eac7c7ea6662ec",
            "placeholder": "​",
            "style": "IPY_MODEL_fec9228c28b845d4b3b17e964a3f8cf2",
            "value": "Downloading (…)okenizer_config.json: 100%"
          }
        },
        "e8d75d440d144d0ebada01585f8cc03f": {
          "model_module": "@jupyter-widgets/controls",
          "model_module_version": "1.5.0",
          "model_name": "HBoxModel",
          "state": {
            "_dom_classes": [],
            "_model_module": "@jupyter-widgets/controls",
            "_model_module_version": "1.5.0",
            "_model_name": "HBoxModel",
            "_view_count": null,
            "_view_module": "@jupyter-widgets/controls",
            "_view_module_version": "1.5.0",
            "_view_name": "HBoxView",
            "box_style": "",
            "children": [
              "IPY_MODEL_e6b54ec7d6ed4bbe8c9322747494ce4c",
              "IPY_MODEL_ed7120c3970448369e6cb60e186e39b2",
              "IPY_MODEL_a46ad541cc1e4db3974f0459bf2d784a"
            ],
            "layout": "IPY_MODEL_c59812494a8e48f1941b77eab5059efe"
          }
        },
        "eac842939b614f2a868ef8e2e8c4a502": {
          "model_module": "@jupyter-widgets/base",
          "model_module_version": "1.2.0",
          "model_name": "LayoutModel",
          "state": {
            "_model_module": "@jupyter-widgets/base",
            "_model_module_version": "1.2.0",
            "_model_name": "LayoutModel",
            "_view_count": null,
            "_view_module": "@jupyter-widgets/base",
            "_view_module_version": "1.2.0",
            "_view_name": "LayoutView",
            "align_content": null,
            "align_items": null,
            "align_self": null,
            "border": null,
            "bottom": null,
            "display": null,
            "flex": null,
            "flex_flow": null,
            "grid_area": null,
            "grid_auto_columns": null,
            "grid_auto_flow": null,
            "grid_auto_rows": null,
            "grid_column": null,
            "grid_gap": null,
            "grid_row": null,
            "grid_template_areas": null,
            "grid_template_columns": null,
            "grid_template_rows": null,
            "height": null,
            "justify_content": null,
            "justify_items": null,
            "left": null,
            "margin": null,
            "max_height": null,
            "max_width": null,
            "min_height": null,
            "min_width": null,
            "object_fit": null,
            "object_position": null,
            "order": null,
            "overflow": null,
            "overflow_x": null,
            "overflow_y": null,
            "padding": null,
            "right": null,
            "top": null,
            "visibility": null,
            "width": null
          }
        },
        "ed7120c3970448369e6cb60e186e39b2": {
          "model_module": "@jupyter-widgets/controls",
          "model_module_version": "1.5.0",
          "model_name": "FloatProgressModel",
          "state": {
            "_dom_classes": [],
            "_model_module": "@jupyter-widgets/controls",
            "_model_module_version": "1.5.0",
            "_model_name": "FloatProgressModel",
            "_view_count": null,
            "_view_module": "@jupyter-widgets/controls",
            "_view_module_version": "1.5.0",
            "_view_name": "ProgressView",
            "bar_style": "success",
            "description": "",
            "description_tooltip": null,
            "layout": "IPY_MODEL_be9f01787c8844fcbb07c951f55d0e52",
            "max": 29,
            "min": 0,
            "orientation": "horizontal",
            "style": "IPY_MODEL_7d9a7538ef274776b079c6b57d53511b",
            "value": 29
          }
        },
        "f2f9be96aff2434280c59102a1dfd555": {
          "model_module": "@jupyter-widgets/controls",
          "model_module_version": "1.5.0",
          "model_name": "ProgressStyleModel",
          "state": {
            "_model_module": "@jupyter-widgets/controls",
            "_model_module_version": "1.5.0",
            "_model_name": "ProgressStyleModel",
            "_view_count": null,
            "_view_module": "@jupyter-widgets/base",
            "_view_module_version": "1.2.0",
            "_view_name": "StyleView",
            "bar_color": null,
            "description_width": ""
          }
        },
        "f4126b3ca5e2449e91eac7c7ea6662ec": {
          "model_module": "@jupyter-widgets/base",
          "model_module_version": "1.2.0",
          "model_name": "LayoutModel",
          "state": {
            "_model_module": "@jupyter-widgets/base",
            "_model_module_version": "1.2.0",
            "_model_name": "LayoutModel",
            "_view_count": null,
            "_view_module": "@jupyter-widgets/base",
            "_view_module_version": "1.2.0",
            "_view_name": "LayoutView",
            "align_content": null,
            "align_items": null,
            "align_self": null,
            "border": null,
            "bottom": null,
            "display": null,
            "flex": null,
            "flex_flow": null,
            "grid_area": null,
            "grid_auto_columns": null,
            "grid_auto_flow": null,
            "grid_auto_rows": null,
            "grid_column": null,
            "grid_gap": null,
            "grid_row": null,
            "grid_template_areas": null,
            "grid_template_columns": null,
            "grid_template_rows": null,
            "height": null,
            "justify_content": null,
            "justify_items": null,
            "left": null,
            "margin": null,
            "max_height": null,
            "max_width": null,
            "min_height": null,
            "min_width": null,
            "object_fit": null,
            "object_position": null,
            "order": null,
            "overflow": null,
            "overflow_x": null,
            "overflow_y": null,
            "padding": null,
            "right": null,
            "top": null,
            "visibility": null,
            "width": null
          }
        },
        "f7e5524f044f4924b64e5b774bab72a0": {
          "model_module": "@jupyter-widgets/base",
          "model_module_version": "1.2.0",
          "model_name": "LayoutModel",
          "state": {
            "_model_module": "@jupyter-widgets/base",
            "_model_module_version": "1.2.0",
            "_model_name": "LayoutModel",
            "_view_count": null,
            "_view_module": "@jupyter-widgets/base",
            "_view_module_version": "1.2.0",
            "_view_name": "LayoutView",
            "align_content": null,
            "align_items": null,
            "align_self": null,
            "border": null,
            "bottom": null,
            "display": null,
            "flex": null,
            "flex_flow": null,
            "grid_area": null,
            "grid_auto_columns": null,
            "grid_auto_flow": null,
            "grid_auto_rows": null,
            "grid_column": null,
            "grid_gap": null,
            "grid_row": null,
            "grid_template_areas": null,
            "grid_template_columns": null,
            "grid_template_rows": null,
            "height": null,
            "justify_content": null,
            "justify_items": null,
            "left": null,
            "margin": null,
            "max_height": null,
            "max_width": null,
            "min_height": null,
            "min_width": null,
            "object_fit": null,
            "object_position": null,
            "order": null,
            "overflow": null,
            "overflow_x": null,
            "overflow_y": null,
            "padding": null,
            "right": null,
            "top": null,
            "visibility": null,
            "width": null
          }
        },
        "f7fd90b16376422485431c7cf217c9d3": {
          "model_module": "@jupyter-widgets/base",
          "model_module_version": "1.2.0",
          "model_name": "LayoutModel",
          "state": {
            "_model_module": "@jupyter-widgets/base",
            "_model_module_version": "1.2.0",
            "_model_name": "LayoutModel",
            "_view_count": null,
            "_view_module": "@jupyter-widgets/base",
            "_view_module_version": "1.2.0",
            "_view_name": "LayoutView",
            "align_content": null,
            "align_items": null,
            "align_self": null,
            "border": null,
            "bottom": null,
            "display": null,
            "flex": null,
            "flex_flow": null,
            "grid_area": null,
            "grid_auto_columns": null,
            "grid_auto_flow": null,
            "grid_auto_rows": null,
            "grid_column": null,
            "grid_gap": null,
            "grid_row": null,
            "grid_template_areas": null,
            "grid_template_columns": null,
            "grid_template_rows": null,
            "height": null,
            "justify_content": null,
            "justify_items": null,
            "left": null,
            "margin": null,
            "max_height": null,
            "max_width": null,
            "min_height": null,
            "min_width": null,
            "object_fit": null,
            "object_position": null,
            "order": null,
            "overflow": null,
            "overflow_x": null,
            "overflow_y": null,
            "padding": null,
            "right": null,
            "top": null,
            "visibility": null,
            "width": null
          }
        },
        "f9ad549a74874660935c628c6658a87f": {
          "model_module": "@jupyter-widgets/base",
          "model_module_version": "1.2.0",
          "model_name": "LayoutModel",
          "state": {
            "_model_module": "@jupyter-widgets/base",
            "_model_module_version": "1.2.0",
            "_model_name": "LayoutModel",
            "_view_count": null,
            "_view_module": "@jupyter-widgets/base",
            "_view_module_version": "1.2.0",
            "_view_name": "LayoutView",
            "align_content": null,
            "align_items": null,
            "align_self": null,
            "border": null,
            "bottom": null,
            "display": null,
            "flex": null,
            "flex_flow": null,
            "grid_area": null,
            "grid_auto_columns": null,
            "grid_auto_flow": null,
            "grid_auto_rows": null,
            "grid_column": null,
            "grid_gap": null,
            "grid_row": null,
            "grid_template_areas": null,
            "grid_template_columns": null,
            "grid_template_rows": null,
            "height": null,
            "justify_content": null,
            "justify_items": null,
            "left": null,
            "margin": null,
            "max_height": null,
            "max_width": null,
            "min_height": null,
            "min_width": null,
            "object_fit": null,
            "object_position": null,
            "order": null,
            "overflow": null,
            "overflow_x": null,
            "overflow_y": null,
            "padding": null,
            "right": null,
            "top": null,
            "visibility": null,
            "width": null
          }
        },
        "faaecd49d0fd47a19318556bd3a78b29": {
          "model_module": "@jupyter-widgets/controls",
          "model_module_version": "1.5.0",
          "model_name": "DescriptionStyleModel",
          "state": {
            "_model_module": "@jupyter-widgets/controls",
            "_model_module_version": "1.5.0",
            "_model_name": "DescriptionStyleModel",
            "_view_count": null,
            "_view_module": "@jupyter-widgets/base",
            "_view_module_version": "1.2.0",
            "_view_name": "StyleView",
            "description_width": ""
          }
        },
        "fb7bf15cb49b4d12855cf18f25b26583": {
          "model_module": "@jupyter-widgets/base",
          "model_module_version": "1.2.0",
          "model_name": "LayoutModel",
          "state": {
            "_model_module": "@jupyter-widgets/base",
            "_model_module_version": "1.2.0",
            "_model_name": "LayoutModel",
            "_view_count": null,
            "_view_module": "@jupyter-widgets/base",
            "_view_module_version": "1.2.0",
            "_view_name": "LayoutView",
            "align_content": null,
            "align_items": null,
            "align_self": null,
            "border": null,
            "bottom": null,
            "display": null,
            "flex": null,
            "flex_flow": null,
            "grid_area": null,
            "grid_auto_columns": null,
            "grid_auto_flow": null,
            "grid_auto_rows": null,
            "grid_column": null,
            "grid_gap": null,
            "grid_row": null,
            "grid_template_areas": null,
            "grid_template_columns": null,
            "grid_template_rows": null,
            "height": null,
            "justify_content": null,
            "justify_items": null,
            "left": null,
            "margin": null,
            "max_height": null,
            "max_width": null,
            "min_height": null,
            "min_width": null,
            "object_fit": null,
            "object_position": null,
            "order": null,
            "overflow": null,
            "overflow_x": null,
            "overflow_y": null,
            "padding": null,
            "right": null,
            "top": null,
            "visibility": null,
            "width": null
          }
        },
        "fe4ec796a3e94c8991ebdaaccc8a15d8": {
          "model_module": "@jupyter-widgets/controls",
          "model_module_version": "1.5.0",
          "model_name": "DescriptionStyleModel",
          "state": {
            "_model_module": "@jupyter-widgets/controls",
            "_model_module_version": "1.5.0",
            "_model_name": "DescriptionStyleModel",
            "_view_count": null,
            "_view_module": "@jupyter-widgets/base",
            "_view_module_version": "1.2.0",
            "_view_name": "StyleView",
            "description_width": ""
          }
        },
        "fec9228c28b845d4b3b17e964a3f8cf2": {
          "model_module": "@jupyter-widgets/controls",
          "model_module_version": "1.5.0",
          "model_name": "DescriptionStyleModel",
          "state": {
            "_model_module": "@jupyter-widgets/controls",
            "_model_module_version": "1.5.0",
            "_model_name": "DescriptionStyleModel",
            "_view_count": null,
            "_view_module": "@jupyter-widgets/base",
            "_view_module_version": "1.2.0",
            "_view_name": "StyleView",
            "description_width": ""
          }
        },
        "feddaaaa3ed84353916f33ac34cb55e5": {
          "model_module": "@jupyter-widgets/controls",
          "model_module_version": "1.5.0",
          "model_name": "HTMLModel",
          "state": {
            "_dom_classes": [],
            "_model_module": "@jupyter-widgets/controls",
            "_model_module_version": "1.5.0",
            "_model_name": "HTMLModel",
            "_view_count": null,
            "_view_module": "@jupyter-widgets/controls",
            "_view_module_version": "1.5.0",
            "_view_name": "HTMLView",
            "description": "",
            "description_tooltip": null,
            "layout": "IPY_MODEL_bce97831902a4bf29f255625d0b7e202",
            "placeholder": "​",
            "style": "IPY_MODEL_a4df9e502b73420c903c5a3b80bacd83",
            "value": "Downloading (…)solve/main/vocab.txt: 100%"
          }
        }
      }
    }
  },
  "nbformat": 4,
  "nbformat_minor": 0
}
